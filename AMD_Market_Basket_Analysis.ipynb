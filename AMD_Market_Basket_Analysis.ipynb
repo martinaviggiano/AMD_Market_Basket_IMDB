{
  "nbformat": 4,
  "nbformat_minor": 0,
  "metadata": {
    "colab": {
      "name": "AMD_Market_Basket_Analysis.ipynb",
      "provenance": [],
      "collapsed_sections": []
    },
    "kernelspec": {
      "name": "python3",
      "display_name": "Python 3"
    },
    "language_info": {
      "name": "python"
    }
  },
  "cells": [
    {
      "cell_type": "markdown",
      "metadata": {
        "id": "msXVLv8PwO5z"
      },
      "source": [
        "# **MARKET BASKET ANALYSIS ON IMBD DATASET**\n",
        "## Algorithms for Massive Datasets Project\n",
        "\n",
        "In this project we will implement A-priori and FP-growth algorithms to in order to find frequent itemsets. In this case, we used the kaggle [IMDB Dataset](https://www.kaggle.com/ashirwadsangwan/imdb-dataset), in which we considered movies as baskets and actors as items."
      ]
    },
    {
      "cell_type": "markdown",
      "metadata": {
        "id": "X5B7jZH-jrFI"
      },
      "source": [
        "----\n",
        "\n",
        "Summary:\n",
        "\n",
        "1.   Imports\n",
        "2.   Pre-Processing\n",
        "3.   Market Basket Analysis\n",
        "\n",
        "\n",
        "\n"
      ]
    },
    {
      "cell_type": "markdown",
      "metadata": {
        "id": "2cnBq7RKjnxH"
      },
      "source": [
        "## **1. Imports**"
      ]
    },
    {
      "cell_type": "markdown",
      "metadata": {
        "id": "cUiUNYbjZxYL"
      },
      "source": [
        "Importing kaggle."
      ]
    },
    {
      "cell_type": "code",
      "metadata": {
        "id": "vIpNOJWqzjUH"
      },
      "source": [
        "!pip install -q kaggle"
      ],
      "execution_count": 1,
      "outputs": []
    },
    {
      "cell_type": "code",
      "metadata": {
        "colab": {
          "resources": {
            "http://localhost:8080/nbextensions/google.colab/files.js": {
              "data": "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",
              "ok": true,
              "headers": [
                [
                  "content-type",
                  "application/javascript"
                ]
              ],
              "status": 200,
              "status_text": ""
            }
          },
          "base_uri": "https://localhost:8080/",
          "height": 73
        },
        "id": "0__NgmMkdAar",
        "outputId": "f89f52b2-066a-4ac6-c3b9-2d4d3ae10981"
      },
      "source": [
        "from google.colab import files\n",
        "files.upload()"
      ],
      "execution_count": 2,
      "outputs": [
        {
          "output_type": "display_data",
          "data": {
            "text/html": [
              "\n",
              "     <input type=\"file\" id=\"files-286458b3-259b-4362-bc5e-5205705cd5c7\" name=\"files[]\" multiple disabled\n",
              "        style=\"border:none\" />\n",
              "     <output id=\"result-286458b3-259b-4362-bc5e-5205705cd5c7\">\n",
              "      Upload widget is only available when the cell has been executed in the\n",
              "      current browser session. Please rerun this cell to enable.\n",
              "      </output>\n",
              "      <script src=\"/nbextensions/google.colab/files.js\"></script> "
            ],
            "text/plain": [
              "<IPython.core.display.HTML object>"
            ]
          },
          "metadata": {}
        },
        {
          "output_type": "stream",
          "name": "stdout",
          "text": [
            "Saving kaggle.json to kaggle.json\n"
          ]
        },
        {
          "output_type": "execute_result",
          "data": {
            "text/plain": [
              "{'kaggle.json': b'{\"username\":\"martinaviggiano\",\"key\":\"53a50dae23b35b3c81b9063b6c417e93\"}'}"
            ]
          },
          "metadata": {},
          "execution_count": 2
        }
      ]
    },
    {
      "cell_type": "code",
      "metadata": {
        "colab": {
          "base_uri": "https://localhost:8080/"
        },
        "id": "zsNHprlzuK6i",
        "outputId": "28f41812-a97e-4b79-bfbe-eeb83cd6d037"
      },
      "source": [
        "from google.colab import drive\n",
        "drive.mount('/content/drive')"
      ],
      "execution_count": 3,
      "outputs": [
        {
          "output_type": "stream",
          "name": "stdout",
          "text": [
            "Mounted at /content/drive\n"
          ]
        }
      ]
    },
    {
      "cell_type": "code",
      "metadata": {
        "id": "2h9ho1WWyVoK"
      },
      "source": [
        "!pip install -q kaggle\n",
        "!mkdir -p ~/.kaggle\n",
        "!cp kaggle.json ~/.kaggle/\n",
        "!chmod 600 ~/.kaggle/kaggle.json"
      ],
      "execution_count": 4,
      "outputs": []
    },
    {
      "cell_type": "markdown",
      "metadata": {
        "id": "-tJO_FB_Z1yg"
      },
      "source": [
        "Importing imdb-dataset data."
      ]
    },
    {
      "cell_type": "code",
      "metadata": {
        "colab": {
          "base_uri": "https://localhost:8080/"
        },
        "id": "ATu-IXLtcH8E",
        "outputId": "2a781881-94c3-4d2f-faa0-1b7d841c1ad2"
      },
      "source": [
        "!kaggle datasets download -d ashirwadsangwan/imdb-dataset"
      ],
      "execution_count": 5,
      "outputs": [
        {
          "output_type": "stream",
          "name": "stdout",
          "text": [
            "Downloading imdb-dataset.zip to /content\n",
            " 99% 1.43G/1.44G [00:13<00:00, 118MB/s]\n",
            "100% 1.44G/1.44G [00:13<00:00, 112MB/s]\n"
          ]
        }
      ]
    },
    {
      "cell_type": "code",
      "metadata": {
        "colab": {
          "base_uri": "https://localhost:8080/"
        },
        "id": "DrOo9X470XhM",
        "outputId": "2ba2fa2d-7bde-4b32-dab6-bdd7c32cfeed"
      },
      "source": [
        "!unzip imdb-dataset.zip"
      ],
      "execution_count": 6,
      "outputs": [
        {
          "output_type": "stream",
          "name": "stdout",
          "text": [
            "Archive:  imdb-dataset.zip\n",
            "  inflating: name.basics.tsv.gz      \n",
            "  inflating: name.basics.tsv/name.basics.tsv  \n",
            "  inflating: title.akas.tsv.gz       \n",
            "  inflating: title.akas.tsv/title.akas.tsv  \n",
            "  inflating: title.basics.tsv.gz     \n",
            "  inflating: title.basics.tsv/title.basics.tsv  \n",
            "  inflating: title.principals.tsv.gz  \n",
            "  inflating: title.principals.tsv/title.principals.tsv  \n",
            "  inflating: title.ratings.tsv.gz    \n",
            "  inflating: title.ratings.tsv/title.ratings.tsv  \n"
          ]
        }
      ]
    },
    {
      "cell_type": "markdown",
      "metadata": {
        "id": "RXZTtMpSjcbx"
      },
      "source": [
        "## **2. Pre-processing**"
      ]
    },
    {
      "cell_type": "markdown",
      "metadata": {
        "id": "ybMLsuo0jilP"
      },
      "source": [
        "We will consider movies as baskets and actors as items.\n"
      ]
    },
    {
      "cell_type": "code",
      "metadata": {
        "colab": {
          "base_uri": "https://localhost:8080/"
        },
        "id": "8THQYAsT7XjU",
        "outputId": "bc32541c-2482-4d82-c5e2-13549b38532a"
      },
      "source": [
        "!pip install pyspark"
      ],
      "execution_count": 7,
      "outputs": [
        {
          "output_type": "stream",
          "name": "stdout",
          "text": [
            "Collecting pyspark\n",
            "  Downloading pyspark-3.2.0.tar.gz (281.3 MB)\n",
            "\u001b[K     |████████████████████████████████| 281.3 MB 43 kB/s \n",
            "\u001b[?25hCollecting py4j==0.10.9.2\n",
            "  Downloading py4j-0.10.9.2-py2.py3-none-any.whl (198 kB)\n",
            "\u001b[K     |████████████████████████████████| 198 kB 35.4 MB/s \n",
            "\u001b[?25hBuilding wheels for collected packages: pyspark\n",
            "  Building wheel for pyspark (setup.py) ... \u001b[?25l\u001b[?25hdone\n",
            "  Created wheel for pyspark: filename=pyspark-3.2.0-py2.py3-none-any.whl size=281805912 sha256=323f8d22ddf23add96fefafa1a999fd8cc8cc86851488581686d7194862f9f92\n",
            "  Stored in directory: /root/.cache/pip/wheels/0b/de/d2/9be5d59d7331c6c2a7c1b6d1a4f463ce107332b1ecd4e80718\n",
            "Successfully built pyspark\n",
            "Installing collected packages: py4j, pyspark\n",
            "Successfully installed py4j-0.10.9.2 pyspark-3.2.0\n"
          ]
        }
      ]
    },
    {
      "cell_type": "code",
      "metadata": {
        "id": "jF-QssAEY1_H"
      },
      "source": [
        "from pyspark.sql import SparkSession\n",
        "from pyspark import SparkConf, SparkContext\n",
        "import pandas as pd\n",
        "import pickle"
      ],
      "execution_count": 8,
      "outputs": []
    },
    {
      "cell_type": "code",
      "metadata": {
        "id": "UWbcbCY7ZBRT"
      },
      "source": [
        "spark = SparkSession.builder.enableHiveSupport().getOrCreate()"
      ],
      "execution_count": 9,
      "outputs": []
    },
    {
      "cell_type": "code",
      "metadata": {
        "id": "dC-GxEHMzCyN"
      },
      "source": [
        "title_basics = spark.read.csv('title.basics.tsv.gz', header=True, sep = '\\t')"
      ],
      "execution_count": 10,
      "outputs": []
    },
    {
      "cell_type": "code",
      "metadata": {
        "colab": {
          "base_uri": "https://localhost:8080/"
        },
        "id": "U3Bzf3cw1QI-",
        "outputId": "f5a66dd6-8924-4e42-ab13-33d1eaf251c7"
      },
      "source": [
        "title_basics = title_basics.filter((title_basics.titleType == 'movie'))\n",
        "title_basics.show(5)"
      ],
      "execution_count": 11,
      "outputs": [
        {
          "output_type": "stream",
          "name": "stdout",
          "text": [
            "+---------+---------+--------------------+--------------------+-------+---------+-------+--------------+--------------------+\n",
            "|   tconst|titleType|        primaryTitle|       originalTitle|isAdult|startYear|endYear|runtimeMinutes|              genres|\n",
            "+---------+---------+--------------------+--------------------+-------+---------+-------+--------------+--------------------+\n",
            "|tt0000009|    movie|          Miss Jerry|          Miss Jerry|      0|     1894|     \\N|            45|             Romance|\n",
            "|tt0000147|    movie|The Corbett-Fitzs...|The Corbett-Fitzs...|      0|     1897|     \\N|            20|Documentary,News,...|\n",
            "|tt0000335|    movie|Soldiers of the C...|Soldiers of the C...|      0|     1900|     \\N|            \\N|     Biography,Drama|\n",
            "|tt0000502|    movie|            Bohemios|            Bohemios|      0|     1905|     \\N|           100|                  \\N|\n",
            "|tt0000574|    movie|The Story of the ...|The Story of the ...|      0|     1906|     \\N|            70|Biography,Crime,D...|\n",
            "+---------+---------+--------------------+--------------------+-------+---------+-------+--------------+--------------------+\n",
            "only showing top 5 rows\n",
            "\n"
          ]
        }
      ]
    },
    {
      "cell_type": "code",
      "metadata": {
        "id": "VfY72Sldg3S7"
      },
      "source": [
        "title_basics_fraction = title_basics.sample(fraction=0.1, withReplacement=False, seed = 24)"
      ],
      "execution_count": 12,
      "outputs": []
    },
    {
      "cell_type": "code",
      "metadata": {
        "id": "1CAsJ1ARklE6"
      },
      "source": [
        "title_principals = spark.read.csv('title.principals.tsv.gz', header=True, sep = '\\t')"
      ],
      "execution_count": 13,
      "outputs": []
    },
    {
      "cell_type": "code",
      "metadata": {
        "id": "VMMA_xwIlPgA",
        "colab": {
          "base_uri": "https://localhost:8080/"
        },
        "outputId": "6399a8ad-e69d-4427-c60f-0fb26e31bfd5"
      },
      "source": [
        "title_principals = title_principals.filter((title_principals.category == \"actor\") | (title_principals.category == \"actress\"))\n",
        "title_principals = title_principals.select(\"tconst\",\"nconst\")\n",
        "title_principals.show(5)"
      ],
      "execution_count": 14,
      "outputs": [
        {
          "output_type": "stream",
          "name": "stdout",
          "text": [
            "+---------+---------+\n",
            "|   tconst|   nconst|\n",
            "+---------+---------+\n",
            "|tt0000005|nm0443482|\n",
            "|tt0000005|nm0653042|\n",
            "|tt0000007|nm0179163|\n",
            "|tt0000007|nm0183947|\n",
            "|tt0000008|nm0653028|\n",
            "+---------+---------+\n",
            "only showing top 5 rows\n",
            "\n"
          ]
        }
      ]
    },
    {
      "cell_type": "code",
      "metadata": {
        "id": "Km_DK4UtcR4Z",
        "colab": {
          "base_uri": "https://localhost:8080/"
        },
        "outputId": "8b2b67d5-0b0d-4fce-ad39-5b0f3bad0b38"
      },
      "source": [
        "df_title = title_principals.join(title_basics, [\"tconst\"], 'leftsemi')\n",
        "df_title_fraction = title_principals.join(title_basics_fraction, [\"tconst\"], 'leftsemi')\n",
        "df_title.show(5)"
      ],
      "execution_count": 15,
      "outputs": [
        {
          "output_type": "stream",
          "name": "stdout",
          "text": [
            "+---------+---------+\n",
            "|   tconst|   nconst|\n",
            "+---------+---------+\n",
            "|tt0000335|nm1010955|\n",
            "|tt0000335|nm1012612|\n",
            "|tt0000335|nm1011210|\n",
            "|tt0000335|nm1012621|\n",
            "|tt0000335|nm0675239|\n",
            "+---------+---------+\n",
            "only showing top 5 rows\n",
            "\n"
          ]
        }
      ]
    },
    {
      "cell_type": "code",
      "metadata": {
        "id": "YifSXphplQ9u"
      },
      "source": [
        "name_basics = spark.read.csv('name.basics.tsv.gz', header=True, sep = '\\t')"
      ],
      "execution_count": 16,
      "outputs": []
    },
    {
      "cell_type": "code",
      "metadata": {
        "colab": {
          "base_uri": "https://localhost:8080/"
        },
        "id": "OY3X-6swwZ8b",
        "outputId": "11e3fef5-2c0d-4deb-ad34-ed9b421ecf2f"
      },
      "source": [
        "# Number of rows (movies) in the entire dataset\n",
        "df_title.count()"
      ],
      "execution_count": 17,
      "outputs": [
        {
          "output_type": "execute_result",
          "data": {
            "text/plain": [
              "1694722"
            ]
          },
          "metadata": {},
          "execution_count": 17
        }
      ]
    },
    {
      "cell_type": "code",
      "metadata": {
        "colab": {
          "base_uri": "https://localhost:8080/"
        },
        "id": "9P6IrFeJhlf1",
        "outputId": "dc8bb8a2-1a8e-42f9-b5ce-069e3adbe9ae"
      },
      "source": [
        "# Number of rows (movies) in the dataset fraction 0.1\n",
        "df_title_fraction.count()  "
      ],
      "execution_count": 18,
      "outputs": [
        {
          "output_type": "execute_result",
          "data": {
            "text/plain": [
              "168642"
            ]
          },
          "metadata": {},
          "execution_count": 18
        }
      ]
    },
    {
      "cell_type": "markdown",
      "metadata": {
        "id": "wH1JINs8t0WS"
      },
      "source": [
        "## **3. Market Basket Analysis**"
      ]
    },
    {
      "cell_type": "markdown",
      "metadata": {
        "id": "_Gx6rM-wvPoa"
      },
      "source": [
        "We define and populate baskets: for each movie (*tconst*) we assign the list of actors (*nconst*) preforming in it."
      ]
    },
    {
      "cell_type": "code",
      "metadata": {
        "id": "eYu6MRyot-ES"
      },
      "source": [
        "from pyspark.sql.functions import collect_set, col, count, avg\n",
        "from pyspark.ml.fpm import FPGrowth\n",
        "import pandas as pd\n",
        "import time\n",
        "from tqdm import tqdm"
      ],
      "execution_count": 19,
      "outputs": []
    },
    {
      "cell_type": "code",
      "metadata": {
        "id": "Sdk9aDOziw-V",
        "colab": {
          "base_uri": "https://localhost:8080/"
        },
        "outputId": "343e8b1c-f8a7-4147-cd75-a3662a5b350c"
      },
      "source": [
        "# Computed on the whole df\n",
        "baskets = df_title.groupBy('tconst').agg(collect_set('nconst').alias('actors'))\n",
        "baskets.createOrReplaceTempView('baskets')\n",
        "baskets.show(5)"
      ],
      "execution_count": 20,
      "outputs": [
        {
          "output_type": "stream",
          "name": "stdout",
          "text": [
            "+---------+--------------------+\n",
            "|   tconst|              actors|\n",
            "+---------+--------------------+\n",
            "|tt0000335|[nm1012612, nm067...|\n",
            "|tt0000630|         [nm0624446]|\n",
            "|tt0000676|[nm0140054, nm009...|\n",
            "|tt0000793|         [nm0691995]|\n",
            "|tt0000862|[nm0264569, nm528...|\n",
            "+---------+--------------------+\n",
            "only showing top 5 rows\n",
            "\n"
          ]
        }
      ]
    },
    {
      "cell_type": "code",
      "metadata": {
        "id": "IgWMOB_gMPyW",
        "colab": {
          "base_uri": "https://localhost:8080/"
        },
        "outputId": "35751c0a-bcb6-4b57-e056-21fac2294684"
      },
      "source": [
        "# Computed on 0.1 fraction\n",
        "baskets_fraction = df_title_fraction.groupBy('tconst').agg(collect_set('nconst').alias('actors'))\n",
        "baskets_fraction.createOrReplaceTempView('baskets_fraction')\n",
        "baskets_fraction.show(5)"
      ],
      "execution_count": 21,
      "outputs": [
        {
          "output_type": "stream",
          "name": "stdout",
          "text": [
            "+---------+--------------------+\n",
            "|   tconst|              actors|\n",
            "+---------+--------------------+\n",
            "|tt0000630|         [nm0624446]|\n",
            "|tt0001112|[nm0135493, nm014...|\n",
            "|tt0001370|[nm0105501, nm089...|\n",
            "|tt0001381|[nm2547818, nm052...|\n",
            "|tt0001569|         [nm0681933]|\n",
            "+---------+--------------------+\n",
            "only showing top 5 rows\n",
            "\n"
          ]
        }
      ]
    },
    {
      "cell_type": "markdown",
      "metadata": {
        "id": "7VhVy6zBwJwh"
      },
      "source": [
        "### **3.1 FP-Growth**\n",
        "In this section we will implement the FP-Growth algorithm by using the *FPGrowth* function of Spark.\n",
        "\n",
        "First we will run it using different values of support to see the differences in terms of time spent in computation and average confidence."
      ]
    },
    {
      "cell_type": "code",
      "metadata": {
        "colab": {
          "base_uri": "https://localhost:8080/"
        },
        "id": "ijhbkq98mg-h",
        "outputId": "5d19225e-27fa-4881-b600-df6cdcc60c24"
      },
      "source": [
        "# 5 values of support with respect to time spent in computation\n",
        "seconds = []\n",
        "confidences = []\n",
        "n_rules = []\n",
        "supports = [0.00001, 0.00002, 0.00003, 0.00004, 0.0001]\n",
        "\n",
        "for sup in tqdm(supports):\n",
        "    fpGrowth = FPGrowth(itemsCol=\"actors\", minSupport=sup)\n",
        "    start_time = time.time()\n",
        "    model_ = fpGrowth.fit(baskets)\n",
        "    seconds.append([sup, time.time() - start_time])\n",
        "    associationRules_ = model_.associationRules\n",
        "    rules = associationRules_.count()\n",
        "    n_rules.append([sup, rules])\n",
        "    conf = associationRules_.select(avg(col(\"confidence\"))).first()[0]\n",
        "    confidences.append([sup, conf])"
      ],
      "execution_count": 22,
      "outputs": [
        {
          "output_type": "stream",
          "name": "stderr",
          "text": [
            "\r  0%|          | 0/5 [00:00<?, ?it/s]/usr/local/lib/python3.7/dist-packages/pyspark/sql/context.py:127: FutureWarning: Deprecated in 3.0.0. Use SparkSession.builder.getOrCreate() instead.\n",
            "  FutureWarning\n",
            "100%|██████████| 5/5 [14:59<00:00, 179.90s/it]\n"
          ]
        }
      ]
    },
    {
      "cell_type": "code",
      "metadata": {
        "colab": {
          "base_uri": "https://localhost:8080/"
        },
        "id": "EqKonWT4tiFU",
        "outputId": "c922bc14-c194-4140-b62c-de4bef289eb0"
      },
      "source": [
        "# Display the association rules of the model with the last value of support\n",
        "associationRules = model_.associationRules\n",
        "associationRules.createOrReplaceTempView(\"associationRules\")\n",
        "associationRules.show(10)"
      ],
      "execution_count": 23,
      "outputs": [
        {
          "output_type": "stream",
          "name": "stdout",
          "text": [
            "+--------------------+-----------+------------------+------------------+--------------------+\n",
            "|          antecedent| consequent|        confidence|              lift|             support|\n",
            "+--------------------+-----------+------------------+------------------+--------------------+\n",
            "|[nm2394215, nm029...|[nm0945427]|0.8055555555555556|1455.0217889908256|1.472982204851190...|\n",
            "|[nm1283907, nm064...|[nm2373718]|0.8909090909090909| 2740.652130681818|1.244416000650144E-4|\n",
            "|[nm1283907, nm064...|[nm2082516]|0.9272727272727272|2267.8383963862225|1.295208490472598...|\n",
            "|[nm2373151, nm208...|[nm2077739]|0.8181818181818182|2753.5594405594406|1.142831021005234...|\n",
            "|[nm2373151, nm208...|[nm2373718]|0.8727272727272727|2684.7204545454547|1.219019755738916...|\n",
            "|[nm2373151, nm208...|[nm0648803]|               1.0| 696.9185840707964|1.396793470117508...|\n",
            "|[nm1283907, nm237...|[nm0648803]|               1.0| 696.9185840707964|1.168227265916461...|\n",
            "|[nm2077739, nm064...|[nm2373718]|0.8407079646017699|2586.2213080752213|2.412643266566605...|\n",
            "|[nm2077739, nm064...|[nm2082516]|0.8849557522123894|2164.3434287912937|2.539624491122742...|\n",
            "|[nm0455938, nm029...|[nm2394215]|0.8148148148148148|3525.7216117216117|1.117434776094006...|\n",
            "+--------------------+-----------+------------------+------------------+--------------------+\n",
            "only showing top 10 rows\n",
            "\n"
          ]
        },
        {
          "output_type": "stream",
          "name": "stderr",
          "text": [
            "/usr/local/lib/python3.7/dist-packages/pyspark/sql/context.py:127: FutureWarning: Deprecated in 3.0.0. Use SparkSession.builder.getOrCreate() instead.\n",
            "  FutureWarning\n"
          ]
        }
      ]
    },
    {
      "cell_type": "markdown",
      "metadata": {
        "id": "Hl1Aj1s0N9bm"
      },
      "source": [
        "We plot the relation between value of support and time spent in computing."
      ]
    },
    {
      "cell_type": "code",
      "metadata": {
        "colab": {
          "base_uri": "https://localhost:8080/",
          "height": 295
        },
        "id": "SHu3DOvSsqCx",
        "outputId": "d4165149-36a5-4c6d-d0cd-4212bf6b2e38"
      },
      "source": [
        "df_results = pd.DataFrame(seconds, columns=[\"support\", \"seconds\"])\n",
        "df_results.plot(x=\"support\", y=\"seconds\", ylabel='seconds',legend=False, title='Seconds spent in computation per support value')\n",
        "df_results.to_csv(\"time_results_fpgrowth.csv\", index=False)"
      ],
      "execution_count": 24,
      "outputs": [
        {
          "output_type": "display_data",
          "data": {
            "image/png": "[encoded data removed]",
            "text/plain": [
              "<Figure size 432x288 with 1 Axes>"
            ]
          },
          "metadata": {
            "needs_background": "light"
          }
        }
      ]
    },
    {
      "cell_type": "code",
      "metadata": {
        "colab": {
          "base_uri": "https://localhost:8080/",
          "height": 203
        },
        "id": "8Z0q0E8AUCx9",
        "outputId": "b45d2dbf-5f6f-412d-cd56-798de1b45f7c"
      },
      "source": [
        "df_results"
      ],
      "execution_count": 25,
      "outputs": [
        {
          "output_type": "execute_result",
          "data": {
            "text/html": [
              "<div>\n",
              "<style scoped>\n",
              "    .dataframe tbody tr th:only-of-type {\n",
              "        vertical-align: middle;\n",
              "    }\n",
              "\n",
              "    .dataframe tbody tr th {\n",
              "        vertical-align: top;\n",
              "    }\n",
              "\n",
              "    .dataframe thead th {\n",
              "        text-align: right;\n",
              "    }\n",
              "</style>\n",
              "<table border=\"1\" class=\"dataframe\">\n",
              "  <thead>\n",
              "    <tr style=\"text-align: right;\">\n",
              "      <th></th>\n",
              "      <th>support</th>\n",
              "      <th>seconds</th>\n",
              "    </tr>\n",
              "  </thead>\n",
              "  <tbody>\n",
              "    <tr>\n",
              "      <th>0</th>\n",
              "      <td>0.00001</td>\n",
              "      <td>182.493003</td>\n",
              "    </tr>\n",
              "    <tr>\n",
              "      <th>1</th>\n",
              "      <td>0.00002</td>\n",
              "      <td>108.157942</td>\n",
              "    </tr>\n",
              "    <tr>\n",
              "      <th>2</th>\n",
              "      <td>0.00003</td>\n",
              "      <td>105.652658</td>\n",
              "    </tr>\n",
              "    <tr>\n",
              "      <th>3</th>\n",
              "      <td>0.00004</td>\n",
              "      <td>107.241933</td>\n",
              "    </tr>\n",
              "    <tr>\n",
              "      <th>4</th>\n",
              "      <td>0.00010</td>\n",
              "      <td>105.548992</td>\n",
              "    </tr>\n",
              "  </tbody>\n",
              "</table>\n",
              "</div>"
            ],
            "text/plain": [
              "   support     seconds\n",
              "0  0.00001  182.493003\n",
              "1  0.00002  108.157942\n",
              "2  0.00003  105.652658\n",
              "3  0.00004  107.241933\n",
              "4  0.00010  105.548992"
            ]
          },
          "metadata": {},
          "execution_count": 25
        }
      ]
    },
    {
      "cell_type": "code",
      "metadata": {
        "id": "N3UnT45au-YQ"
      },
      "source": [
        "!cp time_results_fpgrowth.csv /content/drive/MyDrive/Università/amd_Market_Basket/"
      ],
      "execution_count": 26,
      "outputs": []
    },
    {
      "cell_type": "markdown",
      "metadata": {
        "id": "xTIY1D-Snf6Y"
      },
      "source": [
        "We plot the relation between value of support and average value of confidence retrieved."
      ]
    },
    {
      "cell_type": "code",
      "metadata": {
        "colab": {
          "base_uri": "https://localhost:8080/",
          "height": 295
        },
        "id": "maGVUoGKRPtE",
        "outputId": "210f232d-626e-4485-95cf-565af8d4921c"
      },
      "source": [
        "## DEVO ESPANDERE NOTAZIONE SCIENTIFICA\n",
        "df_avgconf = pd.DataFrame(confidences, columns=[\"support\", \"average_confidence\"])\n",
        "df_avgconf.plot.bar(x=\"support\", y=\"average_confidence\", ylabel='average confidence', legend=False, title='Average confidence per support value', ylim=(0.8,1), rot=0)\n",
        "df_avgconf.to_csv(\"avgconficence_results_fpgrowth.csv\", index=False)"
      ],
      "execution_count": 51,
      "outputs": [
        {
          "output_type": "display_data",
          "data": {
            "image/png": "[encoded data removed]",
            "text/plain": [
              "<Figure size 432x288 with 1 Axes>"
            ]
          },
          "metadata": {
            "needs_background": "light"
          }
        }
      ]
    },
    {
      "cell_type": "code",
      "metadata": {
        "colab": {
          "base_uri": "https://localhost:8080/",
          "height": 203
        },
        "id": "cp4uuspHTiwS",
        "outputId": "49858993-df52-4a77-935e-7fee0d6f6b25"
      },
      "source": [
        "df_avgconf"
      ],
      "execution_count": 28,
      "outputs": [
        {
          "output_type": "execute_result",
          "data": {
            "text/html": [
              "<div>\n",
              "<style scoped>\n",
              "    .dataframe tbody tr th:only-of-type {\n",
              "        vertical-align: middle;\n",
              "    }\n",
              "\n",
              "    .dataframe tbody tr th {\n",
              "        vertical-align: top;\n",
              "    }\n",
              "\n",
              "    .dataframe thead th {\n",
              "        text-align: right;\n",
              "    }\n",
              "</style>\n",
              "<table border=\"1\" class=\"dataframe\">\n",
              "  <thead>\n",
              "    <tr style=\"text-align: right;\">\n",
              "      <th></th>\n",
              "      <th>support</th>\n",
              "      <th>average_confidence</th>\n",
              "    </tr>\n",
              "  </thead>\n",
              "  <tbody>\n",
              "    <tr>\n",
              "      <th>0</th>\n",
              "      <td>0.00001</td>\n",
              "      <td>0.945333</td>\n",
              "    </tr>\n",
              "    <tr>\n",
              "      <th>1</th>\n",
              "      <td>0.00002</td>\n",
              "      <td>0.931293</td>\n",
              "    </tr>\n",
              "    <tr>\n",
              "      <th>2</th>\n",
              "      <td>0.00003</td>\n",
              "      <td>0.936198</td>\n",
              "    </tr>\n",
              "    <tr>\n",
              "      <th>3</th>\n",
              "      <td>0.00004</td>\n",
              "      <td>0.916267</td>\n",
              "    </tr>\n",
              "    <tr>\n",
              "      <th>4</th>\n",
              "      <td>0.00010</td>\n",
              "      <td>0.909584</td>\n",
              "    </tr>\n",
              "  </tbody>\n",
              "</table>\n",
              "</div>"
            ],
            "text/plain": [
              "   support  average_confidence\n",
              "0  0.00001            0.945333\n",
              "1  0.00002            0.931293\n",
              "2  0.00003            0.936198\n",
              "3  0.00004            0.916267\n",
              "4  0.00010            0.909584"
            ]
          },
          "metadata": {},
          "execution_count": 28
        }
      ]
    },
    {
      "cell_type": "code",
      "metadata": {
        "id": "uwjGHjtlRj1z"
      },
      "source": [
        "!cp avgconficence_results_fpgrowth.csv /content/drive/MyDrive/Università/amd_Market_Basket/"
      ],
      "execution_count": 29,
      "outputs": []
    },
    {
      "cell_type": "code",
      "metadata": {
        "colab": {
          "base_uri": "https://localhost:8080/",
          "height": 295
        },
        "id": "sqxT5ZyDK6ni",
        "outputId": "e5ed9b78-f6e9-4bc0-d26d-b976fe0f7de1"
      },
      "source": [
        "df_nrules = pd.DataFrame(n_rules, columns=[\"support\", \"n_rules\"])\n",
        "df_nrules.plot.bar(x=\"support\", y=\"n_rules\", ylabel='number of association rules', legend=False, title='Number of association rules per support value', rot=0)\n",
        "df_nrules.to_csv(\"nrules_results_fpgrowth.csv\", index=False)"
      ],
      "execution_count": 30,
      "outputs": [
        {
          "output_type": "display_data",
          "data": {
            "image/png": "[encoded data removed]",
            "text/plain": [
              "<Figure size 432x288 with 1 Axes>"
            ]
          },
          "metadata": {
            "needs_background": "light"
          }
        }
      ]
    },
    {
      "cell_type": "code",
      "metadata": {
        "colab": {
          "base_uri": "https://localhost:8080/",
          "height": 203
        },
        "id": "_Jjw79u8LMtb",
        "outputId": "1fb6d4e2-7084-44fc-80aa-8e40c0cb77ce"
      },
      "source": [
        "df_nrules"
      ],
      "execution_count": 31,
      "outputs": [
        {
          "output_type": "execute_result",
          "data": {
            "text/html": [
              "<div>\n",
              "<style scoped>\n",
              "    .dataframe tbody tr th:only-of-type {\n",
              "        vertical-align: middle;\n",
              "    }\n",
              "\n",
              "    .dataframe tbody tr th {\n",
              "        vertical-align: top;\n",
              "    }\n",
              "\n",
              "    .dataframe thead th {\n",
              "        text-align: right;\n",
              "    }\n",
              "</style>\n",
              "<table border=\"1\" class=\"dataframe\">\n",
              "  <thead>\n",
              "    <tr style=\"text-align: right;\">\n",
              "      <th></th>\n",
              "      <th>support</th>\n",
              "      <th>n_rules</th>\n",
              "    </tr>\n",
              "  </thead>\n",
              "  <tbody>\n",
              "    <tr>\n",
              "      <th>0</th>\n",
              "      <td>0.00001</td>\n",
              "      <td>25583</td>\n",
              "    </tr>\n",
              "    <tr>\n",
              "      <th>1</th>\n",
              "      <td>0.00002</td>\n",
              "      <td>3893</td>\n",
              "    </tr>\n",
              "    <tr>\n",
              "      <th>2</th>\n",
              "      <td>0.00003</td>\n",
              "      <td>2051</td>\n",
              "    </tr>\n",
              "    <tr>\n",
              "      <th>3</th>\n",
              "      <td>0.00004</td>\n",
              "      <td>940</td>\n",
              "    </tr>\n",
              "    <tr>\n",
              "      <th>4</th>\n",
              "      <td>0.00010</td>\n",
              "      <td>120</td>\n",
              "    </tr>\n",
              "  </tbody>\n",
              "</table>\n",
              "</div>"
            ],
            "text/plain": [
              "   support  n_rules\n",
              "0  0.00001    25583\n",
              "1  0.00002     3893\n",
              "2  0.00003     2051\n",
              "3  0.00004      940\n",
              "4  0.00010      120"
            ]
          },
          "metadata": {},
          "execution_count": 31
        }
      ]
    },
    {
      "cell_type": "code",
      "metadata": {
        "id": "gYM66UpWMPgx"
      },
      "source": [
        "!cp nrules_results_fpgrowth.csv /content/drive/MyDrive/Università/amd_Market_Basket/"
      ],
      "execution_count": 32,
      "outputs": []
    },
    {
      "cell_type": "markdown",
      "metadata": {
        "id": "CAQrXpyzUOtb"
      },
      "source": [
        "In the following part we will select one support value (INSERT HERE) to use and we will display the results of the model."
      ]
    },
    {
      "cell_type": "code",
      "metadata": {
        "id": "rRC7B1tYj-Fw"
      },
      "source": [
        "fpGrowth = FPGrowth(itemsCol=\"actors\", minSupport=0.00001)\n",
        "model = fpGrowth.fit(baskets)"
      ],
      "execution_count": 33,
      "outputs": []
    },
    {
      "cell_type": "code",
      "metadata": {
        "colab": {
          "base_uri": "https://localhost:8080/"
        },
        "id": "PJocZJTdkBDj",
        "outputId": "130c2a28-7cd7-46df-885e-c49423e2c94d"
      },
      "source": [
        "# Display generated association rules of the model computed setting the support equal to 0.00001\n",
        "associationRules = model.associationRules\n",
        "associationRules.createOrReplaceTempView(\"associationRules\")\n",
        "associationRules.show()"
      ],
      "execution_count": 34,
      "outputs": [
        {
          "output_type": "stream",
          "name": "stderr",
          "text": [
            "/usr/local/lib/python3.7/dist-packages/pyspark/sql/context.py:127: FutureWarning: Deprecated in 3.0.0. Use SparkSession.builder.getOrCreate() instead.\n",
            "  FutureWarning\n"
          ]
        },
        {
          "output_type": "stream",
          "name": "stdout",
          "text": [
            "+--------------------+-----------+------------------+------------------+--------------------+\n",
            "|          antecedent| consequent|        confidence|              lift|             support|\n",
            "+--------------------+-----------+------------------+------------------+--------------------+\n",
            "|         [nm3721804]|[nm1990182]|               0.8|3841.5512195121955|1.015849796449097E-5|\n",
            "|         [nm3721804]|[nm1984183]|               1.0|2250.0514285714285|1.269812245561371...|\n",
            "|[nm0623325, nm381...|[nm0706691]|0.8571428571428571|1071.4530612244896|1.523774694673645...|\n",
            "|[nm2719915, nm128...|[nm1770187]|0.8571428571428571|2836.1992797118846|1.523774694673645...|\n",
            "|[nm2719915, nm128...|[nm2077739]|0.8571428571428571|2884.6813186813188|1.523774694673645...|\n",
            "|[nm2719915, nm128...|[nm0648803]|               1.0| 696.9185840707964| 1.77773714378592E-5|\n",
            "|[nm1371510, nm075...|[nm1285427]|               0.8|3461.6175824175825|1.015849796449097E-5|\n",
            "|[nm0931054, nm041...|[nm0001889]|               0.8|          9843.975|3.047549389347291E-5|\n",
            "|[nm1283907, nm064...|[nm2373718]|0.8909090909090909| 2740.652130681818|1.244416000650144E-4|\n",
            "|[nm1283907, nm064...|[nm2082516]|0.9272727272727272|2267.8383963862225|1.295208490472598...|\n",
            "|[nm0120178, nm092...|[nm0410010]|               0.8| 3181.890909090909|1.015849796449097E-5|\n",
            "|[nm2679281, nm029...|[nm0945427]|               1.0|1806.2339449541282|4.063399185796388E-5|\n",
            "|[nm2679281, nm029...|[nm2394215]|             0.875| 3786.144230769231| 3.55547428757184E-5|\n",
            "|[nm0667024, nm037...|[nm0327762]|               1.0| 35796.27272727273| 1.77773714378592E-5|\n",
            "|[nm1039432, nm005...|[nm0042874]|               1.0| 4424.258426966292|1.015849796449097E-5|\n",
            "|[nm1039432, nm005...|[nm0781958]|               1.0| 8750.199999999999|1.015849796449097E-5|\n",
            "|[nm1039432, nm030...|[nm0058601]|               1.0| 8035.897959183672|1.015849796449097E-5|\n",
            "|[nm1039432, nm030...|[nm0042874]|               1.0| 4424.258426966292|1.015849796449097E-5|\n",
            "|[nm1039432, nm030...|[nm0781958]|               1.0| 8750.199999999999|1.015849796449097E-5|\n",
            "|[nm3722581, nm288...|[nm1990182]|               1.0| 4801.939024390244|2.285662042010468...|\n",
            "+--------------------+-----------+------------------+------------------+--------------------+\n",
            "only showing top 20 rows\n",
            "\n"
          ]
        }
      ]
    },
    {
      "cell_type": "code",
      "metadata": {
        "colab": {
          "base_uri": "https://localhost:8080/"
        },
        "id": "tbqnM4LSYLiE",
        "outputId": "665130ed-1f0c-45ac-8d59-18972f837411"
      },
      "source": [
        "associationRules.select(avg(col(\"confidence\"))).show()"
      ],
      "execution_count": 35,
      "outputs": [
        {
          "output_type": "stream",
          "name": "stdout",
          "text": [
            "+------------------+\n",
            "|   avg(confidence)|\n",
            "+------------------+\n",
            "|0.9453328386316634|\n",
            "+------------------+\n",
            "\n"
          ]
        }
      ]
    },
    {
      "cell_type": "code",
      "metadata": {
        "colab": {
          "base_uri": "https://localhost:8080/"
        },
        "id": "O4ozYGIaJ02C",
        "outputId": "ef94676e-000f-4a40-f6cb-98868a59bd01"
      },
      "source": [
        "associationRules.count()"
      ],
      "execution_count": 36,
      "outputs": [
        {
          "output_type": "execute_result",
          "data": {
            "text/plain": [
              "25583"
            ]
          },
          "metadata": {},
          "execution_count": 36
        }
      ]
    },
    {
      "cell_type": "code",
      "metadata": {
        "colab": {
          "base_uri": "https://localhost:8080/"
        },
        "id": "SgLWigBOkF9a",
        "outputId": "4f9c1660-837d-4bde-cede-c3f799a40522"
      },
      "source": [
        "# Frequent itemsets and query\n",
        "mostPopularItemInABasket = model.freqItemsets\n",
        "mostPopularItemInABasket.createOrReplaceTempView(\"mostPopularItemInABasket\")\n",
        "\n",
        "query = \"\"\"select items, freq\n",
        "           from mostPopularItemInABasket\n",
        "           where size(items) > 5\n",
        "           order by freq desc\n",
        "           limit 10\"\"\"\n",
        "spark.sql(query).show(10)"
      ],
      "execution_count": 37,
      "outputs": [
        {
          "output_type": "stream",
          "name": "stderr",
          "text": [
            "/usr/local/lib/python3.7/dist-packages/pyspark/sql/context.py:127: FutureWarning: Deprecated in 3.0.0. Use SparkSession.builder.getOrCreate() instead.\n",
            "  FutureWarning\n"
          ]
        },
        {
          "output_type": "stream",
          "name": "stdout",
          "text": [
            "+--------------------+----+\n",
            "|               items|freq|\n",
            "+--------------------+----+\n",
            "|[nm2687024, nm237...|  20|\n",
            "|[nm2426685, nm207...|  17|\n",
            "|[nm2373151, nm236...|  17|\n",
            "|[nm2414317, nm207...|  16|\n",
            "|[nm0455938, nm268...|  15|\n",
            "|[nm2373151, nm207...|  15|\n",
            "|[nm2811639, nm677...|  14|\n",
            "|[nm2681040, nm144...|  14|\n",
            "|[nm1283907, nm237...|  14|\n",
            "|[nm2846621, nm405...|  14|\n",
            "+--------------------+----+\n",
            "\n"
          ]
        }
      ]
    },
    {
      "cell_type": "code",
      "metadata": {
        "colab": {
          "base_uri": "https://localhost:8080/"
        },
        "id": "xd99wpjlkI1G",
        "outputId": "c176a823-bffe-4f02-b1ef-a376f40c75af"
      },
      "source": [
        "query = \"\"\"select antecedent as `antecedent`, consequent as `consequent`, confidence\n",
        "           from associationRules\n",
        "           order by confidence desc\n",
        "           limit 10\"\"\"\n",
        "\n",
        "spark.sql(query).show(10)"
      ],
      "execution_count": 38,
      "outputs": [
        {
          "output_type": "stream",
          "name": "stdout",
          "text": [
            "+--------------------+-----------+----------+\n",
            "|          antecedent| consequent|confidence|\n",
            "+--------------------+-----------+----------+\n",
            "|[nm2679281, nm029...|[nm0945427]|       1.0|\n",
            "|[nm7096417, nm040...|[nm2366585]|       1.0|\n",
            "|[nm1039432, nm005...|[nm0042874]|       1.0|\n",
            "|[nm1039432, nm005...|[nm0781958]|       1.0|\n",
            "|[nm2719915, nm128...|[nm0648803]|       1.0|\n",
            "|[nm1039432, nm030...|[nm0058601]|       1.0|\n",
            "|         [nm3721804]|[nm1984183]|       1.0|\n",
            "|[nm1039432, nm030...|[nm0042874]|       1.0|\n",
            "|[nm0667024, nm037...|[nm0327762]|       1.0|\n",
            "|[nm1039432, nm030...|[nm0781958]|       1.0|\n",
            "+--------------------+-----------+----------+\n",
            "\n"
          ]
        }
      ]
    },
    {
      "cell_type": "markdown",
      "metadata": {
        "id": "3Wzi_eXLuYc6"
      },
      "source": [
        "In case we wanted to displey the actual name of the actor/actress instead of the ID, we can run the following cells."
      ]
    },
    {
      "cell_type": "code",
      "metadata": {
        "id": "h5x1Tuy54SYH"
      },
      "source": [
        "name_basics = name_basics.select(\"nconst\",\"primaryName\")"
      ],
      "execution_count": 39,
      "outputs": []
    },
    {
      "cell_type": "code",
      "metadata": {
        "id": "KITURN-lqUDh"
      },
      "source": [
        "df_actors_names = df_title.join(name_basics, [\"nconst\"], 'left')"
      ],
      "execution_count": 40,
      "outputs": []
    },
    {
      "cell_type": "code",
      "metadata": {
        "id": "F4d1cuVSsvgA"
      },
      "source": [
        "df_actors_names = df_actors_names.select(\"tconst\",\"primaryName\")"
      ],
      "execution_count": 42,
      "outputs": []
    },
    {
      "cell_type": "code",
      "metadata": {
        "colab": {
          "base_uri": "https://localhost:8080/"
        },
        "id": "KHG8XBSzw3XK",
        "outputId": "6b4539d1-3229-4b87-cec8-7c3c95a7f50f"
      },
      "source": [
        "baskets_names = df_actors_names.groupBy('tconst').agg(collect_set('primaryName').alias('actors'))\n",
        "baskets_names.createOrReplaceTempView('baskets_')\n",
        "df_actors_names.show(5)\n",
        "baskets_names.show(5)"
      ],
      "execution_count": 44,
      "outputs": [
        {
          "output_type": "stream",
          "name": "stdout",
          "text": [
            "+---------+-----------------+\n",
            "|   tconst|      primaryName|\n",
            "+---------+-----------------+\n",
            "|tt0000009|  Blanche Bayliss|\n",
            "|tt0000502|      El Mochuelo|\n",
            "|tt0000615|       Jim Gerald|\n",
            "|tt0000679|    L. Frank Baum|\n",
            "|tt0000009|William Courtenay|\n",
            "+---------+-----------------+\n",
            "only showing top 5 rows\n",
            "\n",
            "+---------+--------------------+\n",
            "|   tconst|              actors|\n",
            "+---------+--------------------+\n",
            "|tt0000335|[John Jones, Mr. ...|\n",
            "|tt0000502|[Antonio del Pozo...|\n",
            "|tt0000630|[Fernanda Negri P...|\n",
            "|tt0000676|[Jaime Borrás, Jo...|\n",
            "|tt0000793|      [Henny Porten]|\n",
            "+---------+--------------------+\n",
            "only showing top 5 rows\n",
            "\n"
          ]
        }
      ]
    },
    {
      "cell_type": "markdown",
      "metadata": {
        "id": "sjPra9wW4_rQ"
      },
      "source": [
        "---"
      ]
    },
    {
      "cell_type": "markdown",
      "metadata": {
        "id": "qxYrYYFI8BaG"
      },
      "source": [
        "### **3.2 A-priori Algorithm**\n",
        "We implement an A-priori Algorithm from scratch.\n",
        "\n",
        "! SPIEGARE PASSAGGI !\n",
        "\n",
        "The function takes as input a Resilient Distributed Dataset (RDD) and a threshold."
      ]
    },
    {
      "cell_type": "code",
      "metadata": {
        "id": "yYMltL7z4_Nw"
      },
      "source": [
        "conf = SparkConf().setAppName(\"MBA\")\n",
        "spark = SparkSession.builder.enableHiveSupport().config(conf = conf).getOrCreate()\n",
        "sc = spark.sparkContext"
      ],
      "execution_count": 45,
      "outputs": []
    },
    {
      "cell_type": "code",
      "metadata": {
        "id": "EFO_SwCW7ALg"
      },
      "source": [
        "import itertools\n",
        "from itertools import combinations, product\n",
        "import pandas as pd\n",
        "import matplotlib.pyplot as plt\n",
        "import collections\n",
        "import time\n",
        "import pickle"
      ],
      "execution_count": 46,
      "outputs": []
    },
    {
      "cell_type": "markdown",
      "metadata": {
        "id": "UWSw2sf99nFA"
      },
      "source": [
        "First of all, we create a list of baskets of actors and then we parallelize the list in RDD."
      ]
    },
    {
      "cell_type": "code",
      "metadata": {
        "colab": {
          "base_uri": "https://localhost:8080/"
        },
        "id": "UPNTG95b9lge",
        "outputId": "567198a4-0783-4973-f114-69d0a64bd85d"
      },
      "source": [
        "# Computed on the whole dataset\n",
        "baskets_actors = baskets.select('actors').rdd.flatMap(list) \n",
        "print(baskets_actors.collect()[:3])"
      ],
      "execution_count": 47,
      "outputs": [
        {
          "output_type": "stream",
          "name": "stdout",
          "text": [
            "[['nm1012612', 'nm0675260', 'nm1012621', 'nm1010955', 'nm0675239', 'nm1011210'], ['nm0624446'], ['nm0140054', 'nm0097421']]\n"
          ]
        }
      ]
    },
    {
      "cell_type": "code",
      "metadata": {
        "colab": {
          "base_uri": "https://localhost:8080/"
        },
        "id": "8nwD3au8BNgt",
        "outputId": "2eee7a9c-9fc6-47c5-95f6-ffd72a8636bb"
      },
      "source": [
        "baskets_actors.getNumPartitions() "
      ],
      "execution_count": 48,
      "outputs": [
        {
          "output_type": "execute_result",
          "data": {
            "text/plain": [
              "4"
            ]
          },
          "metadata": {},
          "execution_count": 48
        }
      ]
    },
    {
      "cell_type": "code",
      "metadata": {
        "colab": {
          "base_uri": "https://localhost:8080/"
        },
        "id": "L5IxnYrRrgJX",
        "outputId": "fc601e05-6cc9-4a04-b498-2193757972d2"
      },
      "source": [
        "# Computed on the fraction 0.1\n",
        "baskets_actors_fraction = baskets_fraction.select('actors').rdd.flatMap(list) \n",
        "print(baskets_actors_fraction.collect()[:3])"
      ],
      "execution_count": null,
      "outputs": [
        {
          "output_type": "stream",
          "name": "stdout",
          "text": [
            "[['nm0624446'], ['nm0135493', 'nm0143332'], ['nm0105501', 'nm0896618', 'nm0764002']]\n"
          ]
        }
      ]
    },
    {
      "cell_type": "code",
      "metadata": {
        "colab": {
          "base_uri": "https://localhost:8080/"
        },
        "id": "7M18r3gUrqqW",
        "outputId": "003553c6-fb1f-4f84-e5cd-204289252597"
      },
      "source": [
        "baskets_actors_fraction.getNumPartitions() "
      ],
      "execution_count": null,
      "outputs": [
        {
          "output_type": "execute_result",
          "data": {
            "text/plain": [
              "2"
            ]
          },
          "metadata": {},
          "execution_count": 25
        }
      ]
    },
    {
      "cell_type": "markdown",
      "metadata": {
        "id": "yOHyt9imVO1z"
      },
      "source": [
        "### Provo a scrivere nuove funzioni"
      ]
    },
    {
      "cell_type": "markdown",
      "metadata": {
        "id": "cxLsDjN875nH"
      },
      "source": [
        " We first define a function listing all the actors/actresses present in dataset and counting occurrences."
      ]
    },
    {
      "cell_type": "code",
      "metadata": {
        "id": "iBsbQo5X5CCo"
      },
      "source": [
        "def count_singletons(data): \n",
        "  list_singletons = data.flatMap(list).map(lambda actor: (actor, 1)).reduceByKey(lambda a, b: a+b)\n",
        "  return(list_singletons)"
      ],
      "execution_count": 49,
      "outputs": []
    },
    {
      "cell_type": "markdown",
      "metadata": {
        "id": "kLkkinYHSwUM"
      },
      "source": [
        "We display the top 10 actors present in our dataset with respect to the occurrencies."
      ]
    },
    {
      "cell_type": "code",
      "metadata": {
        "id": "38qQhYxr5nEy",
        "colab": {
          "base_uri": "https://localhost:8080/"
        },
        "outputId": "92a83752-5fd0-468d-f3f1-0dfc426ae5b5"
      },
      "source": [
        "freq_actors = count_singletons(baskets_actors).sortBy(lambda a: -a[1])\n",
        "freq_actors.take(10)"
      ],
      "execution_count": 50,
      "outputs": [
        {
          "output_type": "execute_result",
          "data": {
            "text/plain": [
              "[('nm0103977', 797),\n",
              " ('nm0006982', 585),\n",
              " ('nm0648803', 565),\n",
              " ('nm0305182', 506),\n",
              " ('nm0623427', 436),\n",
              " ('nm0793813', 411),\n",
              " ('nm0246703', 391),\n",
              " ('nm0619107', 387),\n",
              " ('nm0007123', 380),\n",
              " ('nm7390393', 356)]"
            ]
          },
          "metadata": {},
          "execution_count": 50
        }
      ]
    },
    {
      "cell_type": "code",
      "metadata": {
        "id": "CdhmV_D39-iu"
      },
      "source": [
        "# check what \"list(combinations...)\" does.\n",
        "possible_combinations = list(combinations(freq_actors_threshold.toLocalIterator(),2)) "
      ],
      "execution_count": null,
      "outputs": []
    },
    {
      "cell_type": "code",
      "metadata": {
        "colab": {
          "base_uri": "https://localhost:8080/"
        },
        "id": "L8eD-Iea9_e2",
        "outputId": "0bd7efaf-a4e1-4b24-9fc8-663d433b056c"
      },
      "source": [
        "possible_combinations"
      ],
      "execution_count": null,
      "outputs": [
        {
          "output_type": "execute_result",
          "data": {
            "text/plain": [
              "[('nm0103977', 'nm0006982'),\n",
              " ('nm0103977', 'nm0648803'),\n",
              " ('nm0103977', 'nm0305182'),\n",
              " ('nm0103977', 'nm0623427'),\n",
              " ('nm0103977', 'nm0793813'),\n",
              " ('nm0103977', 'nm0246703'),\n",
              " ('nm0103977', 'nm0619107'),\n",
              " ('nm0103977', 'nm0007123'),\n",
              " ('nm0103977', 'nm7390393'),\n",
              " ('nm0103977', 'nm0046850'),\n",
              " ('nm0103977', 'nm0482320'),\n",
              " ('nm0103977', 'nm0149822'),\n",
              " ('nm0103977', 'nm0304262'),\n",
              " ('nm0103977', 'nm0706691'),\n",
              " ('nm0103977', 'nm0619309'),\n",
              " ('nm0103977', 'nm0007106'),\n",
              " ('nm0103977', 'nm0659250'),\n",
              " ('nm0103977', 'nm0419653'),\n",
              " ('nm0103977', 'nm0001000'),\n",
              " ('nm0103977', 'nm0415549'),\n",
              " ('nm0103977', 'nm0000465'),\n",
              " ('nm0103977', 'nm0035067'),\n",
              " ('nm0103977', 'nm0261738'),\n",
              " ('nm0103977', 'nm0534867'),\n",
              " ('nm0103977', 'nm0004417'),\n",
              " ('nm0103977', 'nm0374974'),\n",
              " ('nm0103977', 'nm0006369'),\n",
              " ('nm0103977', 'nm0222432'),\n",
              " ('nm0103977', 'nm1894124'),\n",
              " ('nm0103977', 'nm0004429'),\n",
              " ('nm0103977', 'nm0023173'),\n",
              " ('nm0103977', 'nm1352627'),\n",
              " ('nm0103977', 'nm3183374'),\n",
              " ('nm0103977', 'nm0347953'),\n",
              " ('nm0103977', 'nm0619779'),\n",
              " ('nm0103977', 'nm0695199'),\n",
              " ('nm0103977', 'nm0004463'),\n",
              " ('nm0103977', 'nm0045119'),\n",
              " ('nm0103977', 'nm0837797'),\n",
              " ('nm0103977', 'nm0000616'),\n",
              " ('nm0103977', 'nm0158101'),\n",
              " ('nm0103977', 'nm0764762'),\n",
              " ('nm0103977', 'nm0004437'),\n",
              " ('nm0103977', 'nm0453520'),\n",
              " ('nm0103977', 'nm0688093'),\n",
              " ('nm0103977', 'nm1006879'),\n",
              " ('nm0103977', 'nm0613417'),\n",
              " ('nm0103977', 'nm0367928'),\n",
              " ('nm0103977', 'nm0154164'),\n",
              " ('nm0103977', 'nm0420092'),\n",
              " ('nm0103977', 'nm0315553'),\n",
              " ('nm0103977', 'nm0021728'),\n",
              " ('nm0103977', 'nm0893449'),\n",
              " ('nm0103977', 'nm0352032'),\n",
              " ('nm0103977', 'nm0474820'),\n",
              " ('nm0103977', 'nm0019382'),\n",
              " ('nm0103977', 'nm0798827'),\n",
              " ('nm0103977', 'nm1066548'),\n",
              " ('nm0103977', 'nm1066229'),\n",
              " ('nm0103977', 'nm0003501'),\n",
              " ('nm0103977', 'nm0595934'),\n",
              " ('nm0103977', 'nm1001108'),\n",
              " ('nm0103977', 'nm0945427'),\n",
              " ('nm0103977', 'nm0654710'),\n",
              " ('nm0103977', 'nm0080173'),\n",
              " ('nm0103977', 'nm0667985'),\n",
              " ('nm0103977', 'nm0695177'),\n",
              " ('nm0103977', 'nm0659173'),\n",
              " ('nm0103977', 'nm0419707'),\n",
              " ('nm0103977', 'nm0993695'),\n",
              " ('nm0103977', 'nm0004660'),\n",
              " ('nm0103977', 'nm0419685'),\n",
              " ('nm0103977', 'nm0004467'),\n",
              " ('nm0103977', 'nm0820286'),\n",
              " ('nm0103977', 'nm0747131'),\n",
              " ('nm0103977', 'nm2147526'),\n",
              " ('nm0103977', 'nm0417314'),\n",
              " ('nm0103977', 'nm2366585'),\n",
              " ('nm0103977', 'nm0451600'),\n",
              " ('nm0103977', 'nm0453523'),\n",
              " ('nm0103977', 'nm0159159'),\n",
              " ('nm0103977', 'nm0433884'),\n",
              " ('nm0103977', 'nm0739418'),\n",
              " ('nm0103977', 'nm0482285'),\n",
              " ('nm0103977', 'nm0764298'),\n",
              " ('nm0103977', 'nm0033136'),\n",
              " ('nm0103977', 'nm0004109'),\n",
              " ('nm0103977', 'nm0369058'),\n",
              " ('nm0103977', 'nm1069583'),\n",
              " ('nm0103977', 'nm0297793'),\n",
              " ('nm0103977', 'nm0420090'),\n",
              " ('nm0103977', 'nm2803981'),\n",
              " ('nm0103977', 'nm0214150'),\n",
              " ('nm0103977', 'nm0757820'),\n",
              " ('nm0103977', 'nm0419688'),\n",
              " ('nm0103977', 'nm0329730'),\n",
              " ('nm0103977', 'nm0304261'),\n",
              " ('nm0103977', 'nm0438615'),\n",
              " ('nm0103977', 'nm0951019'),\n",
              " ('nm0103977', 'nm0611481'),\n",
              " ('nm0103977', 'nm0019699'),\n",
              " ('nm0103977', 'nm0707425'),\n",
              " ('nm0103977', 'nm0409204'),\n",
              " ('nm0103977', 'nm0620630'),\n",
              " ('nm0103977', 'nm0813098'),\n",
              " ('nm0103977', 'nm0000821'),\n",
              " ('nm0103977', 'nm0158112'),\n",
              " ('nm0103977', 'nm0994324'),\n",
              " ('nm0103977', 'nm0950902'),\n",
              " ('nm0103977', 'nm1126254'),\n",
              " ('nm0103977', 'nm0154146'),\n",
              " ('nm0103977', 'nm0767800'),\n",
              " ('nm0103977', 'nm0814734'),\n",
              " ('nm0103977', 'nm0762844'),\n",
              " ('nm0103977', 'nm0004469'),\n",
              " ('nm0103977', 'nm0793731'),\n",
              " ('nm0103977', 'nm0013023'),\n",
              " ('nm0103977', 'nm1846851'),\n",
              " ('nm0103977', 'nm0249982'),\n",
              " ('nm0103977', 'nm0621937'),\n",
              " ('nm0103977', 'nm0080238'),\n",
              " ('nm0103977', 'nm1698868'),\n",
              " ('nm0103977', 'nm0257406'),\n",
              " ('nm0103977', 'nm1984183'),\n",
              " ('nm0103977', 'nm0938860'),\n",
              " ('nm0103977', 'nm0850809'),\n",
              " ('nm0103977', 'nm0151526'),\n",
              " ('nm0103977', 'nm0274628'),\n",
              " ('nm0103977', 'nm1292277'),\n",
              " ('nm0103977', 'nm0889928'),\n",
              " ('nm0103977', 'nm0430803'),\n",
              " ('nm0103977', 'nm0032900'),\n",
              " ('nm0103977', 'nm0349347'),\n",
              " ('nm0103977', 'nm3372956'),\n",
              " ('nm0103977', 'nm0252843'),\n",
              " ('nm0103977', 'nm0415556'),\n",
              " ('nm0103977', 'nm0244884'),\n",
              " ('nm0103977', 'nm0320883'),\n",
              " ('nm0103977', 'nm0273077'),\n",
              " ('nm0103977', 'nm1065460'),\n",
              " ('nm0103977', 'nm0354563'),\n",
              " ('nm0103977', 'nm0044796'),\n",
              " ('nm0103977', 'nm1069897'),\n",
              " ('nm0103977', 'nm1078702'),\n",
              " ('nm0103977', 'nm0086984'),\n",
              " ('nm0103977', 'nm0991887'),\n",
              " ('nm0103977', 'nm0790096'),\n",
              " ('nm0103977', 'nm0501288'),\n",
              " ('nm0103977', 'nm0251122'),\n",
              " ('nm0103977', 'nm0807979'),\n",
              " ('nm0103977', 'nm0534501'),\n",
              " ('nm0103977', 'nm1059046'),\n",
              " ('nm0103977', 'nm0006763'),\n",
              " ('nm0103977', 'nm0062540'),\n",
              " ('nm0103977', 'nm2103554'),\n",
              " ('nm0103977', 'nm1064945'),\n",
              " ('nm0103977', 'nm0433887'),\n",
              " ('nm0103977', 'nm0710036'),\n",
              " ('nm0103977', 'nm0511276'),\n",
              " ('nm0103977', 'nm0101558'),\n",
              " ('nm0103977', 'nm0593722'),\n",
              " ('nm0103977', 'nm0707399'),\n",
              " ('nm0103977', 'nm0080246'),\n",
              " ('nm0103977', 'nm0042124'),\n",
              " ('nm0103977', 'nm0590985'),\n",
              " ('nm0103977', 'nm0000561'),\n",
              " ('nm0103977', 'nm0044467'),\n",
              " ('nm0103977', 'nm2082516'),\n",
              " ('nm0103977', 'nm0922301'),\n",
              " ('nm0103977', 'nm0415538'),\n",
              " ('nm0103977', 'nm0042820'),\n",
              " ('nm0103977', 'nm0004334'),\n",
              " ('nm0103977', 'nm0889148'),\n",
              " ('nm0103977', 'nm0044600'),\n",
              " ('nm0103977', 'nm0395121'),\n",
              " ('nm0103977', 'nm0001360'),\n",
              " ('nm0103977', 'nm0225042'),\n",
              " ('nm0103977', 'nm0802374'),\n",
              " ('nm0103977', 'nm0052835'),\n",
              " ('nm0103977', 'nm0695170'),\n",
              " ('nm0103977', 'nm0004435'),\n",
              " ('nm0103977', 'nm0766470'),\n",
              " ('nm0103977', 'nm1794903'),\n",
              " ('nm0103977', 'nm0813762'),\n",
              " ('nm0103977', 'nm0823633'),\n",
              " ('nm0103977', 'nm0504126'),\n",
              " ('nm0103977', 'nm0440202'),\n",
              " ('nm0103977', 'nm0359129'),\n",
              " ('nm0103977', 'nm0083238'),\n",
              " ('nm0103977', 'nm1129966'),\n",
              " ('nm0103977', 'nm0783991'),\n",
              " ('nm0103977', 'nm0013566'),\n",
              " ('nm0103977', 'nm0261825'),\n",
              " ('nm0103977', 'nm0406743'),\n",
              " ('nm0103977', 'nm0052322'),\n",
              " ('nm0103977', 'nm0082848'),\n",
              " ('nm0103977', 'nm0000367'),\n",
              " ('nm0103977', 'nm2384746'),\n",
              " ('nm0103977', 'nm1388202'),\n",
              " ('nm0103977', 'nm0854251'),\n",
              " ('nm0103977', 'nm0405977'),\n",
              " ('nm0103977', 'nm0638150'),\n",
              " ('nm0103977', 'nm0436922'),\n",
              " ('nm0103977', 'nm0015000'),\n",
              " ('nm0103977', 'nm0462607'),\n",
              " ('nm0103977', 'nm0035280'),\n",
              " ('nm0103977', 'nm0113902'),\n",
              " ('nm0103977', 'nm0297386'),\n",
              " ('nm0103977', 'nm0434318'),\n",
              " ('nm0103977', 'nm0225905'),\n",
              " ('nm0103977', 'nm0849011'),\n",
              " ('nm0103977', 'nm0700875'),\n",
              " ('nm0103977', 'nm0767945'),\n",
              " ('nm0103977', 'nm0945189'),\n",
              " ('nm0103977', 'nm0875465'),\n",
              " ('nm0103977', 'nm0847264'),\n",
              " ('nm0103977', 'nm0124973'),\n",
              " ('nm0103977', 'nm0660658'),\n",
              " ('nm0103977', 'nm0605662'),\n",
              " ('nm0103977', 'nm1467390'),\n",
              " ('nm0103977', 'nm1138888'),\n",
              " ('nm0103977', 'nm0128880'),\n",
              " ('nm0103977', 'nm0004434'),\n",
              " ('nm0103977', 'nm1272494'),\n",
              " ('nm0103977', 'nm0004576'),\n",
              " ('nm0103977', 'nm0415582'),\n",
              " ('nm0103977', 'nm0209649'),\n",
              " ('nm0103977', 'nm0000514'),\n",
              " ('nm0103977', 'nm0392442'),\n",
              " ('nm0103977', 'nm0690450'),\n",
              " ('nm0103977', 'nm0889542'),\n",
              " ('nm0103977', 'nm0158656'),\n",
              " ('nm0103977', 'nm0033245'),\n",
              " ('nm0103977', 'nm0628736'),\n",
              " ('nm0103977', 'nm0474876'),\n",
              " ('nm0103977', 'nm0448906'),\n",
              " ('nm0103977', 'nm0655803'),\n",
              " ('nm0103977', 'nm0001935'),\n",
              " ('nm0103977', 'nm0471447'),\n",
              " ('nm0103977', 'nm1001213'),\n",
              " ('nm0103977', 'nm1045141'),\n",
              " ('nm0103977', 'nm0051765'),\n",
              " ('nm0103977', 'nm0474907'),\n",
              " ('nm0103977', 'nm0441154'),\n",
              " ('nm0103977', 'nm0084435'),\n",
              " ('nm0103977', 'nm0398801'),\n",
              " ('nm0103977', 'nm0024302'),\n",
              " ('nm0103977', 'nm0663708'),\n",
              " ('nm0103977', 'nm1984346'),\n",
              " ('nm0103977', 'nm0764871'),\n",
              " ('nm0103977', 'nm0453667'),\n",
              " ('nm0103977', 'nm0476429'),\n",
              " ('nm0103977', 'nm0145061'),\n",
              " ('nm0103977', 'nm0025389'),\n",
              " ('nm0103977', 'nm1263070'),\n",
              " ('nm0103977', 'nm0080445'),\n",
              " ('nm0103977', 'nm0018203'),\n",
              " ('nm0103977', 'nm0848533'),\n",
              " ('nm0103977', 'nm0427659'),\n",
              " ('nm0103977', 'nm0824496'),\n",
              " ('nm0103977', 'nm0619101'),\n",
              " ('nm0103977', 'nm0909145'),\n",
              " ('nm0103977', 'nm1150184'),\n",
              " ('nm0103977', 'nm0000078'),\n",
              " ('nm0103977', 'nm0004569'),\n",
              " ('nm0103977', 'nm0616102'),\n",
              " ('nm0103977', 'nm1399111'),\n",
              " ('nm0103977', 'nm0462013'),\n",
              " ('nm0103977', 'nm0787462'),\n",
              " ('nm0103977', 'nm0226770'),\n",
              " ('nm0103977', 'nm0435229'),\n",
              " ('nm0103977', 'nm0707901'),\n",
              " ('nm0103977', 'nm0880857'),\n",
              " ('nm0103977', 'nm0820208'),\n",
              " ('nm0103977', 'nm0704654'),\n",
              " ('nm0103977', 'nm0858128'),\n",
              " ('nm0103977', 'nm0882485'),\n",
              " ('nm0103977', 'nm1001836'),\n",
              " ('nm0103977', 'nm0018437'),\n",
              " ('nm0103977', 'nm0008354'),\n",
              " ('nm0103977', 'nm6563624'),\n",
              " ('nm0103977', 'nm0576454'),\n",
              " ('nm0103977', 'nm0441526'),\n",
              " ('nm0103977', 'nm0258899'),\n",
              " ('nm0103977', 'nm0406737'),\n",
              " ('nm0103977', 'nm0002002'),\n",
              " ('nm0103977', 'nm0708032'),\n",
              " ('nm0103977', 'nm0273178'),\n",
              " ('nm0103977', 'nm0802107'),\n",
              " ('nm0103977', 'nm0993416'),\n",
              " ('nm0103977', 'nm0151685'),\n",
              " ('nm0103977', 'nm0034925'),\n",
              " ('nm0103977', 'nm0327861'),\n",
              " ('nm0103977', 'nm0671381'),\n",
              " ('nm0103977', 'nm0154110'),\n",
              " ('nm0103977', 'nm5083230'),\n",
              " ('nm0103977', 'nm0700869'),\n",
              " ('nm0103977', 'nm1156772'),\n",
              " ('nm0103977', 'nm0729461'),\n",
              " ('nm0103977', 'nm0332871'),\n",
              " ('nm0103977', 'nm0052332'),\n",
              " ('nm0103977', 'nm0179516'),\n",
              " ('nm0103977', 'nm0586733'),\n",
              " ('nm0103977', 'nm0710211'),\n",
              " ('nm0103977', 'nm0875370'),\n",
              " ('nm0103977', 'nm0202515'),\n",
              " ('nm0103977', 'nm0474774'),\n",
              " ('nm0103977', 'nm0882219'),\n",
              " ('nm0103977', 'nm0312647'),\n",
              " ('nm0103977', 'nm0509573'),\n",
              " ('nm0103977', 'nm0490489'),\n",
              " ('nm0103977', 'nm0217022'),\n",
              " ('nm0103977', 'nm3128033'),\n",
              " ('nm0103977', 'nm0694893'),\n",
              " ('nm0103977', 'nm0073426'),\n",
              " ('nm0103977', 'nm0430772'),\n",
              " ('nm0103977', 'nm1422956'),\n",
              " ('nm0103977', 'nm0594702'),\n",
              " ('nm0103977', 'nm0016321'),\n",
              " ('nm0103977', 'nm0412883'),\n",
              " ('nm0103977', 'nm0474850'),\n",
              " ('nm0103977', 'nm0433853'),\n",
              " ('nm0103977', 'nm0095919'),\n",
              " ('nm0103977', 'nm0002161'),\n",
              " ('nm0103977', 'nm0438501'),\n",
              " ('nm0103977', 'nm1154608'),\n",
              " ('nm0103977', 'nm0273049'),\n",
              " ('nm0103977', 'nm0007023'),\n",
              " ('nm0103977', 'nm0423663'),\n",
              " ('nm0103977', 'nm0159269'),\n",
              " ('nm0103977', 'nm0603865'),\n",
              " ('nm0103977', 'nm2813324'),\n",
              " ('nm0103977', 'nm0516316'),\n",
              " ('nm0103977', 'nm0451396'),\n",
              " ('nm0103977', 'nm0938893'),\n",
              " ('nm0103977', 'nm0350104'),\n",
              " ('nm0103977', 'nm0000818'),\n",
              " ('nm0103977', 'nm0453472'),\n",
              " ('nm0103977', 'nm0939233'),\n",
              " ('nm0103977', 'nm0001744'),\n",
              " ('nm0103977', 'nm0847301'),\n",
              " ('nm0103977', 'nm1720239'),\n",
              " ('nm0103977', 'nm2373718'),\n",
              " ('nm0103977', 'nm0306497'),\n",
              " ('nm0103977', 'nm0411714'),\n",
              " ('nm0103977', 'nm0184722'),\n",
              " ('nm0103977', 'nm0733727'),\n",
              " ('nm0103977', 'nm0837420'),\n",
              " ('nm0103977', 'nm1031555'),\n",
              " ('nm0103977', 'nm0799108'),\n",
              " ('nm0103977', 'nm0066075'),\n",
              " ('nm0103977', 'nm0193809'),\n",
              " ('nm0103977', 'nm0651257'),\n",
              " ('nm0103977', 'nm0832011'),\n",
              " ('nm0103977', 'nm0723801'),\n",
              " ('nm0103977', 'nm0222145'),\n",
              " ('nm0103977', 'nm0704719'),\n",
              " ('nm0103977', 'nm0000440'),\n",
              " ('nm0103977', 'nm0442848'),\n",
              " ('nm0103977', 'nm0626259'),\n",
              " ('nm0103977', 'nm0619758'),\n",
              " ('nm0103977', 'nm0045075'),\n",
              " ('nm0103977', 'nm0529876'),\n",
              " ('nm0103977', 'nm1908630'),\n",
              " ('nm0103977', 'nm0889024'),\n",
              " ('nm0103977', 'nm0412637'),\n",
              " ('nm0103977', 'nm1955178'),\n",
              " ('nm0103977', 'nm0534863'),\n",
              " ('nm0103977', 'nm0359226'),\n",
              " ('nm0103977', 'nm0006842'),\n",
              " ('nm0103977', 'nm0538690'),\n",
              " ('nm0103977', 'nm0457410'),\n",
              " ('nm0103977', 'nm0190217'),\n",
              " ('nm0103977', 'nm0463803'),\n",
              " ('nm0103977', 'nm0793766'),\n",
              " ('nm0103977', 'nm0219939'),\n",
              " ('nm0103977', 'nm0080228'),\n",
              " ('nm0103977', 'nm1035862'),\n",
              " ('nm0103977', 'nm0147436'),\n",
              " ('nm0103977', 'nm0794425'),\n",
              " ('nm0103977', 'nm0417310'),\n",
              " ('nm0103977', 'nm0407329'),\n",
              " ('nm0103977', 'nm0451862'),\n",
              " ('nm0103977', 'nm0224786'),\n",
              " ('nm0103977', 'nm0417270'),\n",
              " ('nm0103977', 'nm0007124'),\n",
              " ('nm0103977', 'nm0599210'),\n",
              " ('nm0103977', 'nm0722029'),\n",
              " ('nm0103977', 'nm1045369'),\n",
              " ('nm0103977', 'nm0613514'),\n",
              " ('nm0103977', 'nm0960385'),\n",
              " ('nm0103977', 'nm1008063'),\n",
              " ('nm0103977', 'nm0451166'),\n",
              " ('nm0103977', 'nm0181397'),\n",
              " ('nm0103977', 'nm0907888'),\n",
              " ('nm0103977', 'nm0151539'),\n",
              " ('nm0103977', 'nm0004564'),\n",
              " ('nm0103977', 'nm0712546'),\n",
              " ('nm0103977', 'nm0579663'),\n",
              " ('nm0103977', 'nm0415851'),\n",
              " ('nm0103977', 'nm0461985'),\n",
              " ('nm0103977', 'nm0408381'),\n",
              " ('nm0103977', 'nm0000859'),\n",
              " ('nm0103977', 'nm0681566'),\n",
              " ('nm0103977', 'nm0030672'),\n",
              " ('nm0103977', 'nm0576495'),\n",
              " ('nm0103977', 'nm0519765'),\n",
              " ('nm0103977', 'nm0650394'),\n",
              " ('nm0103977', 'nm0430646'),\n",
              " ('nm0103977', 'nm0001803'),\n",
              " ('nm0103977', 'nm0876553'),\n",
              " ('nm0103977', 'nm1035848'),\n",
              " ('nm0103977', 'nm0691995'),\n",
              " ('nm0103977', 'nm0463953'),\n",
              " ('nm0103977', 'nm1428724'),\n",
              " ('nm0103977', 'nm1770187'),\n",
              " ('nm0103977', 'nm2488797'),\n",
              " ('nm0103977', 'nm0002503'),\n",
              " ('nm0103977', 'nm0001120'),\n",
              " ('nm0103977', 'nm0407002'),\n",
              " ('nm0103977', 'nm0001917'),\n",
              " ('nm0103977', 'nm0619047'),\n",
              " ('nm0103977', 'nm0261724'),\n",
              " ('nm0103977', 'nm0498645'),\n",
              " ('nm0103977', 'nm0611804'),\n",
              " ('nm0103977', 'nm0080337'),\n",
              " ('nm0103977', 'nm0272240'),\n",
              " ('nm0103977', 'nm0958144'),\n",
              " ('nm0103977', 'nm0991856'),\n",
              " ('nm0103977', 'nm0531759'),\n",
              " ('nm0103977', 'nm0592789'),\n",
              " ('nm0103977', 'nm0047962'),\n",
              " ('nm0103977', 'nm0594465'),\n",
              " ('nm0103977', 'nm0011409'),\n",
              " ('nm0103977', 'nm0015360'),\n",
              " ('nm0006982', 'nm0648803'),\n",
              " ('nm0006982', 'nm0305182'),\n",
              " ('nm0006982', 'nm0623427'),\n",
              " ('nm0006982', 'nm0793813'),\n",
              " ('nm0006982', 'nm0246703'),\n",
              " ('nm0006982', 'nm0619107'),\n",
              " ('nm0006982', 'nm0007123'),\n",
              " ('nm0006982', 'nm7390393'),\n",
              " ('nm0006982', 'nm0046850'),\n",
              " ('nm0006982', 'nm0482320'),\n",
              " ('nm0006982', 'nm0149822'),\n",
              " ('nm0006982', 'nm0304262'),\n",
              " ('nm0006982', 'nm0706691'),\n",
              " ('nm0006982', 'nm0619309'),\n",
              " ('nm0006982', 'nm0007106'),\n",
              " ('nm0006982', 'nm0659250'),\n",
              " ('nm0006982', 'nm0419653'),\n",
              " ('nm0006982', 'nm0001000'),\n",
              " ('nm0006982', 'nm0415549'),\n",
              " ('nm0006982', 'nm0000465'),\n",
              " ('nm0006982', 'nm0035067'),\n",
              " ('nm0006982', 'nm0261738'),\n",
              " ('nm0006982', 'nm0534867'),\n",
              " ('nm0006982', 'nm0004417'),\n",
              " ('nm0006982', 'nm0374974'),\n",
              " ('nm0006982', 'nm0006369'),\n",
              " ('nm0006982', 'nm0222432'),\n",
              " ('nm0006982', 'nm1894124'),\n",
              " ('nm0006982', 'nm0004429'),\n",
              " ('nm0006982', 'nm0023173'),\n",
              " ('nm0006982', 'nm1352627'),\n",
              " ('nm0006982', 'nm3183374'),\n",
              " ('nm0006982', 'nm0347953'),\n",
              " ('nm0006982', 'nm0619779'),\n",
              " ('nm0006982', 'nm0695199'),\n",
              " ('nm0006982', 'nm0004463'),\n",
              " ('nm0006982', 'nm0045119'),\n",
              " ('nm0006982', 'nm0837797'),\n",
              " ('nm0006982', 'nm0000616'),\n",
              " ('nm0006982', 'nm0158101'),\n",
              " ('nm0006982', 'nm0764762'),\n",
              " ('nm0006982', 'nm0004437'),\n",
              " ('nm0006982', 'nm0453520'),\n",
              " ('nm0006982', 'nm0688093'),\n",
              " ('nm0006982', 'nm1006879'),\n",
              " ('nm0006982', 'nm0613417'),\n",
              " ('nm0006982', 'nm0367928'),\n",
              " ('nm0006982', 'nm0154164'),\n",
              " ('nm0006982', 'nm0420092'),\n",
              " ('nm0006982', 'nm0315553'),\n",
              " ('nm0006982', 'nm0021728'),\n",
              " ('nm0006982', 'nm0893449'),\n",
              " ('nm0006982', 'nm0352032'),\n",
              " ('nm0006982', 'nm0474820'),\n",
              " ('nm0006982', 'nm0019382'),\n",
              " ('nm0006982', 'nm0798827'),\n",
              " ('nm0006982', 'nm1066548'),\n",
              " ('nm0006982', 'nm1066229'),\n",
              " ('nm0006982', 'nm0003501'),\n",
              " ('nm0006982', 'nm0595934'),\n",
              " ('nm0006982', 'nm1001108'),\n",
              " ('nm0006982', 'nm0945427'),\n",
              " ('nm0006982', 'nm0654710'),\n",
              " ('nm0006982', 'nm0080173'),\n",
              " ('nm0006982', 'nm0667985'),\n",
              " ('nm0006982', 'nm0695177'),\n",
              " ('nm0006982', 'nm0659173'),\n",
              " ('nm0006982', 'nm0419707'),\n",
              " ('nm0006982', 'nm0993695'),\n",
              " ('nm0006982', 'nm0004660'),\n",
              " ('nm0006982', 'nm0419685'),\n",
              " ('nm0006982', 'nm0004467'),\n",
              " ('nm0006982', 'nm0820286'),\n",
              " ('nm0006982', 'nm0747131'),\n",
              " ('nm0006982', 'nm2147526'),\n",
              " ('nm0006982', 'nm0417314'),\n",
              " ('nm0006982', 'nm2366585'),\n",
              " ('nm0006982', 'nm0451600'),\n",
              " ('nm0006982', 'nm0453523'),\n",
              " ('nm0006982', 'nm0159159'),\n",
              " ('nm0006982', 'nm0433884'),\n",
              " ('nm0006982', 'nm0739418'),\n",
              " ('nm0006982', 'nm0482285'),\n",
              " ('nm0006982', 'nm0764298'),\n",
              " ('nm0006982', 'nm0033136'),\n",
              " ('nm0006982', 'nm0004109'),\n",
              " ('nm0006982', 'nm0369058'),\n",
              " ('nm0006982', 'nm1069583'),\n",
              " ('nm0006982', 'nm0297793'),\n",
              " ('nm0006982', 'nm0420090'),\n",
              " ('nm0006982', 'nm2803981'),\n",
              " ('nm0006982', 'nm0214150'),\n",
              " ('nm0006982', 'nm0757820'),\n",
              " ('nm0006982', 'nm0419688'),\n",
              " ('nm0006982', 'nm0329730'),\n",
              " ('nm0006982', 'nm0304261'),\n",
              " ('nm0006982', 'nm0438615'),\n",
              " ('nm0006982', 'nm0951019'),\n",
              " ('nm0006982', 'nm0611481'),\n",
              " ('nm0006982', 'nm0019699'),\n",
              " ('nm0006982', 'nm0707425'),\n",
              " ('nm0006982', 'nm0409204'),\n",
              " ('nm0006982', 'nm0620630'),\n",
              " ('nm0006982', 'nm0813098'),\n",
              " ('nm0006982', 'nm0000821'),\n",
              " ('nm0006982', 'nm0158112'),\n",
              " ('nm0006982', 'nm0994324'),\n",
              " ('nm0006982', 'nm0950902'),\n",
              " ('nm0006982', 'nm1126254'),\n",
              " ('nm0006982', 'nm0154146'),\n",
              " ('nm0006982', 'nm0767800'),\n",
              " ('nm0006982', 'nm0814734'),\n",
              " ('nm0006982', 'nm0762844'),\n",
              " ('nm0006982', 'nm0004469'),\n",
              " ('nm0006982', 'nm0793731'),\n",
              " ('nm0006982', 'nm0013023'),\n",
              " ('nm0006982', 'nm1846851'),\n",
              " ('nm0006982', 'nm0249982'),\n",
              " ('nm0006982', 'nm0621937'),\n",
              " ('nm0006982', 'nm0080238'),\n",
              " ('nm0006982', 'nm1698868'),\n",
              " ('nm0006982', 'nm0257406'),\n",
              " ('nm0006982', 'nm1984183'),\n",
              " ('nm0006982', 'nm0938860'),\n",
              " ('nm0006982', 'nm0850809'),\n",
              " ('nm0006982', 'nm0151526'),\n",
              " ('nm0006982', 'nm0274628'),\n",
              " ('nm0006982', 'nm1292277'),\n",
              " ('nm0006982', 'nm0889928'),\n",
              " ('nm0006982', 'nm0430803'),\n",
              " ('nm0006982', 'nm0032900'),\n",
              " ('nm0006982', 'nm0349347'),\n",
              " ('nm0006982', 'nm3372956'),\n",
              " ('nm0006982', 'nm0252843'),\n",
              " ('nm0006982', 'nm0415556'),\n",
              " ('nm0006982', 'nm0244884'),\n",
              " ('nm0006982', 'nm0320883'),\n",
              " ('nm0006982', 'nm0273077'),\n",
              " ('nm0006982', 'nm1065460'),\n",
              " ('nm0006982', 'nm0354563'),\n",
              " ('nm0006982', 'nm0044796'),\n",
              " ('nm0006982', 'nm1069897'),\n",
              " ('nm0006982', 'nm1078702'),\n",
              " ('nm0006982', 'nm0086984'),\n",
              " ('nm0006982', 'nm0991887'),\n",
              " ('nm0006982', 'nm0790096'),\n",
              " ('nm0006982', 'nm0501288'),\n",
              " ('nm0006982', 'nm0251122'),\n",
              " ('nm0006982', 'nm0807979'),\n",
              " ('nm0006982', 'nm0534501'),\n",
              " ('nm0006982', 'nm1059046'),\n",
              " ('nm0006982', 'nm0006763'),\n",
              " ('nm0006982', 'nm0062540'),\n",
              " ('nm0006982', 'nm2103554'),\n",
              " ('nm0006982', 'nm1064945'),\n",
              " ('nm0006982', 'nm0433887'),\n",
              " ('nm0006982', 'nm0710036'),\n",
              " ('nm0006982', 'nm0511276'),\n",
              " ('nm0006982', 'nm0101558'),\n",
              " ('nm0006982', 'nm0593722'),\n",
              " ('nm0006982', 'nm0707399'),\n",
              " ('nm0006982', 'nm0080246'),\n",
              " ('nm0006982', 'nm0042124'),\n",
              " ('nm0006982', 'nm0590985'),\n",
              " ('nm0006982', 'nm0000561'),\n",
              " ('nm0006982', 'nm0044467'),\n",
              " ('nm0006982', 'nm2082516'),\n",
              " ('nm0006982', 'nm0922301'),\n",
              " ('nm0006982', 'nm0415538'),\n",
              " ('nm0006982', 'nm0042820'),\n",
              " ('nm0006982', 'nm0004334'),\n",
              " ('nm0006982', 'nm0889148'),\n",
              " ('nm0006982', 'nm0044600'),\n",
              " ('nm0006982', 'nm0395121'),\n",
              " ('nm0006982', 'nm0001360'),\n",
              " ('nm0006982', 'nm0225042'),\n",
              " ('nm0006982', 'nm0802374'),\n",
              " ('nm0006982', 'nm0052835'),\n",
              " ('nm0006982', 'nm0695170'),\n",
              " ('nm0006982', 'nm0004435'),\n",
              " ('nm0006982', 'nm0766470'),\n",
              " ('nm0006982', 'nm1794903'),\n",
              " ('nm0006982', 'nm0813762'),\n",
              " ('nm0006982', 'nm0823633'),\n",
              " ('nm0006982', 'nm0504126'),\n",
              " ('nm0006982', 'nm0440202'),\n",
              " ('nm0006982', 'nm0359129'),\n",
              " ('nm0006982', 'nm0083238'),\n",
              " ('nm0006982', 'nm1129966'),\n",
              " ('nm0006982', 'nm0783991'),\n",
              " ('nm0006982', 'nm0013566'),\n",
              " ('nm0006982', 'nm0261825'),\n",
              " ('nm0006982', 'nm0406743'),\n",
              " ('nm0006982', 'nm0052322'),\n",
              " ('nm0006982', 'nm0082848'),\n",
              " ('nm0006982', 'nm0000367'),\n",
              " ('nm0006982', 'nm2384746'),\n",
              " ('nm0006982', 'nm1388202'),\n",
              " ('nm0006982', 'nm0854251'),\n",
              " ('nm0006982', 'nm0405977'),\n",
              " ('nm0006982', 'nm0638150'),\n",
              " ('nm0006982', 'nm0436922'),\n",
              " ('nm0006982', 'nm0015000'),\n",
              " ('nm0006982', 'nm0462607'),\n",
              " ('nm0006982', 'nm0035280'),\n",
              " ('nm0006982', 'nm0113902'),\n",
              " ('nm0006982', 'nm0297386'),\n",
              " ('nm0006982', 'nm0434318'),\n",
              " ('nm0006982', 'nm0225905'),\n",
              " ('nm0006982', 'nm0849011'),\n",
              " ('nm0006982', 'nm0700875'),\n",
              " ('nm0006982', 'nm0767945'),\n",
              " ('nm0006982', 'nm0945189'),\n",
              " ('nm0006982', 'nm0875465'),\n",
              " ('nm0006982', 'nm0847264'),\n",
              " ('nm0006982', 'nm0124973'),\n",
              " ('nm0006982', 'nm0660658'),\n",
              " ('nm0006982', 'nm0605662'),\n",
              " ('nm0006982', 'nm1467390'),\n",
              " ('nm0006982', 'nm1138888'),\n",
              " ('nm0006982', 'nm0128880'),\n",
              " ('nm0006982', 'nm0004434'),\n",
              " ('nm0006982', 'nm1272494'),\n",
              " ('nm0006982', 'nm0004576'),\n",
              " ('nm0006982', 'nm0415582'),\n",
              " ('nm0006982', 'nm0209649'),\n",
              " ('nm0006982', 'nm0000514'),\n",
              " ('nm0006982', 'nm0392442'),\n",
              " ('nm0006982', 'nm0690450'),\n",
              " ('nm0006982', 'nm0889542'),\n",
              " ('nm0006982', 'nm0158656'),\n",
              " ('nm0006982', 'nm0033245'),\n",
              " ('nm0006982', 'nm0628736'),\n",
              " ('nm0006982', 'nm0474876'),\n",
              " ('nm0006982', 'nm0448906'),\n",
              " ('nm0006982', 'nm0655803'),\n",
              " ('nm0006982', 'nm0001935'),\n",
              " ('nm0006982', 'nm0471447'),\n",
              " ('nm0006982', 'nm1001213'),\n",
              " ('nm0006982', 'nm1045141'),\n",
              " ('nm0006982', 'nm0051765'),\n",
              " ('nm0006982', 'nm0474907'),\n",
              " ('nm0006982', 'nm0441154'),\n",
              " ('nm0006982', 'nm0084435'),\n",
              " ('nm0006982', 'nm0398801'),\n",
              " ('nm0006982', 'nm0024302'),\n",
              " ('nm0006982', 'nm0663708'),\n",
              " ('nm0006982', 'nm1984346'),\n",
              " ('nm0006982', 'nm0764871'),\n",
              " ('nm0006982', 'nm0453667'),\n",
              " ('nm0006982', 'nm0476429'),\n",
              " ('nm0006982', 'nm0145061'),\n",
              " ('nm0006982', 'nm0025389'),\n",
              " ('nm0006982', 'nm1263070'),\n",
              " ('nm0006982', 'nm0080445'),\n",
              " ('nm0006982', 'nm0018203'),\n",
              " ('nm0006982', 'nm0848533'),\n",
              " ('nm0006982', 'nm0427659'),\n",
              " ('nm0006982', 'nm0824496'),\n",
              " ('nm0006982', 'nm0619101'),\n",
              " ('nm0006982', 'nm0909145'),\n",
              " ('nm0006982', 'nm1150184'),\n",
              " ('nm0006982', 'nm0000078'),\n",
              " ('nm0006982', 'nm0004569'),\n",
              " ('nm0006982', 'nm0616102'),\n",
              " ('nm0006982', 'nm1399111'),\n",
              " ('nm0006982', 'nm0462013'),\n",
              " ('nm0006982', 'nm0787462'),\n",
              " ('nm0006982', 'nm0226770'),\n",
              " ('nm0006982', 'nm0435229'),\n",
              " ('nm0006982', 'nm0707901'),\n",
              " ('nm0006982', 'nm0880857'),\n",
              " ('nm0006982', 'nm0820208'),\n",
              " ('nm0006982', 'nm0704654'),\n",
              " ('nm0006982', 'nm0858128'),\n",
              " ('nm0006982', 'nm0882485'),\n",
              " ('nm0006982', 'nm1001836'),\n",
              " ('nm0006982', 'nm0018437'),\n",
              " ('nm0006982', 'nm0008354'),\n",
              " ('nm0006982', 'nm6563624'),\n",
              " ('nm0006982', 'nm0576454'),\n",
              " ('nm0006982', 'nm0441526'),\n",
              " ('nm0006982', 'nm0258899'),\n",
              " ('nm0006982', 'nm0406737'),\n",
              " ('nm0006982', 'nm0002002'),\n",
              " ('nm0006982', 'nm0708032'),\n",
              " ('nm0006982', 'nm0273178'),\n",
              " ('nm0006982', 'nm0802107'),\n",
              " ('nm0006982', 'nm0993416'),\n",
              " ('nm0006982', 'nm0151685'),\n",
              " ('nm0006982', 'nm0034925'),\n",
              " ('nm0006982', 'nm0327861'),\n",
              " ('nm0006982', 'nm0671381'),\n",
              " ('nm0006982', 'nm0154110'),\n",
              " ('nm0006982', 'nm5083230'),\n",
              " ('nm0006982', 'nm0700869'),\n",
              " ('nm0006982', 'nm1156772'),\n",
              " ('nm0006982', 'nm0729461'),\n",
              " ('nm0006982', 'nm0332871'),\n",
              " ('nm0006982', 'nm0052332'),\n",
              " ('nm0006982', 'nm0179516'),\n",
              " ('nm0006982', 'nm0586733'),\n",
              " ('nm0006982', 'nm0710211'),\n",
              " ('nm0006982', 'nm0875370'),\n",
              " ('nm0006982', 'nm0202515'),\n",
              " ('nm0006982', 'nm0474774'),\n",
              " ('nm0006982', 'nm0882219'),\n",
              " ('nm0006982', 'nm0312647'),\n",
              " ('nm0006982', 'nm0509573'),\n",
              " ('nm0006982', 'nm0490489'),\n",
              " ('nm0006982', 'nm0217022'),\n",
              " ('nm0006982', 'nm3128033'),\n",
              " ('nm0006982', 'nm0694893'),\n",
              " ('nm0006982', 'nm0073426'),\n",
              " ('nm0006982', 'nm0430772'),\n",
              " ('nm0006982', 'nm1422956'),\n",
              " ('nm0006982', 'nm0594702'),\n",
              " ('nm0006982', 'nm0016321'),\n",
              " ('nm0006982', 'nm0412883'),\n",
              " ('nm0006982', 'nm0474850'),\n",
              " ('nm0006982', 'nm0433853'),\n",
              " ('nm0006982', 'nm0095919'),\n",
              " ('nm0006982', 'nm0002161'),\n",
              " ('nm0006982', 'nm0438501'),\n",
              " ('nm0006982', 'nm1154608'),\n",
              " ('nm0006982', 'nm0273049'),\n",
              " ('nm0006982', 'nm0007023'),\n",
              " ('nm0006982', 'nm0423663'),\n",
              " ('nm0006982', 'nm0159269'),\n",
              " ('nm0006982', 'nm0603865'),\n",
              " ('nm0006982', 'nm2813324'),\n",
              " ('nm0006982', 'nm0516316'),\n",
              " ('nm0006982', 'nm0451396'),\n",
              " ('nm0006982', 'nm0938893'),\n",
              " ('nm0006982', 'nm0350104'),\n",
              " ('nm0006982', 'nm0000818'),\n",
              " ('nm0006982', 'nm0453472'),\n",
              " ('nm0006982', 'nm0939233'),\n",
              " ('nm0006982', 'nm0001744'),\n",
              " ('nm0006982', 'nm0847301'),\n",
              " ('nm0006982', 'nm1720239'),\n",
              " ('nm0006982', 'nm2373718'),\n",
              " ('nm0006982', 'nm0306497'),\n",
              " ('nm0006982', 'nm0411714'),\n",
              " ('nm0006982', 'nm0184722'),\n",
              " ('nm0006982', 'nm0733727'),\n",
              " ('nm0006982', 'nm0837420'),\n",
              " ('nm0006982', 'nm1031555'),\n",
              " ('nm0006982', 'nm0799108'),\n",
              " ('nm0006982', 'nm0066075'),\n",
              " ('nm0006982', 'nm0193809'),\n",
              " ('nm0006982', 'nm0651257'),\n",
              " ('nm0006982', 'nm0832011'),\n",
              " ('nm0006982', 'nm0723801'),\n",
              " ('nm0006982', 'nm0222145'),\n",
              " ('nm0006982', 'nm0704719'),\n",
              " ('nm0006982', 'nm0000440'),\n",
              " ('nm0006982', 'nm0442848'),\n",
              " ('nm0006982', 'nm0626259'),\n",
              " ('nm0006982', 'nm0619758'),\n",
              " ('nm0006982', 'nm0045075'),\n",
              " ('nm0006982', 'nm0529876'),\n",
              " ('nm0006982', 'nm1908630'),\n",
              " ('nm0006982', 'nm0889024'),\n",
              " ('nm0006982', 'nm0412637'),\n",
              " ('nm0006982', 'nm1955178'),\n",
              " ('nm0006982', 'nm0534863'),\n",
              " ('nm0006982', 'nm0359226'),\n",
              " ('nm0006982', 'nm0006842'),\n",
              " ('nm0006982', 'nm0538690'),\n",
              " ('nm0006982', 'nm0457410'),\n",
              " ('nm0006982', 'nm0190217'),\n",
              " ('nm0006982', 'nm0463803'),\n",
              " ('nm0006982', 'nm0793766'),\n",
              " ('nm0006982', 'nm0219939'),\n",
              " ('nm0006982', 'nm0080228'),\n",
              " ('nm0006982', 'nm1035862'),\n",
              " ('nm0006982', 'nm0147436'),\n",
              " ('nm0006982', 'nm0794425'),\n",
              " ('nm0006982', 'nm0417310'),\n",
              " ('nm0006982', 'nm0407329'),\n",
              " ('nm0006982', 'nm0451862'),\n",
              " ('nm0006982', 'nm0224786'),\n",
              " ('nm0006982', 'nm0417270'),\n",
              " ('nm0006982', 'nm0007124'),\n",
              " ('nm0006982', 'nm0599210'),\n",
              " ('nm0006982', 'nm0722029'),\n",
              " ('nm0006982', 'nm1045369'),\n",
              " ('nm0006982', 'nm0613514'),\n",
              " ('nm0006982', 'nm0960385'),\n",
              " ('nm0006982', 'nm1008063'),\n",
              " ('nm0006982', 'nm0451166'),\n",
              " ('nm0006982', 'nm0181397'),\n",
              " ('nm0006982', 'nm0907888'),\n",
              " ('nm0006982', 'nm0151539'),\n",
              " ('nm0006982', 'nm0004564'),\n",
              " ('nm0006982', 'nm0712546'),\n",
              " ('nm0006982', 'nm0579663'),\n",
              " ('nm0006982', 'nm0415851'),\n",
              " ('nm0006982', 'nm0461985'),\n",
              " ('nm0006982', 'nm0408381'),\n",
              " ('nm0006982', 'nm0000859'),\n",
              " ('nm0006982', 'nm0681566'),\n",
              " ('nm0006982', 'nm0030672'),\n",
              " ('nm0006982', 'nm0576495'),\n",
              " ('nm0006982', 'nm0519765'),\n",
              " ('nm0006982', 'nm0650394'),\n",
              " ('nm0006982', 'nm0430646'),\n",
              " ('nm0006982', 'nm0001803'),\n",
              " ('nm0006982', 'nm0876553'),\n",
              " ('nm0006982', 'nm1035848'),\n",
              " ('nm0006982', 'nm0691995'),\n",
              " ('nm0006982', 'nm0463953'),\n",
              " ('nm0006982', 'nm1428724'),\n",
              " ('nm0006982', 'nm1770187'),\n",
              " ('nm0006982', 'nm2488797'),\n",
              " ('nm0006982', 'nm0002503'),\n",
              " ('nm0006982', 'nm0001120'),\n",
              " ('nm0006982', 'nm0407002'),\n",
              " ('nm0006982', 'nm0001917'),\n",
              " ('nm0006982', 'nm0619047'),\n",
              " ('nm0006982', 'nm0261724'),\n",
              " ('nm0006982', 'nm0498645'),\n",
              " ('nm0006982', 'nm0611804'),\n",
              " ('nm0006982', 'nm0080337'),\n",
              " ('nm0006982', 'nm0272240'),\n",
              " ('nm0006982', 'nm0958144'),\n",
              " ('nm0006982', 'nm0991856'),\n",
              " ('nm0006982', 'nm0531759'),\n",
              " ('nm0006982', 'nm0592789'),\n",
              " ('nm0006982', 'nm0047962'),\n",
              " ('nm0006982', 'nm0594465'),\n",
              " ('nm0006982', 'nm0011409'),\n",
              " ('nm0006982', 'nm0015360'),\n",
              " ('nm0648803', 'nm0305182'),\n",
              " ('nm0648803', 'nm0623427'),\n",
              " ('nm0648803', 'nm0793813'),\n",
              " ('nm0648803', 'nm0246703'),\n",
              " ('nm0648803', 'nm0619107'),\n",
              " ('nm0648803', 'nm0007123'),\n",
              " ('nm0648803', 'nm7390393'),\n",
              " ('nm0648803', 'nm0046850'),\n",
              " ('nm0648803', 'nm0482320'),\n",
              " ('nm0648803', 'nm0149822'),\n",
              " ('nm0648803', 'nm0304262'),\n",
              " ('nm0648803', 'nm0706691'),\n",
              " ('nm0648803', 'nm0619309'),\n",
              " ('nm0648803', 'nm0007106'),\n",
              " ('nm0648803', 'nm0659250'),\n",
              " ('nm0648803', 'nm0419653'),\n",
              " ('nm0648803', 'nm0001000'),\n",
              " ('nm0648803', 'nm0415549'),\n",
              " ('nm0648803', 'nm0000465'),\n",
              " ('nm0648803', 'nm0035067'),\n",
              " ('nm0648803', 'nm0261738'),\n",
              " ('nm0648803', 'nm0534867'),\n",
              " ('nm0648803', 'nm0004417'),\n",
              " ('nm0648803', 'nm0374974'),\n",
              " ('nm0648803', 'nm0006369'),\n",
              " ('nm0648803', 'nm0222432'),\n",
              " ('nm0648803', 'nm1894124'),\n",
              " ('nm0648803', 'nm0004429'),\n",
              " ('nm0648803', 'nm0023173'),\n",
              " ('nm0648803', 'nm1352627'),\n",
              " ('nm0648803', 'nm3183374'),\n",
              " ('nm0648803', 'nm0347953'),\n",
              " ('nm0648803', 'nm0619779'),\n",
              " ('nm0648803', 'nm0695199'),\n",
              " ('nm0648803', 'nm0004463'),\n",
              " ('nm0648803', 'nm0045119'),\n",
              " ('nm0648803', 'nm0837797'),\n",
              " ('nm0648803', 'nm0000616'),\n",
              " ('nm0648803', 'nm0158101'),\n",
              " ('nm0648803', 'nm0764762'),\n",
              " ('nm0648803', 'nm0004437'),\n",
              " ('nm0648803', 'nm0453520'),\n",
              " ('nm0648803', 'nm0688093'),\n",
              " ('nm0648803', 'nm1006879'),\n",
              " ('nm0648803', 'nm0613417'),\n",
              " ('nm0648803', 'nm0367928'),\n",
              " ('nm0648803', 'nm0154164'),\n",
              " ('nm0648803', 'nm0420092'),\n",
              " ('nm0648803', 'nm0315553'),\n",
              " ('nm0648803', 'nm0021728'),\n",
              " ('nm0648803', 'nm0893449'),\n",
              " ('nm0648803', 'nm0352032'),\n",
              " ('nm0648803', 'nm0474820'),\n",
              " ('nm0648803', 'nm0019382'),\n",
              " ('nm0648803', 'nm0798827'),\n",
              " ('nm0648803', 'nm1066548'),\n",
              " ('nm0648803', 'nm1066229'),\n",
              " ('nm0648803', 'nm0003501'),\n",
              " ('nm0648803', 'nm0595934'),\n",
              " ('nm0648803', 'nm1001108'),\n",
              " ('nm0648803', 'nm0945427'),\n",
              " ('nm0648803', 'nm0654710'),\n",
              " ('nm0648803', 'nm0080173'),\n",
              " ('nm0648803', 'nm0667985'),\n",
              " ('nm0648803', 'nm0695177'),\n",
              " ('nm0648803', 'nm0659173'),\n",
              " ('nm0648803', 'nm0419707'),\n",
              " ('nm0648803', 'nm0993695'),\n",
              " ('nm0648803', 'nm0004660'),\n",
              " ('nm0648803', 'nm0419685'),\n",
              " ('nm0648803', 'nm0004467'),\n",
              " ('nm0648803', 'nm0820286'),\n",
              " ('nm0648803', 'nm0747131'),\n",
              " ('nm0648803', 'nm2147526'),\n",
              " ('nm0648803', 'nm0417314'),\n",
              " ('nm0648803', 'nm2366585'),\n",
              " ('nm0648803', 'nm0451600'),\n",
              " ('nm0648803', 'nm0453523'),\n",
              " ('nm0648803', 'nm0159159'),\n",
              " ('nm0648803', 'nm0433884'),\n",
              " ('nm0648803', 'nm0739418'),\n",
              " ('nm0648803', 'nm0482285'),\n",
              " ('nm0648803', 'nm0764298'),\n",
              " ('nm0648803', 'nm0033136'),\n",
              " ('nm0648803', 'nm0004109'),\n",
              " ('nm0648803', 'nm0369058'),\n",
              " ('nm0648803', 'nm1069583'),\n",
              " ('nm0648803', 'nm0297793'),\n",
              " ('nm0648803', 'nm0420090'),\n",
              " ('nm0648803', 'nm2803981'),\n",
              " ('nm0648803', 'nm0214150'),\n",
              " ('nm0648803', 'nm0757820'),\n",
              " ('nm0648803', 'nm0419688'),\n",
              " ('nm0648803', 'nm0329730'),\n",
              " ('nm0648803', 'nm0304261'),\n",
              " ('nm0648803', 'nm0438615'),\n",
              " ('nm0648803', 'nm0951019'),\n",
              " ('nm0648803', 'nm0611481'),\n",
              " ('nm0648803', 'nm0019699'),\n",
              " ('nm0648803', 'nm0707425'),\n",
              " ('nm0648803', 'nm0409204'),\n",
              " ('nm0648803', 'nm0620630'),\n",
              " ('nm0648803', 'nm0813098'),\n",
              " ('nm0648803', 'nm0000821'),\n",
              " ('nm0648803', 'nm0158112'),\n",
              " ('nm0648803', 'nm0994324'),\n",
              " ('nm0648803', 'nm0950902'),\n",
              " ('nm0648803', 'nm1126254'),\n",
              " ('nm0648803', 'nm0154146'),\n",
              " ('nm0648803', 'nm0767800'),\n",
              " ('nm0648803', 'nm0814734'),\n",
              " ('nm0648803', 'nm0762844'),\n",
              " ('nm0648803', 'nm0004469'),\n",
              " ('nm0648803', 'nm0793731'),\n",
              " ('nm0648803', 'nm0013023'),\n",
              " ('nm0648803', 'nm1846851'),\n",
              " ('nm0648803', 'nm0249982'),\n",
              " ('nm0648803', 'nm0621937'),\n",
              " ('nm0648803', 'nm0080238'),\n",
              " ('nm0648803', 'nm1698868'),\n",
              " ('nm0648803', 'nm0257406'),\n",
              " ('nm0648803', 'nm1984183'),\n",
              " ('nm0648803', 'nm0938860'),\n",
              " ('nm0648803', 'nm0850809'),\n",
              " ('nm0648803', 'nm0151526'),\n",
              " ('nm0648803', 'nm0274628'),\n",
              " ('nm0648803', 'nm1292277'),\n",
              " ('nm0648803', 'nm0889928'),\n",
              " ('nm0648803', 'nm0430803'),\n",
              " ('nm0648803', 'nm0032900'),\n",
              " ('nm0648803', 'nm0349347'),\n",
              " ...]"
            ]
          },
          "metadata": {},
          "execution_count": 24
        }
      ]
    },
    {
      "cell_type": "markdown",
      "metadata": {
        "id": "4t3bZB6IbexA"
      },
      "source": [
        "We then define a function filtering out singletons (actors) not compliant with the threshold we chose."
      ]
    },
    {
      "cell_type": "code",
      "metadata": {
        "id": "Pd0JYAiVsuK5"
      },
      "source": [
        "def actors_threshold(baskets, threshold, remove=True):\n",
        "    actors_selected = count_singletons(baskets).filter(lambda freq: freq[-1] >= threshold)\n",
        "    if removed:\n",
        "        actors_selected = actors_selected.map(lambda a: (a[:-1])) #(a[0])\n",
        "    return (actors_selected)"
      ],
      "execution_count": null,
      "outputs": []
    },
    {
      "cell_type": "code",
      "metadata": {
        "id": "ZYqw_KyyFxaF"
      },
      "source": [
        "# Testing \n",
        "t1 = actors_threshold(baskets_actors, 118)"
      ],
      "execution_count": null,
      "outputs": []
    },
    {
      "cell_type": "code",
      "metadata": {
        "colab": {
          "base_uri": "https://localhost:8080/"
        },
        "id": "1BucWneWF2Tn",
        "outputId": "54cef10b-91af-4625-c65d-0f625a3e9984"
      },
      "source": [
        "t1.take(2)"
      ],
      "execution_count": null,
      "outputs": [
        {
          "output_type": "execute_result",
          "data": {
            "text/plain": [
              "['nm0435229', 'nm0002503']"
            ]
          },
          "metadata": {},
          "execution_count": 25
        }
      ]
    },
    {
      "cell_type": "markdown",
      "metadata": {
        "id": "QaDkZAKecrip"
      },
      "source": [
        "We define a function which performs the computations of both the functions above: *count_singletons* and *actors_threshold*."
      ]
    },
    {
      "cell_type": "code",
      "metadata": {
        "id": "eqF76qeaGq6e"
      },
      "source": [
        "def singleton_threshold(data, threshold):\n",
        "    list_singletons = data.flatMap(list).map(lambda actor: (actor, 1)).reduceByKey(lambda a, b: a+b)\n",
        "    actors_counts = list_singletons.filter(lambda freq: freq[1] >= threshold)\n",
        "    actors_selected = actors_counts.map(lambda a: (a[0])) #(a[0])\n",
        "    return(actors_selected)"
      ],
      "execution_count": 42,
      "outputs": []
    },
    {
      "cell_type": "code",
      "metadata": {
        "id": "WMc5LFxMHGgX"
      },
      "source": [
        "# Testing\n",
        "t2 = singleton_threshold(baskets_actors, 118)"
      ],
      "execution_count": 43,
      "outputs": []
    },
    {
      "cell_type": "code",
      "metadata": {
        "colab": {
          "base_uri": "https://localhost:8080/"
        },
        "id": "VA-7gfD9IGFI",
        "outputId": "0b7198f2-f7cc-4ff0-93f4-045aab86ad91"
      },
      "source": [
        "t2.take(2)"
      ],
      "execution_count": null,
      "outputs": [
        {
          "output_type": "execute_result",
          "data": {
            "text/plain": [
              "['nm0435229', 'nm0002503']"
            ]
          },
          "metadata": {},
          "execution_count": 18
        }
      ]
    },
    {
      "cell_type": "markdown",
      "metadata": {
        "id": "B3tw6NibedQw"
      },
      "source": [
        "Two different versions of a-priori algorithm to follow."
      ]
    },
    {
      "cell_type": "code",
      "metadata": {
        "id": "zKPaGkSNHKej"
      },
      "source": [
        "# MOLTO SIMILE a quello originale:\n",
        "#   cambiati nomi variabili\n",
        "#   inserito \"singletons\" tra variabili input, al posto di generarli all'interno di questa funzione con count_singletons\n",
        "\n",
        "def priori(baskets, singletons, threshold):\n",
        "    comb_actors = list(combinations(singletons.toLocalIterator(),2)) \n",
        "    #initialize support as empty rdd\n",
        "    selected = sc.parallelize([]) \n",
        "    #cache the rdd for better perfomance, it is reused multiple times\n",
        "    baskets.cache()\n",
        "    i=3 #starts at 3 since we already found the pairs\n",
        "    #cicles until possible combinations are found\n",
        "    while len(comb_actors)>0: \n",
        "        #chek whether the possible items are frequent in the dataset\n",
        "        frequent_items = baskets.flatMap(lambda basket: [(tuple(item), 1) for item in comb_actors if set(list(item)).issubset(set(basket))])\n",
        "        frequent_items_1 = frequent_items.reduceByKey(lambda x, y: x+y).filter(lambda item: item[1] >= threshold)\n",
        "        #add the frequent items and their occurrencies to support rdd\n",
        "        selected = selected.union(frequent_items) \n",
        "        #generates new items from the last frequent items found using the function defined above\n",
        "        comb_actors = new_combinations(frequent_items, i) \n",
        "        #increment i\n",
        "        i += 1  \n",
        "        \n",
        "    #remove actor_baskets from cache\n",
        "    baskets.unpersist()\n",
        "    return(selected)"
      ],
      "execution_count": null,
      "outputs": []
    },
    {
      "cell_type": "code",
      "metadata": {
        "id": "lGotp1oyS7Hk"
      },
      "source": [
        "# Parte da una base modificata (come funzione precedente con cambio variabili + singleton)\n",
        "# L'idea teorica alla base è la seguente: \n",
        "#   se il singolo attore A non è frequente (in base al threshold X scelto), la combinazione (coppia) tra attore A e attore B non può essere frequente\n",
        "#   Questo concetto vale anche per combinazioni di 3, 4, 5 attori.\n",
        "# L'obiettivo è quello di:\n",
        "#   - per ogni set di combinazioni ottenute da \"list(combinations(singletons.toLocalIterator(), number))\" - cioè per ogni \"number\", ossia set di coppie, triplette ecc -\n",
        "#     la funzione considera solo le combinazioni composte da singletons (items, ossia attori) che abbiano frequenza superiore al threshold.\n",
        "#   - Per fare ciò, forniamo \"singletons\" come input, ossia abbiamo già calcolato prima gli items (attori) che rispettano il threshold, con \"actors_threshold()\".\n",
        "#   - Le coppie procedono solo se entrambi gli items sono nella lista restituita da \"actors_threshold()\" (cioè input \"singletons\").\n",
        "#   - Iterando nelle combinazioni successive (triplette, quadriplette...), la funzione parte dalle combinazioni di dimensione \"number-1\"\n",
        "#     (esempio: per le triplette dove number=3, la funzione considera le doppiette) già presenti nelle lista \"selected\" e aggiunge un item singolo (attore) dalla lista\n",
        "#     di singletons fornita in input (\"singletons\").\n",
        "#   - Per ognuna di queste nuove combinazioni, la funzione filtra per il threshold scelto: procedono solo combinazioni che hanno frequenza superiore al threshold.\n",
        " \n",
        "\n",
        "\n",
        "# La prima funzione prende i singleton che rispettano in threshold e crea combinazioni usando essi.\n",
        "# Infine testa se questi pairs hanno frequenza superiore al threshold: se si, restituisce i pairs in \"selected_pairs\".\n",
        "\n",
        "def new_priori_1(baskets, singletons, threshold):\n",
        "\n",
        "    #comb_actors = list(combinations(singletons.toLocalIterator(), number)) \n",
        "    comb_actors = list(combinations(singletons.toLocalIterator(), 2))\n",
        "    selected = sc.parallelize([]) \n",
        "    baskets.cache()\n",
        "    #i=3 #more than pairs\n",
        "    \n",
        "    frequent_items = baskets.flatMap(lambda basket: [(tuple(item), 1) for item in comb_actors if set(list(item)).issubset(set(basket))]).reduceByKey(lambda a, b: a+b).filter(lambda freq: freq[1] >= threshold)\n",
        "        \n",
        "    selected_pairs = selected.union(frequent_items) \n",
        "    #generates new items from the last frequent items found using the function defined above\n",
        "    #comb_actors = new_combinations(frequent_items, i) \n",
        "    #increment i\n",
        "    #i += 1  \n",
        "    #number += 1\n",
        "        \n",
        "    #remove actor_baskets from cache\n",
        "    baskets.unpersist()\n",
        "    return(selected_pairs)\n",
        "\n",
        "# Con questa funzione si vuole calcolare le triplette.\n",
        "# Partendo dai pairs calcolati nella funzione precedente, si calcolano tutte le possibili combinazioni tra i pairs ottenuti prima e i singletons ottenuti precedentemente (cioè \n",
        "# gli attori con frequenza superiore al threshold ottenuti con \"actors_threshold()\"). <- COME FARE????\n",
        "\n",
        "def new_priori_2(baskets, singletons, pairs, threshold):\n",
        "\n",
        "    # Opzione 1\n",
        "    #comb_actors = list(combinations(singletons.toLocalIterator(), 3)) # Non va bene perchè partirebbe da zero, senza considerare i risultati precedenti\n",
        "    \n",
        "    # Opzione 2\n",
        "    comb_actors = list(itertools.product(pairs, singletons)) # Può funzionare??\n",
        "\n",
        "    # Opzione 3\n",
        "    # Fare come in funzione new_combinations al aprtire da \"for comb in list(product...\", cioè il catesian product, ma non so se funzioni.\n",
        "\n",
        "    selected = sc.parallelize([]) \n",
        "    baskets.cache()\n",
        "    #i=3 #more than pairs\n",
        "    \n",
        "    frequent_items = baskets.flatMap(lambda basket: [(tuple(item), 1) for item in comb_actors if set(list(item)).issubset(set(basket))]).reduceByKey(lambda a, b: a+b).filter(lambda freq: freq[1] >= threshold)\n",
        "        \n",
        "    selected_triplets = selected.union(frequent_items) \n",
        "    #generates new items from the last frequent items found using the function defined above\n",
        "    #comb_actors = new_combinations(frequent_items, i) \n",
        "    #increment i\n",
        "    #i += 1  \n",
        "    #number += 1\n",
        "        \n",
        "    #remove actor_baskets from cache\n",
        "    baskets.unpersist()\n",
        "    return(selected_triplets)"
      ],
      "execution_count": 44,
      "outputs": []
    },
    {
      "cell_type": "markdown",
      "metadata": {
        "id": "HFJM9ZbPVUHb"
      },
      "source": [
        "---"
      ]
    },
    {
      "cell_type": "markdown",
      "metadata": {
        "id": "5jV0Q0gdVSgD"
      },
      "source": [
        "### Funziona"
      ]
    },
    {
      "cell_type": "code",
      "metadata": {
        "id": "fPik_Y2pVbdb"
      },
      "source": [
        "def count_singletons(data): \n",
        "  list_singletons = data.flatMap(list).map(lambda actor: (actor, 1)).reduceByKey(lambda a, b: a+b)\n",
        "  return(list_singletons)"
      ],
      "execution_count": null,
      "outputs": []
    },
    {
      "cell_type": "code",
      "metadata": {
        "id": "4_KZ7zynVc1b"
      },
      "source": [
        "def new_combinations(items, i):\n",
        "  #removes the counter\n",
        "  items = items.map(lambda item: list(item[0])) \n",
        "  #generate singletons from each item in items\n",
        "  singleton = count_singletons(items).map(lambda item: [item[0]]) \n",
        "  #initialize an empty list that will contain the new possible combinations\n",
        "  items_set = [] \n",
        "  #for cicle generates the new combinations using the carthesian product between \n",
        "  #items and singletons. the result will be like [[item],[singleton]]\n",
        "  for comb in list(product(items.toLocalIterator(), singleton.toLocalIterator())): \n",
        "    #merges the two lists into a \"new item\" with form \"new item\"=[item, singleton]\n",
        "    comb = comb[0]+comb[1] \n",
        "    #takes the set of each combination and orders it to prevent permutations to\n",
        "    #be counted as different item and to remove the repetitions of actors\n",
        "    comb_set = sorted(set().union(comb))\n",
        "    #if the set have size == i and was not already included in items_set\n",
        "    #then it is added to items_set\n",
        "    if (len(comb_set) == i) and comb_set not in items_set: \n",
        "        items_set.append(comb_set) #popoliamo items_set\n",
        "  return(items_set)"
      ],
      "execution_count": null,
      "outputs": []
    },
    {
      "cell_type": "code",
      "metadata": {
        "id": "92tvLs1f7PGy"
      },
      "source": [
        "def apriori(baskets, threshold): \n",
        "  #generate singletons \n",
        "  singleton = count_singletons(baskets).filter(lambda freq: freq[1] >= threshold).map(lambda x: (x[0])) \n",
        "  #find the possible pairs            \n",
        "  comb_actors = list(combinations(singleton.toLocalIterator(),2)) \n",
        "  #initialize support as empty rdd\n",
        "  support_set = sc.parallelize([]) \n",
        "  #cache the rdd for better perfomance, it is reused multiple times\n",
        "  baskets.cache()\n",
        "  n=3 #starts at 3 since we already found the pairs\n",
        "  #cicles until possible combinations are found\n",
        "  while len(comb_actors)>0: \n",
        "    #chek whether the possible items are frequent in the dataset\n",
        "    frequent_items = baskets.flatMap(lambda basket: [(tuple(item), 1) for item in comb_actors if set(list(item)).issubset(set(basket))]) \\\n",
        "                    .reduceByKey(lambda a, b: a+b).filter(lambda freq: freq[1] >= threshold)\n",
        "    #add the frequent items and their occurrencies to support rdd\n",
        "    support_set = support_set.union(frequent_items) \n",
        "    #generates new items from the last frequent items found using the function defined above\n",
        "    comb_actors = new_combinations(frequent_items, n) \n",
        "    #increment i\n",
        "    n += 1  \n",
        "    \n",
        "  #remove actor_baskets from cache\n",
        "  baskets.unpersist()\n",
        "  return (support_set)"
      ],
      "execution_count": null,
      "outputs": []
    },
    {
      "cell_type": "markdown",
      "metadata": {
        "id": "ex6vUuH_kbj3"
      },
      "source": [
        "We set the threshold value for considering baskets of actors and actresses at various levels."
      ]
    },
    {
      "cell_type": "code",
      "metadata": {
        "id": "yiRdvCwx7Ukm",
        "colab": {
          "base_uri": "https://localhost:8080/"
        },
        "outputId": "8cc52b29-1ee3-4365-c8d6-3099a8e1d6cb"
      },
      "source": [
        "#compute the Minimum Support using 0.0001 as fraction of the number of baskets\n",
        "#in order for pairs, triple etc. to be considered frequent \n",
        "count = baskets_actors.count()\n",
        "threshold = count*0.00025\n",
        "print(count, threshold)"
      ],
      "execution_count": null,
      "outputs": [
        {
          "output_type": "stream",
          "name": "stdout",
          "text": [
            "393759 98.43975\n"
          ]
        }
      ]
    },
    {
      "cell_type": "code",
      "metadata": {
        "colab": {
          "base_uri": "https://localhost:8080/"
        },
        "id": "Pf417rYVAIl5",
        "outputId": "238c09c3-6022-40c2-e9c8-dc70d4839a5f"
      },
      "source": [
        "# Fraction 0.1\n",
        "count_fraction = baskets_actors_fraction.count()\n",
        "threshold_fraction = count*0.0003\n",
        "print(count_fraction, threshold_fraction)"
      ],
      "execution_count": null,
      "outputs": [
        {
          "output_type": "stream",
          "name": "stdout",
          "text": [
            "39228 39.228\n"
          ]
        }
      ]
    },
    {
      "cell_type": "code",
      "metadata": {
        "colab": {
          "base_uri": "https://localhost:8080/"
        },
        "id": "P0km4GJ2DhYG",
        "outputId": "acf4c87c-a4df-43e3-c5e6-33814448a820"
      },
      "source": [
        "#Output of A-Priori on all baskets with 118 as minimum support\n",
        "print(apriori(baskets_actors, threshold).collect()) # 6h 10"
      ],
      "execution_count": null,
      "outputs": [
        {
          "output_type": "stream",
          "name": "stdout",
          "text": [
            "[(('nm0006982', 'nm0623427'), 236), (('nm0006982', 'nm0419653'), 162), (('nm0006982', 'nm0046850'), 169), (('nm0648803', 'nm2373718'), 126), (('nm0006982', 'nm0619779'), 122), (('nm2082516', 'nm0648803'), 147)]\n"
          ]
        }
      ]
    },
    {
      "cell_type": "code",
      "metadata": {
        "id": "q3AYdWa4FbjP"
      },
      "source": [
        "# Whole dataset ca 6h 10min\n",
        "start_time = time.time()\n",
        "list_apriori = apriori(baskets_actors, threshold).collect() \n",
        "print(time.time() - start_time)"
      ],
      "execution_count": null,
      "outputs": []
    },
    {
      "cell_type": "code",
      "metadata": {
        "id": "EUDAhw8gdPRX"
      },
      "source": [
        "list_apriori # total 0.0001 "
      ],
      "execution_count": null,
      "outputs": []
    },
    {
      "cell_type": "code",
      "metadata": {
        "id": "dzx2EIDVJ45t"
      },
      "source": [
        "list_apriori # total 0.00025  "
      ],
      "execution_count": null,
      "outputs": []
    },
    {
      "cell_type": "code",
      "metadata": {
        "colab": {
          "base_uri": "https://localhost:8080/"
        },
        "id": "uX8b14VX5F1b",
        "outputId": "cb3767c4-9e51-41b7-b661-a52431d7147c"
      },
      "source": [
        "list_apriori # total 0.0003 6h 10 min"
      ],
      "execution_count": null,
      "outputs": [
        {
          "output_type": "execute_result",
          "data": {
            "text/plain": [
              "[(('nm0006982', 'nm0623427'), 236),\n",
              " (('nm0006982', 'nm0419653'), 162),\n",
              " (('nm0006982', 'nm0046850'), 169),\n",
              " (('nm0648803', 'nm2373718'), 126),\n",
              " (('nm0006982', 'nm0619779'), 122),\n",
              " (('nm2082516', 'nm0648803'), 147)]"
            ]
          },
          "metadata": {},
          "execution_count": 28
        }
      ]
    },
    {
      "cell_type": "code",
      "metadata": {
        "colab": {
          "base_uri": "https://localhost:8080/"
        },
        "id": "DUxgEJcHgkw9",
        "outputId": "db3dd407-305e-49d9-df87-c33ab992dfce"
      },
      "source": [
        "list_apriori #0.0004 #1h 10min"
      ],
      "execution_count": null,
      "outputs": [
        {
          "output_type": "execute_result",
          "data": {
            "text/plain": [
              "[(('nm0006982', 'nm0623427'), 236),\n",
              " (('nm0006982', 'nm0419653'), 162),\n",
              " (('nm0006982', 'nm0046850'), 169)]"
            ]
          },
          "metadata": {},
          "execution_count": 37
        }
      ]
    },
    {
      "cell_type": "code",
      "metadata": {
        "colab": {
          "base_uri": "https://localhost:8080/"
        },
        "id": "dyU4kJvDF7-R",
        "outputId": "d290d809-87ca-4bd2-a1c6-d0b94d6e4cb8"
      },
      "source": [
        "list_apriori # total 0.0005 15min?"
      ],
      "execution_count": null,
      "outputs": [
        {
          "output_type": "execute_result",
          "data": {
            "text/plain": [
              "[(('nm0006982', 'nm0623427'), 236)]"
            ]
          },
          "metadata": {},
          "execution_count": 35
        }
      ]
    },
    {
      "cell_type": "code",
      "metadata": {
        "id": "cDojBNxx5pq-"
      },
      "source": [
        "# Fraction  0.1 = 1h 17min\n",
        "start_time = time.time()\n",
        "list_apriori = apriori(baskets_actors, threshold).collect() \n",
        "print(time.time() - start_time)"
      ],
      "execution_count": null,
      "outputs": []
    },
    {
      "cell_type": "code",
      "metadata": {
        "id": "5qhOIarhDsvk"
      },
      "source": [
        "with open(\"/content/drive/MyDrive/Università/amd_Market_Basket/list_apriori_00025.pkl\", \"wb\") as f:\n",
        "    pickle.dump(list_apriori, f)"
      ],
      "execution_count": null,
      "outputs": []
    },
    {
      "cell_type": "markdown",
      "metadata": {
        "id": "CqxvhiJLWW2z"
      },
      "source": [
        "Load back the list."
      ]
    },
    {
      "cell_type": "code",
      "metadata": {
        "id": "mMAEV8yX4AjY"
      },
      "source": [
        "with open(\"/content/drive/MyDrive/Università/amd_Market_Basket/list_apriori.pkl\", \"rb\") as f:\n",
        "    list_apriori = pickle.load(f)"
      ],
      "execution_count": null,
      "outputs": []
    },
    {
      "cell_type": "code",
      "metadata": {
        "colab": {
          "base_uri": "https://localhost:8080/"
        },
        "id": "zwbLIbUZ4Lvo",
        "outputId": "04857545-cafa-4b4e-8511-dc6d0a6bb869"
      },
      "source": [
        "list_apriori_10"
      ],
      "execution_count": null,
      "outputs": [
        {
          "output_type": "execute_result",
          "data": {
            "text/plain": [
              "[(('nm0619779', 'nm0006982'), 16),\n",
              " (('nm0619779', 'nm0623427'), 15),\n",
              " (('nm0006982', 'nm0623427'), 30),\n",
              " (('nm0006982', 'nm0046850'), 21),\n",
              " (('nm0006982', 'nm0419653'), 19),\n",
              " (('nm0046850', 'nm0419653'), 16),\n",
              " (('nm0623427', 'nm0419653'), 14),\n",
              " (('nm0616102', 'nm0006982'), 13),\n",
              " (('nm2366585', 'nm2384746'), 12),\n",
              " (('nm2082516', 'nm0648803'), 15),\n",
              " (('nm0006982', 'nm0619779', 'nm0623427'), 12)]"
            ]
          },
          "metadata": {},
          "execution_count": 35
        }
      ]
    },
    {
      "cell_type": "markdown",
      "metadata": {
        "id": "wgtaqtlE1duB"
      },
      "source": [
        "---"
      ]
    },
    {
      "cell_type": "markdown",
      "metadata": {
        "id": "gunETO8oFBLe"
      },
      "source": [
        "Altre possibilità."
      ]
    },
    {
      "cell_type": "code",
      "metadata": {
        "colab": {
          "base_uri": "https://localhost:8080/",
          "height": 370
        },
        "id": "mGM-YuMr0mz4",
        "outputId": "d9488958-cc7e-4b03-e8ec-33f4f12014a4"
      },
      "source": [
        "uniqueItems = wlitems.distinct()\n",
        "\n",
        "# Add 1 as Tuple\n",
        "supportRdd = wlitems.map(lambda item: (item , 1))\n",
        "\n",
        "# Method for sum in reduceByKey method\n",
        "def sumOparator(x,y):\n",
        "    return x+y\n",
        "\n",
        "# Sum of values by key\n",
        "supportRdd = supportRdd.reduceByKey(sumOparator)\n",
        "\n",
        "# print(supportRdd.collect()) # Retruns following array \n",
        "# [('Apple', 12), ('Mango', 10), ('Banana', 9), ('Coconut', 3), \n",
        "#  ('Strawberry', 4), ('Grapes', 2), ('Lemon', 1), ('Raspberry', 9), ('Rassberry', 1)]\n",
        "\n",
        "\n",
        "# First support values\n",
        "supports = supportRdd.map(lambda item: item[1]) # Return only support values"
      ],
      "execution_count": null,
      "outputs": [
        {
          "output_type": "error",
          "ename": "KeyboardInterrupt",
          "evalue": "ignored",
          "traceback": [
            "\u001b[0;31m---------------------------------------------------------------------------\u001b[0m",
            "\u001b[0;31mKeyboardInterrupt\u001b[0m                         Traceback (most recent call last)",
            "\u001b[0;32m<ipython-input-35-a98591a611ef>\u001b[0m in \u001b[0;36m<module>\u001b[0;34m()\u001b[0m\n\u001b[0;32m----> 1\u001b[0;31m \u001b[0muniqueItems\u001b[0m \u001b[0;34m=\u001b[0m \u001b[0mwlitems\u001b[0m\u001b[0;34m.\u001b[0m\u001b[0mdistinct\u001b[0m\u001b[0;34m(\u001b[0m\u001b[0;34m)\u001b[0m\u001b[0;34m\u001b[0m\u001b[0;34m\u001b[0m\u001b[0m\n\u001b[0m\u001b[1;32m      2\u001b[0m \u001b[0;34m\u001b[0m\u001b[0m\n\u001b[1;32m      3\u001b[0m \u001b[0;31m# Add 1 as Tuple\u001b[0m\u001b[0;34m\u001b[0m\u001b[0;34m\u001b[0m\u001b[0;34m\u001b[0m\u001b[0m\n\u001b[1;32m      4\u001b[0m \u001b[0msupportRdd\u001b[0m \u001b[0;34m=\u001b[0m \u001b[0mwlitems\u001b[0m\u001b[0;34m.\u001b[0m\u001b[0mmap\u001b[0m\u001b[0;34m(\u001b[0m\u001b[0;32mlambda\u001b[0m \u001b[0mitem\u001b[0m\u001b[0;34m:\u001b[0m \u001b[0;34m(\u001b[0m\u001b[0mitem\u001b[0m \u001b[0;34m,\u001b[0m \u001b[0;36m1\u001b[0m\u001b[0;34m)\u001b[0m\u001b[0;34m)\u001b[0m\u001b[0;34m\u001b[0m\u001b[0;34m\u001b[0m\u001b[0m\n\u001b[1;32m      5\u001b[0m \u001b[0;34m\u001b[0m\u001b[0m\n",
            "\u001b[0;32m/usr/local/lib/python3.7/dist-packages/pyspark/rdd.py\u001b[0m in \u001b[0;36mdistinct\u001b[0;34m(self, numPartitions)\u001b[0m\n\u001b[1;32m    490\u001b[0m         \"\"\"\n\u001b[1;32m    491\u001b[0m         \u001b[0;32mreturn\u001b[0m \u001b[0mself\u001b[0m\u001b[0;34m.\u001b[0m\u001b[0mmap\u001b[0m\u001b[0;34m(\u001b[0m\u001b[0;32mlambda\u001b[0m \u001b[0mx\u001b[0m\u001b[0;34m:\u001b[0m \u001b[0;34m(\u001b[0m\u001b[0mx\u001b[0m\u001b[0;34m,\u001b[0m \u001b[0;32mNone\u001b[0m\u001b[0;34m)\u001b[0m\u001b[0;34m)\u001b[0m\u001b[0;31m \u001b[0m\u001b[0;31m\\\u001b[0m\u001b[0;34m\u001b[0m\u001b[0;34m\u001b[0m\u001b[0m\n\u001b[0;32m--> 492\u001b[0;31m                    \u001b[0;34m.\u001b[0m\u001b[0mreduceByKey\u001b[0m\u001b[0;34m(\u001b[0m\u001b[0;32mlambda\u001b[0m \u001b[0mx\u001b[0m\u001b[0;34m,\u001b[0m \u001b[0m_\u001b[0m\u001b[0;34m:\u001b[0m \u001b[0mx\u001b[0m\u001b[0;34m,\u001b[0m \u001b[0mnumPartitions\u001b[0m\u001b[0;34m)\u001b[0m\u001b[0;31m \u001b[0m\u001b[0;31m\\\u001b[0m\u001b[0;34m\u001b[0m\u001b[0;34m\u001b[0m\u001b[0m\n\u001b[0m\u001b[1;32m    493\u001b[0m                    \u001b[0;34m.\u001b[0m\u001b[0mmap\u001b[0m\u001b[0;34m(\u001b[0m\u001b[0;32mlambda\u001b[0m \u001b[0mx\u001b[0m\u001b[0;34m:\u001b[0m \u001b[0mx\u001b[0m\u001b[0;34m[\u001b[0m\u001b[0;36m0\u001b[0m\u001b[0;34m]\u001b[0m\u001b[0;34m)\u001b[0m\u001b[0;34m\u001b[0m\u001b[0;34m\u001b[0m\u001b[0m\n\u001b[1;32m    494\u001b[0m \u001b[0;34m\u001b[0m\u001b[0m\n",
            "\u001b[0;32m/usr/local/lib/python3.7/dist-packages/pyspark/rdd.py\u001b[0m in \u001b[0;36mreduceByKey\u001b[0;34m(self, func, numPartitions, partitionFunc)\u001b[0m\n\u001b[1;32m   1891\u001b[0m         \u001b[0;34m[\u001b[0m\u001b[0;34m(\u001b[0m\u001b[0;34m'a'\u001b[0m\u001b[0;34m,\u001b[0m \u001b[0;36m2\u001b[0m\u001b[0;34m)\u001b[0m\u001b[0;34m,\u001b[0m \u001b[0;34m(\u001b[0m\u001b[0;34m'b'\u001b[0m\u001b[0;34m,\u001b[0m \u001b[0;36m1\u001b[0m\u001b[0;34m)\u001b[0m\u001b[0;34m]\u001b[0m\u001b[0;34m\u001b[0m\u001b[0;34m\u001b[0m\u001b[0m\n\u001b[1;32m   1892\u001b[0m         \"\"\"\n\u001b[0;32m-> 1893\u001b[0;31m         \u001b[0;32mreturn\u001b[0m \u001b[0mself\u001b[0m\u001b[0;34m.\u001b[0m\u001b[0mcombineByKey\u001b[0m\u001b[0;34m(\u001b[0m\u001b[0;32mlambda\u001b[0m \u001b[0mx\u001b[0m\u001b[0;34m:\u001b[0m \u001b[0mx\u001b[0m\u001b[0;34m,\u001b[0m \u001b[0mfunc\u001b[0m\u001b[0;34m,\u001b[0m \u001b[0mfunc\u001b[0m\u001b[0;34m,\u001b[0m \u001b[0mnumPartitions\u001b[0m\u001b[0;34m,\u001b[0m \u001b[0mpartitionFunc\u001b[0m\u001b[0;34m)\u001b[0m\u001b[0;34m\u001b[0m\u001b[0;34m\u001b[0m\u001b[0m\n\u001b[0m\u001b[1;32m   1894\u001b[0m \u001b[0;34m\u001b[0m\u001b[0m\n\u001b[1;32m   1895\u001b[0m     \u001b[0;32mdef\u001b[0m \u001b[0mreduceByKeyLocally\u001b[0m\u001b[0;34m(\u001b[0m\u001b[0mself\u001b[0m\u001b[0;34m,\u001b[0m \u001b[0mfunc\u001b[0m\u001b[0;34m)\u001b[0m\u001b[0;34m:\u001b[0m\u001b[0;34m\u001b[0m\u001b[0;34m\u001b[0m\u001b[0m\n",
            "\u001b[0;32m/usr/local/lib/python3.7/dist-packages/pyspark/rdd.py\u001b[0m in \u001b[0;36mcombineByKey\u001b[0;34m(self, createCombiner, mergeValue, mergeCombiners, numPartitions, partitionFunc)\u001b[0m\n\u001b[1;32m   2136\u001b[0m         \"\"\"\n\u001b[1;32m   2137\u001b[0m         \u001b[0;32mif\u001b[0m \u001b[0mnumPartitions\u001b[0m \u001b[0;32mis\u001b[0m \u001b[0;32mNone\u001b[0m\u001b[0;34m:\u001b[0m\u001b[0;34m\u001b[0m\u001b[0;34m\u001b[0m\u001b[0m\n\u001b[0;32m-> 2138\u001b[0;31m             \u001b[0mnumPartitions\u001b[0m \u001b[0;34m=\u001b[0m \u001b[0mself\u001b[0m\u001b[0;34m.\u001b[0m\u001b[0m_defaultReducePartitions\u001b[0m\u001b[0;34m(\u001b[0m\u001b[0;34m)\u001b[0m\u001b[0;34m\u001b[0m\u001b[0;34m\u001b[0m\u001b[0m\n\u001b[0m\u001b[1;32m   2139\u001b[0m \u001b[0;34m\u001b[0m\u001b[0m\n\u001b[1;32m   2140\u001b[0m         \u001b[0mserializer\u001b[0m \u001b[0;34m=\u001b[0m \u001b[0mself\u001b[0m\u001b[0;34m.\u001b[0m\u001b[0mctx\u001b[0m\u001b[0;34m.\u001b[0m\u001b[0mserializer\u001b[0m\u001b[0;34m\u001b[0m\u001b[0;34m\u001b[0m\u001b[0m\n",
            "\u001b[0;32m/usr/local/lib/python3.7/dist-packages/pyspark/rdd.py\u001b[0m in \u001b[0;36m_defaultReducePartitions\u001b[0;34m(self)\u001b[0m\n\u001b[1;32m   2578\u001b[0m         \u001b[0mbe\u001b[0m \u001b[0minherent\u001b[0m\u001b[0;34m.\u001b[0m\u001b[0;34m\u001b[0m\u001b[0;34m\u001b[0m\u001b[0m\n\u001b[1;32m   2579\u001b[0m         \"\"\"\n\u001b[0;32m-> 2580\u001b[0;31m         \u001b[0;32mif\u001b[0m \u001b[0mself\u001b[0m\u001b[0;34m.\u001b[0m\u001b[0mctx\u001b[0m\u001b[0;34m.\u001b[0m\u001b[0m_conf\u001b[0m\u001b[0;34m.\u001b[0m\u001b[0mcontains\u001b[0m\u001b[0;34m(\u001b[0m\u001b[0;34m\"spark.default.parallelism\"\u001b[0m\u001b[0;34m)\u001b[0m\u001b[0;34m:\u001b[0m\u001b[0;34m\u001b[0m\u001b[0;34m\u001b[0m\u001b[0m\n\u001b[0m\u001b[1;32m   2581\u001b[0m             \u001b[0;32mreturn\u001b[0m \u001b[0mself\u001b[0m\u001b[0;34m.\u001b[0m\u001b[0mctx\u001b[0m\u001b[0;34m.\u001b[0m\u001b[0mdefaultParallelism\u001b[0m\u001b[0;34m\u001b[0m\u001b[0;34m\u001b[0m\u001b[0m\n\u001b[1;32m   2582\u001b[0m         \u001b[0;32melse\u001b[0m\u001b[0;34m:\u001b[0m\u001b[0;34m\u001b[0m\u001b[0;34m\u001b[0m\u001b[0m\n",
            "\u001b[0;32m/usr/local/lib/python3.7/dist-packages/pyspark/conf.py\u001b[0m in \u001b[0;36mcontains\u001b[0;34m(self, key)\u001b[0m\n\u001b[1;32m    206\u001b[0m         \u001b[0;34m\"\"\"Does this configuration contain a given key?\"\"\"\u001b[0m\u001b[0;34m\u001b[0m\u001b[0;34m\u001b[0m\u001b[0m\n\u001b[1;32m    207\u001b[0m         \u001b[0;32mif\u001b[0m \u001b[0mself\u001b[0m\u001b[0;34m.\u001b[0m\u001b[0m_jconf\u001b[0m \u001b[0;32mis\u001b[0m \u001b[0;32mnot\u001b[0m \u001b[0;32mNone\u001b[0m\u001b[0;34m:\u001b[0m\u001b[0;34m\u001b[0m\u001b[0;34m\u001b[0m\u001b[0m\n\u001b[0;32m--> 208\u001b[0;31m             \u001b[0;32mreturn\u001b[0m \u001b[0mself\u001b[0m\u001b[0;34m.\u001b[0m\u001b[0m_jconf\u001b[0m\u001b[0;34m.\u001b[0m\u001b[0mcontains\u001b[0m\u001b[0;34m(\u001b[0m\u001b[0mkey\u001b[0m\u001b[0;34m)\u001b[0m\u001b[0;34m\u001b[0m\u001b[0;34m\u001b[0m\u001b[0m\n\u001b[0m\u001b[1;32m    209\u001b[0m         \u001b[0;32melse\u001b[0m\u001b[0;34m:\u001b[0m\u001b[0;34m\u001b[0m\u001b[0;34m\u001b[0m\u001b[0m\n\u001b[1;32m    210\u001b[0m             \u001b[0;32mreturn\u001b[0m \u001b[0mkey\u001b[0m \u001b[0;32min\u001b[0m \u001b[0mself\u001b[0m\u001b[0;34m.\u001b[0m\u001b[0m_conf\u001b[0m\u001b[0;34m\u001b[0m\u001b[0;34m\u001b[0m\u001b[0m\n",
            "\u001b[0;32m/usr/local/lib/python3.7/dist-packages/py4j/java_gateway.py\u001b[0m in \u001b[0;36m__call__\u001b[0;34m(self, *args)\u001b[0m\n\u001b[1;32m   1306\u001b[0m             \u001b[0mproto\u001b[0m\u001b[0;34m.\u001b[0m\u001b[0mEND_COMMAND_PART\u001b[0m\u001b[0;34m\u001b[0m\u001b[0;34m\u001b[0m\u001b[0m\n\u001b[1;32m   1307\u001b[0m \u001b[0;34m\u001b[0m\u001b[0m\n\u001b[0;32m-> 1308\u001b[0;31m         \u001b[0manswer\u001b[0m \u001b[0;34m=\u001b[0m \u001b[0mself\u001b[0m\u001b[0;34m.\u001b[0m\u001b[0mgateway_client\u001b[0m\u001b[0;34m.\u001b[0m\u001b[0msend_command\u001b[0m\u001b[0;34m(\u001b[0m\u001b[0mcommand\u001b[0m\u001b[0;34m)\u001b[0m\u001b[0;34m\u001b[0m\u001b[0;34m\u001b[0m\u001b[0m\n\u001b[0m\u001b[1;32m   1309\u001b[0m         return_value = get_return_value(\n\u001b[1;32m   1310\u001b[0m             answer, self.gateway_client, self.target_id, self.name)\n",
            "\u001b[0;32m/usr/local/lib/python3.7/dist-packages/py4j/java_gateway.py\u001b[0m in \u001b[0;36msend_command\u001b[0;34m(self, command, retry, binary)\u001b[0m\n\u001b[1;32m   1036\u001b[0m         \u001b[0mconnection\u001b[0m \u001b[0;34m=\u001b[0m \u001b[0mself\u001b[0m\u001b[0;34m.\u001b[0m\u001b[0m_get_connection\u001b[0m\u001b[0;34m(\u001b[0m\u001b[0;34m)\u001b[0m\u001b[0;34m\u001b[0m\u001b[0;34m\u001b[0m\u001b[0m\n\u001b[1;32m   1037\u001b[0m         \u001b[0;32mtry\u001b[0m\u001b[0;34m:\u001b[0m\u001b[0;34m\u001b[0m\u001b[0;34m\u001b[0m\u001b[0m\n\u001b[0;32m-> 1038\u001b[0;31m             \u001b[0mresponse\u001b[0m \u001b[0;34m=\u001b[0m \u001b[0mconnection\u001b[0m\u001b[0;34m.\u001b[0m\u001b[0msend_command\u001b[0m\u001b[0;34m(\u001b[0m\u001b[0mcommand\u001b[0m\u001b[0;34m)\u001b[0m\u001b[0;34m\u001b[0m\u001b[0;34m\u001b[0m\u001b[0m\n\u001b[0m\u001b[1;32m   1039\u001b[0m             \u001b[0;32mif\u001b[0m \u001b[0mbinary\u001b[0m\u001b[0;34m:\u001b[0m\u001b[0;34m\u001b[0m\u001b[0;34m\u001b[0m\u001b[0m\n\u001b[1;32m   1040\u001b[0m                 \u001b[0;32mreturn\u001b[0m \u001b[0mresponse\u001b[0m\u001b[0;34m,\u001b[0m \u001b[0mself\u001b[0m\u001b[0;34m.\u001b[0m\u001b[0m_create_connection_guard\u001b[0m\u001b[0;34m(\u001b[0m\u001b[0mconnection\u001b[0m\u001b[0;34m)\u001b[0m\u001b[0;34m\u001b[0m\u001b[0;34m\u001b[0m\u001b[0m\n",
            "\u001b[0;32m/usr/local/lib/python3.7/dist-packages/py4j/clientserver.py\u001b[0m in \u001b[0;36msend_command\u001b[0;34m(self, command)\u001b[0m\n\u001b[1;32m    473\u001b[0m         \u001b[0;32mtry\u001b[0m\u001b[0;34m:\u001b[0m\u001b[0;34m\u001b[0m\u001b[0;34m\u001b[0m\u001b[0m\n\u001b[1;32m    474\u001b[0m             \u001b[0;32mwhile\u001b[0m \u001b[0;32mTrue\u001b[0m\u001b[0;34m:\u001b[0m\u001b[0;34m\u001b[0m\u001b[0;34m\u001b[0m\u001b[0m\n\u001b[0;32m--> 475\u001b[0;31m                 \u001b[0manswer\u001b[0m \u001b[0;34m=\u001b[0m \u001b[0msmart_decode\u001b[0m\u001b[0;34m(\u001b[0m\u001b[0mself\u001b[0m\u001b[0;34m.\u001b[0m\u001b[0mstream\u001b[0m\u001b[0;34m.\u001b[0m\u001b[0mreadline\u001b[0m\u001b[0;34m(\u001b[0m\u001b[0;34m)\u001b[0m\u001b[0;34m[\u001b[0m\u001b[0;34m:\u001b[0m\u001b[0;34m-\u001b[0m\u001b[0;36m1\u001b[0m\u001b[0;34m]\u001b[0m\u001b[0;34m)\u001b[0m\u001b[0;34m\u001b[0m\u001b[0;34m\u001b[0m\u001b[0m\n\u001b[0m\u001b[1;32m    476\u001b[0m                 \u001b[0mlogger\u001b[0m\u001b[0;34m.\u001b[0m\u001b[0mdebug\u001b[0m\u001b[0;34m(\u001b[0m\u001b[0;34m\"Answer received: {0}\"\u001b[0m\u001b[0;34m.\u001b[0m\u001b[0mformat\u001b[0m\u001b[0;34m(\u001b[0m\u001b[0manswer\u001b[0m\u001b[0;34m)\u001b[0m\u001b[0;34m)\u001b[0m\u001b[0;34m\u001b[0m\u001b[0;34m\u001b[0m\u001b[0m\n\u001b[1;32m    477\u001b[0m                 \u001b[0;31m# Happens when a the other end is dead. There might be an empty\u001b[0m\u001b[0;34m\u001b[0m\u001b[0;34m\u001b[0m\u001b[0;34m\u001b[0m\u001b[0m\n",
            "\u001b[0;32m/usr/lib/python3.7/socket.py\u001b[0m in \u001b[0;36mreadinto\u001b[0;34m(self, b)\u001b[0m\n\u001b[1;32m    587\u001b[0m         \u001b[0;32mwhile\u001b[0m \u001b[0;32mTrue\u001b[0m\u001b[0;34m:\u001b[0m\u001b[0;34m\u001b[0m\u001b[0;34m\u001b[0m\u001b[0m\n\u001b[1;32m    588\u001b[0m             \u001b[0;32mtry\u001b[0m\u001b[0;34m:\u001b[0m\u001b[0;34m\u001b[0m\u001b[0;34m\u001b[0m\u001b[0m\n\u001b[0;32m--> 589\u001b[0;31m                 \u001b[0;32mreturn\u001b[0m \u001b[0mself\u001b[0m\u001b[0;34m.\u001b[0m\u001b[0m_sock\u001b[0m\u001b[0;34m.\u001b[0m\u001b[0mrecv_into\u001b[0m\u001b[0;34m(\u001b[0m\u001b[0mb\u001b[0m\u001b[0;34m)\u001b[0m\u001b[0;34m\u001b[0m\u001b[0;34m\u001b[0m\u001b[0m\n\u001b[0m\u001b[1;32m    590\u001b[0m             \u001b[0;32mexcept\u001b[0m \u001b[0mtimeout\u001b[0m\u001b[0;34m:\u001b[0m\u001b[0;34m\u001b[0m\u001b[0;34m\u001b[0m\u001b[0m\n\u001b[1;32m    591\u001b[0m                 \u001b[0mself\u001b[0m\u001b[0;34m.\u001b[0m\u001b[0m_timeout_occurred\u001b[0m \u001b[0;34m=\u001b[0m \u001b[0;32mTrue\u001b[0m\u001b[0;34m\u001b[0m\u001b[0;34m\u001b[0m\u001b[0m\n",
            "\u001b[0;31mKeyboardInterrupt\u001b[0m: "
          ]
        }
      ]
    },
    {
      "cell_type": "code",
      "metadata": {
        "id": "yt-ZNQzN0g3K"
      },
      "source": [
        "c = 2 # Combination length \n",
        "\n",
        "while(supportRdd.isEmpty() == False):\n",
        "\n",
        "    combined = supportRdd.cartesian(uniqueItems)\n",
        "    combined = combined.map(lambda item: removeReplica(item))\n",
        "  \n",
        "    combined = combined.filter(lambda item: len(item) == c)\n",
        "    combined = combined.distinct()\n",
        "\n",
        "    \n",
        "    combined_2 = combined.cartesian(lblitems)\n",
        "    combined_2 = combined_2.filter(lambda item: all(x in item[1] for x in item[0]))\n",
        "    \n",
        "    combined_2 = combined_2.map(lambda item: item[0])\n",
        "    combined_2 = combined_2.map(lambda item: (item , 1))\n",
        "    combined_2 = combined_2.reduceByKey(sumOparator)\n",
        "    combined_2 = combined_2.filter(lambda item: item[1] >= minSupport)\n",
        "\n",
        "    baseRdd = baseRdd.union(combined_2)\n",
        "    \n",
        "    combined_2 = combined_2.map(lambda item: item[0])\n",
        "    supportRdd = combined_2\n",
        "    print(c ,'. Table has crated... ')\n",
        "    c = c+1 "
      ],
      "execution_count": null,
      "outputs": []
    },
    {
      "cell_type": "code",
      "metadata": {
        "id": "lP8GkxSvg7m0"
      },
      "source": [
        "def apriori(rdd, threshold):\n",
        "  \n",
        "  singleton = rdd.flatMap(list).map(lambda item: (item , 1)).reduceByKey(lambda actor1, actor2: actor1+actor2).filter(lambda item: item[1] >= threshold ) \n",
        "\n",
        "  freq_act = singleton.map(lambda item : (item[0])) # all the pair of frequent items \n",
        "\n",
        "  pairs_of_freq_act = list(itertools.combinations(freq_act.toLocalIterator(),2)) # finding all the possible pairs\n",
        "  \n",
        "  table_of_pairs = rdd.flatMap(lambda x : [(tuple(item), 1) for item in pairs_of_freq_act if set(list(item)).issubset(set(x))]).cache() \\\n",
        "                  .reduceByKey(lambda actor1, actor2: actor1+actor2) \\\n",
        "                  .filter(lambda item: item[1] >= threshold)\n",
        "\n",
        "  return (table_of_pairs)"
      ],
      "execution_count": null,
      "outputs": []
    },
    {
      "cell_type": "code",
      "metadata": {
        "colab": {
          "base_uri": "https://localhost:8080/"
        },
        "id": "ev1vL2dvstnN",
        "outputId": "1b270b2e-3a4f-4a34-c6ed-3f8c1c8b97e7"
      },
      "source": [
        "from pyspark.sql import SQLContext\n",
        "import itertools\n",
        "sqlContext = SQLContext(sc)"
      ],
      "execution_count": null,
      "outputs": [
        {
          "output_type": "stream",
          "name": "stderr",
          "text": [
            "/usr/local/lib/python3.7/dist-packages/pyspark/sql/context.py:79: FutureWarning: Deprecated in 3.0.0. Use SparkSession.builder.getOrCreate() instead.\n",
            "  FutureWarning\n"
          ]
        }
      ]
    },
    {
      "cell_type": "code",
      "metadata": {
        "id": "kiaSaWz6p2Fe"
      },
      "source": [
        "startTime = time.time()\n",
        "apriori(baskets_actors_fraction, threshold_fraction )\n",
        "APrioriTime = time.time()-startTime"
      ],
      "execution_count": null,
      "outputs": []
    },
    {
      "cell_type": "code",
      "metadata": {
        "colab": {
          "base_uri": "https://localhost:8080/"
        },
        "id": "b2zBL481xvVS",
        "outputId": "f668c903-956a-4c28-a002-84c4f01b6674"
      },
      "source": [
        "APrioriTime"
      ],
      "execution_count": null,
      "outputs": [
        {
          "output_type": "execute_result",
          "data": {
            "text/plain": [
              "3.576289415359497"
            ]
          },
          "metadata": {},
          "execution_count": 26
        }
      ]
    },
    {
      "cell_type": "code",
      "metadata": {
        "colab": {
          "base_uri": "https://localhost:8080/",
          "height": 337
        },
        "id": "8XA51XBNg8qR",
        "outputId": "a0c2f8d1-3d29-4ba0-e522-03035d4f4890"
      },
      "source": [
        "AprioriResults = apriori(baskets_actors_fraction, threshold_fraction)\n",
        "result = sqlContext.createDataFrame(AprioriResults).toDF(\"Pairs of actors and actresses\", \"Number of movies\")\n",
        "result.show()"
      ],
      "execution_count": null,
      "outputs": [
        {
          "output_type": "error",
          "ename": "KeyboardInterrupt",
          "evalue": "ignored",
          "traceback": [
            "\u001b[0;31m---------------------------------------------------------------------------\u001b[0m",
            "\u001b[0;31mKeyboardInterrupt\u001b[0m                         Traceback (most recent call last)",
            "\u001b[0;32m<ipython-input-32-d6d7a86189a3>\u001b[0m in \u001b[0;36m<module>\u001b[0;34m()\u001b[0m\n\u001b[0;32m----> 1\u001b[0;31m \u001b[0mAprioriResults\u001b[0m \u001b[0;34m=\u001b[0m \u001b[0mapriori\u001b[0m\u001b[0;34m(\u001b[0m\u001b[0mbaskets_actors_fraction\u001b[0m\u001b[0;34m,\u001b[0m \u001b[0mthreshold_fraction\u001b[0m\u001b[0;34m)\u001b[0m\u001b[0;34m\u001b[0m\u001b[0;34m\u001b[0m\u001b[0m\n\u001b[0m\u001b[1;32m      2\u001b[0m \u001b[0mresult\u001b[0m \u001b[0;34m=\u001b[0m \u001b[0msqlContext\u001b[0m\u001b[0;34m.\u001b[0m\u001b[0mcreateDataFrame\u001b[0m\u001b[0;34m(\u001b[0m\u001b[0mAprioriResults\u001b[0m\u001b[0;34m)\u001b[0m\u001b[0;34m.\u001b[0m\u001b[0mtoDF\u001b[0m\u001b[0;34m(\u001b[0m\u001b[0;34m\"Pairs of actors and actresses\"\u001b[0m\u001b[0;34m,\u001b[0m \u001b[0;34m\"Number of movies\"\u001b[0m\u001b[0;34m)\u001b[0m\u001b[0;34m\u001b[0m\u001b[0;34m\u001b[0m\u001b[0m\n\u001b[1;32m      3\u001b[0m \u001b[0mresult\u001b[0m\u001b[0;34m.\u001b[0m\u001b[0mshow\u001b[0m\u001b[0;34m(\u001b[0m\u001b[0;34m)\u001b[0m\u001b[0;34m\u001b[0m\u001b[0;34m\u001b[0m\u001b[0m\n",
            "\u001b[0;32m<ipython-input-21-e4d2564b90f3>\u001b[0m in \u001b[0;36mapriori\u001b[0;34m(rdd, threshold)\u001b[0m\n\u001b[1;32m      1\u001b[0m \u001b[0;32mdef\u001b[0m \u001b[0mapriori\u001b[0m\u001b[0;34m(\u001b[0m\u001b[0mrdd\u001b[0m\u001b[0;34m,\u001b[0m \u001b[0mthreshold\u001b[0m\u001b[0;34m)\u001b[0m\u001b[0;34m:\u001b[0m\u001b[0;34m\u001b[0m\u001b[0;34m\u001b[0m\u001b[0m\n\u001b[1;32m      2\u001b[0m \u001b[0;34m\u001b[0m\u001b[0m\n\u001b[0;32m----> 3\u001b[0;31m   \u001b[0msingleton\u001b[0m \u001b[0;34m=\u001b[0m \u001b[0mrdd\u001b[0m\u001b[0;34m.\u001b[0m\u001b[0mflatMap\u001b[0m\u001b[0;34m(\u001b[0m\u001b[0mlist\u001b[0m\u001b[0;34m)\u001b[0m\u001b[0;34m.\u001b[0m\u001b[0mmap\u001b[0m\u001b[0;34m(\u001b[0m\u001b[0;32mlambda\u001b[0m \u001b[0mitem\u001b[0m\u001b[0;34m:\u001b[0m \u001b[0;34m(\u001b[0m\u001b[0mitem\u001b[0m \u001b[0;34m,\u001b[0m \u001b[0;36m1\u001b[0m\u001b[0;34m)\u001b[0m\u001b[0;34m)\u001b[0m\u001b[0;34m.\u001b[0m\u001b[0mreduceByKey\u001b[0m\u001b[0;34m(\u001b[0m\u001b[0;32mlambda\u001b[0m \u001b[0mactor1\u001b[0m\u001b[0;34m,\u001b[0m \u001b[0mactor2\u001b[0m\u001b[0;34m:\u001b[0m \u001b[0mactor1\u001b[0m\u001b[0;34m+\u001b[0m\u001b[0mactor2\u001b[0m\u001b[0;34m)\u001b[0m\u001b[0;34m.\u001b[0m\u001b[0mfilter\u001b[0m\u001b[0;34m(\u001b[0m\u001b[0;32mlambda\u001b[0m \u001b[0mitem\u001b[0m\u001b[0;34m:\u001b[0m \u001b[0mitem\u001b[0m\u001b[0;34m[\u001b[0m\u001b[0;36m1\u001b[0m\u001b[0;34m]\u001b[0m \u001b[0;34m>=\u001b[0m \u001b[0mthreshold\u001b[0m \u001b[0;34m)\u001b[0m\u001b[0;34m\u001b[0m\u001b[0;34m\u001b[0m\u001b[0m\n\u001b[0m\u001b[1;32m      4\u001b[0m \u001b[0;34m\u001b[0m\u001b[0m\n\u001b[1;32m      5\u001b[0m   \u001b[0mfreq_act\u001b[0m \u001b[0;34m=\u001b[0m \u001b[0msingleton\u001b[0m\u001b[0;34m.\u001b[0m\u001b[0mmap\u001b[0m\u001b[0;34m(\u001b[0m\u001b[0;32mlambda\u001b[0m \u001b[0mitem\u001b[0m \u001b[0;34m:\u001b[0m \u001b[0;34m(\u001b[0m\u001b[0mitem\u001b[0m\u001b[0;34m[\u001b[0m\u001b[0;36m0\u001b[0m\u001b[0;34m]\u001b[0m\u001b[0;34m)\u001b[0m\u001b[0;34m)\u001b[0m \u001b[0;31m# all the pair of frequent items\u001b[0m\u001b[0;34m\u001b[0m\u001b[0;34m\u001b[0m\u001b[0m\n",
            "\u001b[0;32m/usr/local/lib/python3.7/dist-packages/pyspark/rdd.py\u001b[0m in \u001b[0;36mreduceByKey\u001b[0;34m(self, func, numPartitions, partitionFunc)\u001b[0m\n\u001b[1;32m   1891\u001b[0m         \u001b[0;34m[\u001b[0m\u001b[0;34m(\u001b[0m\u001b[0;34m'a'\u001b[0m\u001b[0;34m,\u001b[0m \u001b[0;36m2\u001b[0m\u001b[0;34m)\u001b[0m\u001b[0;34m,\u001b[0m \u001b[0;34m(\u001b[0m\u001b[0;34m'b'\u001b[0m\u001b[0;34m,\u001b[0m \u001b[0;36m1\u001b[0m\u001b[0;34m)\u001b[0m\u001b[0;34m]\u001b[0m\u001b[0;34m\u001b[0m\u001b[0;34m\u001b[0m\u001b[0m\n\u001b[1;32m   1892\u001b[0m         \"\"\"\n\u001b[0;32m-> 1893\u001b[0;31m         \u001b[0;32mreturn\u001b[0m \u001b[0mself\u001b[0m\u001b[0;34m.\u001b[0m\u001b[0mcombineByKey\u001b[0m\u001b[0;34m(\u001b[0m\u001b[0;32mlambda\u001b[0m \u001b[0mx\u001b[0m\u001b[0;34m:\u001b[0m \u001b[0mx\u001b[0m\u001b[0;34m,\u001b[0m \u001b[0mfunc\u001b[0m\u001b[0;34m,\u001b[0m \u001b[0mfunc\u001b[0m\u001b[0;34m,\u001b[0m \u001b[0mnumPartitions\u001b[0m\u001b[0;34m,\u001b[0m \u001b[0mpartitionFunc\u001b[0m\u001b[0;34m)\u001b[0m\u001b[0;34m\u001b[0m\u001b[0;34m\u001b[0m\u001b[0m\n\u001b[0m\u001b[1;32m   1894\u001b[0m \u001b[0;34m\u001b[0m\u001b[0m\n\u001b[1;32m   1895\u001b[0m     \u001b[0;32mdef\u001b[0m \u001b[0mreduceByKeyLocally\u001b[0m\u001b[0;34m(\u001b[0m\u001b[0mself\u001b[0m\u001b[0;34m,\u001b[0m \u001b[0mfunc\u001b[0m\u001b[0;34m)\u001b[0m\u001b[0;34m:\u001b[0m\u001b[0;34m\u001b[0m\u001b[0;34m\u001b[0m\u001b[0m\n",
            "\u001b[0;32m/usr/local/lib/python3.7/dist-packages/pyspark/rdd.py\u001b[0m in \u001b[0;36mcombineByKey\u001b[0;34m(self, createCombiner, mergeValue, mergeCombiners, numPartitions, partitionFunc)\u001b[0m\n\u001b[1;32m   2136\u001b[0m         \"\"\"\n\u001b[1;32m   2137\u001b[0m         \u001b[0;32mif\u001b[0m \u001b[0mnumPartitions\u001b[0m \u001b[0;32mis\u001b[0m \u001b[0;32mNone\u001b[0m\u001b[0;34m:\u001b[0m\u001b[0;34m\u001b[0m\u001b[0;34m\u001b[0m\u001b[0m\n\u001b[0;32m-> 2138\u001b[0;31m             \u001b[0mnumPartitions\u001b[0m \u001b[0;34m=\u001b[0m \u001b[0mself\u001b[0m\u001b[0;34m.\u001b[0m\u001b[0m_defaultReducePartitions\u001b[0m\u001b[0;34m(\u001b[0m\u001b[0;34m)\u001b[0m\u001b[0;34m\u001b[0m\u001b[0;34m\u001b[0m\u001b[0m\n\u001b[0m\u001b[1;32m   2139\u001b[0m \u001b[0;34m\u001b[0m\u001b[0m\n\u001b[1;32m   2140\u001b[0m         \u001b[0mserializer\u001b[0m \u001b[0;34m=\u001b[0m \u001b[0mself\u001b[0m\u001b[0;34m.\u001b[0m\u001b[0mctx\u001b[0m\u001b[0;34m.\u001b[0m\u001b[0mserializer\u001b[0m\u001b[0;34m\u001b[0m\u001b[0;34m\u001b[0m\u001b[0m\n",
            "\u001b[0;32m/usr/local/lib/python3.7/dist-packages/pyspark/rdd.py\u001b[0m in \u001b[0;36m_defaultReducePartitions\u001b[0;34m(self)\u001b[0m\n\u001b[1;32m   2578\u001b[0m         \u001b[0mbe\u001b[0m \u001b[0minherent\u001b[0m\u001b[0;34m.\u001b[0m\u001b[0;34m\u001b[0m\u001b[0;34m\u001b[0m\u001b[0m\n\u001b[1;32m   2579\u001b[0m         \"\"\"\n\u001b[0;32m-> 2580\u001b[0;31m         \u001b[0;32mif\u001b[0m \u001b[0mself\u001b[0m\u001b[0;34m.\u001b[0m\u001b[0mctx\u001b[0m\u001b[0;34m.\u001b[0m\u001b[0m_conf\u001b[0m\u001b[0;34m.\u001b[0m\u001b[0mcontains\u001b[0m\u001b[0;34m(\u001b[0m\u001b[0;34m\"spark.default.parallelism\"\u001b[0m\u001b[0;34m)\u001b[0m\u001b[0;34m:\u001b[0m\u001b[0;34m\u001b[0m\u001b[0;34m\u001b[0m\u001b[0m\n\u001b[0m\u001b[1;32m   2581\u001b[0m             \u001b[0;32mreturn\u001b[0m \u001b[0mself\u001b[0m\u001b[0;34m.\u001b[0m\u001b[0mctx\u001b[0m\u001b[0;34m.\u001b[0m\u001b[0mdefaultParallelism\u001b[0m\u001b[0;34m\u001b[0m\u001b[0;34m\u001b[0m\u001b[0m\n\u001b[1;32m   2582\u001b[0m         \u001b[0;32melse\u001b[0m\u001b[0;34m:\u001b[0m\u001b[0;34m\u001b[0m\u001b[0;34m\u001b[0m\u001b[0m\n",
            "\u001b[0;32m/usr/local/lib/python3.7/dist-packages/pyspark/conf.py\u001b[0m in \u001b[0;36mcontains\u001b[0;34m(self, key)\u001b[0m\n\u001b[1;32m    206\u001b[0m         \u001b[0;34m\"\"\"Does this configuration contain a given key?\"\"\"\u001b[0m\u001b[0;34m\u001b[0m\u001b[0;34m\u001b[0m\u001b[0m\n\u001b[1;32m    207\u001b[0m         \u001b[0;32mif\u001b[0m \u001b[0mself\u001b[0m\u001b[0;34m.\u001b[0m\u001b[0m_jconf\u001b[0m \u001b[0;32mis\u001b[0m \u001b[0;32mnot\u001b[0m \u001b[0;32mNone\u001b[0m\u001b[0;34m:\u001b[0m\u001b[0;34m\u001b[0m\u001b[0;34m\u001b[0m\u001b[0m\n\u001b[0;32m--> 208\u001b[0;31m             \u001b[0;32mreturn\u001b[0m \u001b[0mself\u001b[0m\u001b[0;34m.\u001b[0m\u001b[0m_jconf\u001b[0m\u001b[0;34m.\u001b[0m\u001b[0mcontains\u001b[0m\u001b[0;34m(\u001b[0m\u001b[0mkey\u001b[0m\u001b[0;34m)\u001b[0m\u001b[0;34m\u001b[0m\u001b[0;34m\u001b[0m\u001b[0m\n\u001b[0m\u001b[1;32m    209\u001b[0m         \u001b[0;32melse\u001b[0m\u001b[0;34m:\u001b[0m\u001b[0;34m\u001b[0m\u001b[0;34m\u001b[0m\u001b[0m\n\u001b[1;32m    210\u001b[0m             \u001b[0;32mreturn\u001b[0m \u001b[0mkey\u001b[0m \u001b[0;32min\u001b[0m \u001b[0mself\u001b[0m\u001b[0;34m.\u001b[0m\u001b[0m_conf\u001b[0m\u001b[0;34m\u001b[0m\u001b[0;34m\u001b[0m\u001b[0m\n",
            "\u001b[0;32m/usr/local/lib/python3.7/dist-packages/py4j/java_gateway.py\u001b[0m in \u001b[0;36m__call__\u001b[0;34m(self, *args)\u001b[0m\n\u001b[1;32m   1306\u001b[0m             \u001b[0mproto\u001b[0m\u001b[0;34m.\u001b[0m\u001b[0mEND_COMMAND_PART\u001b[0m\u001b[0;34m\u001b[0m\u001b[0;34m\u001b[0m\u001b[0m\n\u001b[1;32m   1307\u001b[0m \u001b[0;34m\u001b[0m\u001b[0m\n\u001b[0;32m-> 1308\u001b[0;31m         \u001b[0manswer\u001b[0m \u001b[0;34m=\u001b[0m \u001b[0mself\u001b[0m\u001b[0;34m.\u001b[0m\u001b[0mgateway_client\u001b[0m\u001b[0;34m.\u001b[0m\u001b[0msend_command\u001b[0m\u001b[0;34m(\u001b[0m\u001b[0mcommand\u001b[0m\u001b[0;34m)\u001b[0m\u001b[0;34m\u001b[0m\u001b[0;34m\u001b[0m\u001b[0m\n\u001b[0m\u001b[1;32m   1309\u001b[0m         return_value = get_return_value(\n\u001b[1;32m   1310\u001b[0m             answer, self.gateway_client, self.target_id, self.name)\n",
            "\u001b[0;32m/usr/local/lib/python3.7/dist-packages/py4j/java_gateway.py\u001b[0m in \u001b[0;36msend_command\u001b[0;34m(self, command, retry, binary)\u001b[0m\n\u001b[1;32m   1036\u001b[0m         \u001b[0mconnection\u001b[0m \u001b[0;34m=\u001b[0m \u001b[0mself\u001b[0m\u001b[0;34m.\u001b[0m\u001b[0m_get_connection\u001b[0m\u001b[0;34m(\u001b[0m\u001b[0;34m)\u001b[0m\u001b[0;34m\u001b[0m\u001b[0;34m\u001b[0m\u001b[0m\n\u001b[1;32m   1037\u001b[0m         \u001b[0;32mtry\u001b[0m\u001b[0;34m:\u001b[0m\u001b[0;34m\u001b[0m\u001b[0;34m\u001b[0m\u001b[0m\n\u001b[0;32m-> 1038\u001b[0;31m             \u001b[0mresponse\u001b[0m \u001b[0;34m=\u001b[0m \u001b[0mconnection\u001b[0m\u001b[0;34m.\u001b[0m\u001b[0msend_command\u001b[0m\u001b[0;34m(\u001b[0m\u001b[0mcommand\u001b[0m\u001b[0;34m)\u001b[0m\u001b[0;34m\u001b[0m\u001b[0;34m\u001b[0m\u001b[0m\n\u001b[0m\u001b[1;32m   1039\u001b[0m             \u001b[0;32mif\u001b[0m \u001b[0mbinary\u001b[0m\u001b[0;34m:\u001b[0m\u001b[0;34m\u001b[0m\u001b[0;34m\u001b[0m\u001b[0m\n\u001b[1;32m   1040\u001b[0m                 \u001b[0;32mreturn\u001b[0m \u001b[0mresponse\u001b[0m\u001b[0;34m,\u001b[0m \u001b[0mself\u001b[0m\u001b[0;34m.\u001b[0m\u001b[0m_create_connection_guard\u001b[0m\u001b[0;34m(\u001b[0m\u001b[0mconnection\u001b[0m\u001b[0;34m)\u001b[0m\u001b[0;34m\u001b[0m\u001b[0;34m\u001b[0m\u001b[0m\n",
            "\u001b[0;32m/usr/local/lib/python3.7/dist-packages/py4j/clientserver.py\u001b[0m in \u001b[0;36msend_command\u001b[0;34m(self, command)\u001b[0m\n\u001b[1;32m    473\u001b[0m         \u001b[0;32mtry\u001b[0m\u001b[0;34m:\u001b[0m\u001b[0;34m\u001b[0m\u001b[0;34m\u001b[0m\u001b[0m\n\u001b[1;32m    474\u001b[0m             \u001b[0;32mwhile\u001b[0m \u001b[0;32mTrue\u001b[0m\u001b[0;34m:\u001b[0m\u001b[0;34m\u001b[0m\u001b[0;34m\u001b[0m\u001b[0m\n\u001b[0;32m--> 475\u001b[0;31m                 \u001b[0manswer\u001b[0m \u001b[0;34m=\u001b[0m \u001b[0msmart_decode\u001b[0m\u001b[0;34m(\u001b[0m\u001b[0mself\u001b[0m\u001b[0;34m.\u001b[0m\u001b[0mstream\u001b[0m\u001b[0;34m.\u001b[0m\u001b[0mreadline\u001b[0m\u001b[0;34m(\u001b[0m\u001b[0;34m)\u001b[0m\u001b[0;34m[\u001b[0m\u001b[0;34m:\u001b[0m\u001b[0;34m-\u001b[0m\u001b[0;36m1\u001b[0m\u001b[0;34m]\u001b[0m\u001b[0;34m)\u001b[0m\u001b[0;34m\u001b[0m\u001b[0;34m\u001b[0m\u001b[0m\n\u001b[0m\u001b[1;32m    476\u001b[0m                 \u001b[0mlogger\u001b[0m\u001b[0;34m.\u001b[0m\u001b[0mdebug\u001b[0m\u001b[0;34m(\u001b[0m\u001b[0;34m\"Answer received: {0}\"\u001b[0m\u001b[0;34m.\u001b[0m\u001b[0mformat\u001b[0m\u001b[0;34m(\u001b[0m\u001b[0manswer\u001b[0m\u001b[0;34m)\u001b[0m\u001b[0;34m)\u001b[0m\u001b[0;34m\u001b[0m\u001b[0;34m\u001b[0m\u001b[0m\n\u001b[1;32m    477\u001b[0m                 \u001b[0;31m# Happens when a the other end is dead. There might be an empty\u001b[0m\u001b[0;34m\u001b[0m\u001b[0;34m\u001b[0m\u001b[0;34m\u001b[0m\u001b[0m\n",
            "\u001b[0;32m/usr/lib/python3.7/socket.py\u001b[0m in \u001b[0;36mreadinto\u001b[0;34m(self, b)\u001b[0m\n\u001b[1;32m    587\u001b[0m         \u001b[0;32mwhile\u001b[0m \u001b[0;32mTrue\u001b[0m\u001b[0;34m:\u001b[0m\u001b[0;34m\u001b[0m\u001b[0;34m\u001b[0m\u001b[0m\n\u001b[1;32m    588\u001b[0m             \u001b[0;32mtry\u001b[0m\u001b[0;34m:\u001b[0m\u001b[0;34m\u001b[0m\u001b[0;34m\u001b[0m\u001b[0m\n\u001b[0;32m--> 589\u001b[0;31m                 \u001b[0;32mreturn\u001b[0m \u001b[0mself\u001b[0m\u001b[0;34m.\u001b[0m\u001b[0m_sock\u001b[0m\u001b[0;34m.\u001b[0m\u001b[0mrecv_into\u001b[0m\u001b[0;34m(\u001b[0m\u001b[0mb\u001b[0m\u001b[0;34m)\u001b[0m\u001b[0;34m\u001b[0m\u001b[0;34m\u001b[0m\u001b[0m\n\u001b[0m\u001b[1;32m    590\u001b[0m             \u001b[0;32mexcept\u001b[0m \u001b[0mtimeout\u001b[0m\u001b[0;34m:\u001b[0m\u001b[0;34m\u001b[0m\u001b[0;34m\u001b[0m\u001b[0m\n\u001b[1;32m    591\u001b[0m                 \u001b[0mself\u001b[0m\u001b[0;34m.\u001b[0m\u001b[0m_timeout_occurred\u001b[0m \u001b[0;34m=\u001b[0m \u001b[0;32mTrue\u001b[0m\u001b[0;34m\u001b[0m\u001b[0;34m\u001b[0m\u001b[0m\n",
            "\u001b[0;31mKeyboardInterrupt\u001b[0m: "
          ]
        }
      ]
    }
  ]
}