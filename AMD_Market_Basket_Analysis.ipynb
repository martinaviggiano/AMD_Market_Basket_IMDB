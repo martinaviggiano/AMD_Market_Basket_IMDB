{
  "nbformat": 4,
  "nbformat_minor": 0,
  "metadata": {
    "colab": {
      "name": "AMD_Market_Basket_Analysis.ipynb",
      "provenance": [],
      "collapsed_sections": []
    },
    "kernelspec": {
      "name": "python3",
      "display_name": "Python 3"
    },
    "language_info": {
      "name": "python"
    }
  },
  "cells": [
    {
      "cell_type": "markdown",
      "metadata": {
        "id": "msXVLv8PwO5z"
      },
      "source": [
        "# **ALGORITHMS FOR MASSIVE DATA**\n",
        "# Market Basket Analysis on IMBD dataset"
      ]
    },
    {
      "cell_type": "markdown",
      "metadata": {
        "id": "X5B7jZH-jrFI"
      },
      "source": [
        "----\n",
        "\n",
        "Summary:\n",
        "\n",
        "1.   Imports\n",
        "2.   Pre-processing\n",
        "\n",
        "\n",
        "\n"
      ]
    },
    {
      "cell_type": "markdown",
      "metadata": {
        "id": "2cnBq7RKjnxH"
      },
      "source": [
        "## **1. Imports**"
      ]
    },
    {
      "cell_type": "markdown",
      "metadata": {
        "id": "cUiUNYbjZxYL"
      },
      "source": [
        "Importing kaggle."
      ]
    },
    {
      "cell_type": "code",
      "metadata": {
        "id": "vIpNOJWqzjUH"
      },
      "source": [
        "!pip install -q kaggle"
      ],
      "execution_count": 1,
      "outputs": []
    },
    {
      "cell_type": "code",
      "metadata": {
        "colab": {
          "resources": {
            "http://localhost:8080/nbextensions/google.colab/files.js": {
              "data": "Ly8gQ29weXJpZ2h0IDIwMTcgR29vZ2xlIExMQwovLwovLyBMaWNlbnNlZCB1bmRlciB0aGUgQXBhY2hlIExpY2Vuc2UsIFZlcnNpb24gMi4wICh0aGUgIkxpY2Vuc2UiKTsKLy8geW91IG1heSBub3QgdXNlIHRoaXMgZmlsZSBleGNlcHQgaW4gY29tcGxpYW5jZSB3aXRoIHRoZSBMaWNlbnNlLgovLyBZb3UgbWF5IG9idGFpbiBhIGNvcHkgb2YgdGhlIExpY2Vuc2UgYXQKLy8KLy8gICAgICBodHRwOi8vd3d3LmFwYWNoZS5vcmcvbGljZW5zZXMvTElDRU5TRS0yLjAKLy8KLy8gVW5sZXNzIHJlcXVpcmVkIGJ5IGFwcGxpY2FibGUgbGF3IG9yIGFncmVlZCB0byBpbiB3cml0aW5nLCBzb2Z0d2FyZQovLyBkaXN0cmlidXRlZCB1bmRlciB0aGUgTGljZW5zZSBpcyBkaXN0cmlidXRlZCBvbiBhbiAiQVMgSVMiIEJBU0lTLAovLyBXSVRIT1VUIFdBUlJBTlRJRVMgT1IgQ09ORElUSU9OUyBPRiBBTlkgS0lORCwgZWl0aGVyIGV4cHJlc3Mgb3IgaW1wbGllZC4KLy8gU2VlIHRoZSBMaWNlbnNlIGZvciB0aGUgc3BlY2lmaWMgbGFuZ3VhZ2UgZ292ZXJuaW5nIHBlcm1pc3Npb25zIGFuZAovLyBsaW1pdGF0aW9ucyB1bmRlciB0aGUgTGljZW5zZS4KCi8qKgogKiBAZmlsZW92ZXJ2aWV3IEhlbHBlcnMgZm9yIGdvb2dsZS5jb2xhYiBQeXRob24gbW9kdWxlLgogKi8KKGZ1bmN0aW9uKHNjb3BlKSB7CmZ1bmN0aW9uIHNwYW4odGV4dCwgc3R5bGVBdHRyaWJ1dGVzID0ge30pIHsKICBjb25zdCBlbGVtZW50ID0gZG9jdW1lbnQuY3JlYXRlRWxlbWVudCgnc3BhbicpOwogIGVsZW1lbnQudGV4dENvbnRlbnQgPSB0ZXh0OwogIGZvciAoY29uc3Qga2V5IG9mIE9iamVjdC5rZXlzKHN0eWxlQXR0cmlidXRlcykpIHsKICAgIGVsZW1lbnQuc3R5bGVba2V5XSA9IHN0eWxlQXR0cmlidXRlc1trZXldOwogIH0KICByZXR1cm4gZWxlbWVudDsKfQoKLy8gTWF4IG51bWJlciBvZiBieXRlcyB3aGljaCB3aWxsIGJlIHVwbG9hZGVkIGF0IGEgdGltZS4KY29uc3QgTUFYX1BBWUxPQURfU0laRSA9IDEwMCAqIDEwMjQ7CgpmdW5jdGlvbiBfdXBsb2FkRmlsZXMoaW5wdXRJZCwgb3V0cHV0SWQpIHsKICBjb25zdCBzdGVwcyA9IHVwbG9hZEZpbGVzU3RlcChpbnB1dElkLCBvdXRwdXRJZCk7CiAgY29uc3Qgb3V0cHV0RWxlbWVudCA9IGRvY3VtZW50LmdldEVsZW1lbnRCeUlkKG91dHB1dElkKTsKICAvLyBDYWNoZSBzdGVwcyBvbiB0aGUgb3V0cHV0RWxlbWVudCB0byBtYWtlIGl0IGF2YWlsYWJsZSBmb3IgdGhlIG5leHQgY2FsbAogIC8vIHRvIHVwbG9hZEZpbGVzQ29udGludWUgZnJvbSBQeXRob24uCiAgb3V0cHV0RWxlbWVudC5zdGVwcyA9IHN0ZXBzOwoKICByZXR1cm4gX3VwbG9hZEZpbGVzQ29udGludWUob3V0cHV0SWQpOwp9CgovLyBUaGlzIGlzIHJvdWdobHkgYW4gYXN5bmMgZ2VuZXJhdG9yIChub3Qgc3VwcG9ydGVkIGluIHRoZSBicm93c2VyIHlldCksCi8vIHdoZXJlIHRoZXJlIGFyZSBtdWx0aXBsZSBhc3luY2hyb25vdXMgc3RlcHMgYW5kIHRoZSBQeXRob24gc2lkZSBpcyBnb2luZwovLyB0byBwb2xsIGZvciBjb21wbGV0aW9uIG9mIGVhY2ggc3RlcC4KLy8gVGhpcyB1c2VzIGEgUHJvbWlzZSB0byBibG9jayB0aGUgcHl0aG9uIHNpZGUgb24gY29tcGxldGlvbiBvZiBlYWNoIHN0ZXAsCi8vIHRoZW4gcGFzc2VzIHRoZSByZXN1bHQgb2YgdGhlIHByZXZpb3VzIHN0ZXAgYXMgdGhlIGlucHV0IHRvIHRoZSBuZXh0IHN0ZXAuCmZ1bmN0aW9uIF91cGxvYWRGaWxlc0NvbnRpbnVlKG91dHB1dElkKSB7CiAgY29uc3Qgb3V0cHV0RWxlbWVudCA9IGRvY3VtZW50LmdldEVsZW1lbnRCeUlkKG91dHB1dElkKTsKICBjb25zdCBzdGVwcyA9IG91dHB1dEVsZW1lbnQuc3RlcHM7CgogIGNvbnN0IG5leHQgPSBzdGVwcy5uZXh0KG91dHB1dEVsZW1lbnQubGFzdFByb21pc2VWYWx1ZSk7CiAgcmV0dXJuIFByb21pc2UucmVzb2x2ZShuZXh0LnZhbHVlLnByb21pc2UpLnRoZW4oKHZhbHVlKSA9PiB7CiAgICAvLyBDYWNoZSB0aGUgbGFzdCBwcm9taXNlIHZhbHVlIHRvIG1ha2UgaXQgYXZhaWxhYmxlIHRvIHRoZSBuZXh0CiAgICAvLyBzdGVwIG9mIHRoZSBnZW5lcmF0b3IuCiAgICBvdXRwdXRFbGVtZW50Lmxhc3RQcm9taXNlVmFsdWUgPSB2YWx1ZTsKICAgIHJldHVybiBuZXh0LnZhbHVlLnJlc3BvbnNlOwogIH0pOwp9CgovKioKICogR2VuZXJhdG9yIGZ1bmN0aW9uIHdoaWNoIGlzIGNhbGxlZCBiZXR3ZWVuIGVhY2ggYXN5bmMgc3RlcCBvZiB0aGUgdXBsb2FkCiAqIHByb2Nlc3MuCiAqIEBwYXJhbSB7c3RyaW5nfSBpbnB1dElkIEVsZW1lbnQgSUQgb2YgdGhlIGlucHV0IGZpbGUgcGlja2VyIGVsZW1lbnQuCiAqIEBwYXJhbSB7c3RyaW5nfSBvdXRwdXRJZCBFbGVtZW50IElEIG9mIHRoZSBvdXRwdXQgZGlzcGxheS4KICogQHJldHVybiB7IUl0ZXJhYmxlPCFPYmplY3Q+fSBJdGVyYWJsZSBvZiBuZXh0IHN0ZXBzLgogKi8KZnVuY3Rpb24qIHVwbG9hZEZpbGVzU3RlcChpbnB1dElkLCBvdXRwdXRJZCkgewogIGNvbnN0IGlucHV0RWxlbWVudCA9IGRvY3VtZW50LmdldEVsZW1lbnRCeUlkKGlucHV0SWQpOwogIGlucHV0RWxlbWVudC5kaXNhYmxlZCA9IGZhbHNlOwoKICBjb25zdCBvdXRwdXRFbGVtZW50ID0gZG9jdW1lbnQuZ2V0RWxlbWVudEJ5SWQob3V0cHV0SWQpOwogIG91dHB1dEVsZW1lbnQuaW5uZXJIVE1MID0gJyc7CgogIGNvbnN0IHBpY2tlZFByb21pc2UgPSBuZXcgUHJvbWlzZSgocmVzb2x2ZSkgPT4gewogICAgaW5wdXRFbGVtZW50LmFkZEV2ZW50TGlzdGVuZXIoJ2NoYW5nZScsIChlKSA9PiB7CiAgICAgIHJlc29sdmUoZS50YXJnZXQuZmlsZXMpOwogICAgfSk7CiAgfSk7CgogIGNvbnN0IGNhbmNlbCA9IGRvY3VtZW50LmNyZWF0ZUVsZW1lbnQoJ2J1dHRvbicpOwogIGlucHV0RWxlbWVudC5wYXJlbnRFbGVtZW50LmFwcGVuZENoaWxkKGNhbmNlbCk7CiAgY2FuY2VsLnRleHRDb250ZW50ID0gJ0NhbmNlbCB1cGxvYWQnOwogIGNvbnN0IGNhbmNlbFByb21pc2UgPSBuZXcgUHJvbWlzZSgocmVzb2x2ZSkgPT4gewogICAgY2FuY2VsLm9uY2xpY2sgPSAoKSA9PiB7CiAgICAgIHJlc29sdmUobnVsbCk7CiAgICB9OwogIH0pOwoKICAvLyBXYWl0IGZvciB0aGUgdXNlciB0byBwaWNrIHRoZSBmaWxlcy4KICBjb25zdCBmaWxlcyA9IHlpZWxkIHsKICAgIHByb21pc2U6IFByb21pc2UucmFjZShbcGlja2VkUHJvbWlzZSwgY2FuY2VsUHJvbWlzZV0pLAogICAgcmVzcG9uc2U6IHsKICAgICAgYWN0aW9uOiAnc3RhcnRpbmcnLAogICAgfQogIH07CgogIGNhbmNlbC5yZW1vdmUoKTsKCiAgLy8gRGlzYWJsZSB0aGUgaW5wdXQgZWxlbWVudCBzaW5jZSBmdXJ0aGVyIHBpY2tzIGFyZSBub3QgYWxsb3dlZC4KICBpbnB1dEVsZW1lbnQuZGlzYWJsZWQgPSB0cnVlOwoKICBpZiAoIWZpbGVzKSB7CiAgICByZXR1cm4gewogICAgICByZXNwb25zZTogewogICAgICAgIGFjdGlvbjogJ2NvbXBsZXRlJywKICAgICAgfQogICAgfTsKICB9CgogIGZvciAoY29uc3QgZmlsZSBvZiBmaWxlcykgewogICAgY29uc3QgbGkgPSBkb2N1bWVudC5jcmVhdGVFbGVtZW50KCdsaScpOwogICAgbGkuYXBwZW5kKHNwYW4oZmlsZS5uYW1lLCB7Zm9udFdlaWdodDogJ2JvbGQnfSkpOwogICAgbGkuYXBwZW5kKHNwYW4oCiAgICAgICAgYCgke2ZpbGUudHlwZSB8fCAnbi9hJ30pIC0gJHtmaWxlLnNpemV9IGJ5dGVzLCBgICsKICAgICAgICBgbGFzdCBtb2RpZmllZDogJHsKICAgICAgICAgICAgZmlsZS5sYXN0TW9kaWZpZWREYXRlID8gZmlsZS5sYXN0TW9kaWZpZWREYXRlLnRvTG9jYWxlRGF0ZVN0cmluZygpIDoKICAgICAgICAgICAgICAgICAgICAgICAgICAgICAgICAgICAgJ24vYSd9IC0gYCkpOwogICAgY29uc3QgcGVyY2VudCA9IHNwYW4oJzAlIGRvbmUnKTsKICAgIGxpLmFwcGVuZENoaWxkKHBlcmNlbnQpOwoKICAgIG91dHB1dEVsZW1lbnQuYXBwZW5kQ2hpbGQobGkpOwoKICAgIGNvbnN0IGZpbGVEYXRhUHJvbWlzZSA9IG5ldyBQcm9taXNlKChyZXNvbHZlKSA9PiB7CiAgICAgIGNvbnN0IHJlYWRlciA9IG5ldyBGaWxlUmVhZGVyKCk7CiAgICAgIHJlYWRlci5vbmxvYWQgPSAoZSkgPT4gewogICAgICAgIHJlc29sdmUoZS50YXJnZXQucmVzdWx0KTsKICAgICAgfTsKICAgICAgcmVhZGVyLnJlYWRBc0FycmF5QnVmZmVyKGZpbGUpOwogICAgfSk7CiAgICAvLyBXYWl0IGZvciB0aGUgZGF0YSB0byBiZSByZWFkeS4KICAgIGxldCBmaWxlRGF0YSA9IHlpZWxkIHsKICAgICAgcHJvbWlzZTogZmlsZURhdGFQcm9taXNlLAogICAgICByZXNwb25zZTogewogICAgICAgIGFjdGlvbjogJ2NvbnRpbnVlJywKICAgICAgfQogICAgfTsKCiAgICAvLyBVc2UgYSBjaHVua2VkIHNlbmRpbmcgdG8gYXZvaWQgbWVzc2FnZSBzaXplIGxpbWl0cy4gU2VlIGIvNjIxMTU2NjAuCiAgICBsZXQgcG9zaXRpb24gPSAwOwogICAgZG8gewogICAgICBjb25zdCBsZW5ndGggPSBNYXRoLm1pbihmaWxlRGF0YS5ieXRlTGVuZ3RoIC0gcG9zaXRpb24sIE1BWF9QQVlMT0FEX1NJWkUpOwogICAgICBjb25zdCBjaHVuayA9IG5ldyBVaW50OEFycmF5KGZpbGVEYXRhLCBwb3NpdGlvbiwgbGVuZ3RoKTsKICAgICAgcG9zaXRpb24gKz0gbGVuZ3RoOwoKICAgICAgY29uc3QgYmFzZTY0ID0gYnRvYShTdHJpbmcuZnJvbUNoYXJDb2RlLmFwcGx5KG51bGwsIGNodW5rKSk7CiAgICAgIHlpZWxkIHsKICAgICAgICByZXNwb25zZTogewogICAgICAgICAgYWN0aW9uOiAnYXBwZW5kJywKICAgICAgICAgIGZpbGU6IGZpbGUubmFtZSwKICAgICAgICAgIGRhdGE6IGJhc2U2NCwKICAgICAgICB9LAogICAgICB9OwoKICAgICAgbGV0IHBlcmNlbnREb25lID0gZmlsZURhdGEuYnl0ZUxlbmd0aCA9PT0gMCA/CiAgICAgICAgICAxMDAgOgogICAgICAgICAgTWF0aC5yb3VuZCgocG9zaXRpb24gLyBmaWxlRGF0YS5ieXRlTGVuZ3RoKSAqIDEwMCk7CiAgICAgIHBlcmNlbnQudGV4dENvbnRlbnQgPSBgJHtwZXJjZW50RG9uZX0lIGRvbmVgOwoKICAgIH0gd2hpbGUgKHBvc2l0aW9uIDwgZmlsZURhdGEuYnl0ZUxlbmd0aCk7CiAgfQoKICAvLyBBbGwgZG9uZS4KICB5aWVsZCB7CiAgICByZXNwb25zZTogewogICAgICBhY3Rpb246ICdjb21wbGV0ZScsCiAgICB9CiAgfTsKfQoKc2NvcGUuZ29vZ2xlID0gc2NvcGUuZ29vZ2xlIHx8IHt9OwpzY29wZS5nb29nbGUuY29sYWIgPSBzY29wZS5nb29nbGUuY29sYWIgfHwge307CnNjb3BlLmdvb2dsZS5jb2xhYi5fZmlsZXMgPSB7CiAgX3VwbG9hZEZpbGVzLAogIF91cGxvYWRGaWxlc0NvbnRpbnVlLAp9Owp9KShzZWxmKTsK",
              "ok": true,
              "headers": [
                [
                  "content-type",
                  "application/javascript"
                ]
              ],
              "status": 200,
              "status_text": ""
            }
          },
          "base_uri": "https://localhost:8080/",
          "height": 90
        },
        "id": "0__NgmMkdAar",
        "outputId": "a07518ab-44cb-4f0f-eb35-01680ae725f5"
      },
      "source": [
        "from google.colab import files\n",
        "files.upload()"
      ],
      "execution_count": 2,
      "outputs": [
        {
          "output_type": "display_data",
          "data": {
            "text/html": [
              "\n",
              "     <input type=\"file\" id=\"files-9c9458b4-251b-4b3b-af5e-562b7888dff1\" name=\"files[]\" multiple disabled\n",
              "        style=\"border:none\" />\n",
              "     <output id=\"result-9c9458b4-251b-4b3b-af5e-562b7888dff1\">\n",
              "      Upload widget is only available when the cell has been executed in the\n",
              "      current browser session. Please rerun this cell to enable.\n",
              "      </output>\n",
              "      <script src=\"/nbextensions/google.colab/files.js\"></script> "
            ],
            "text/plain": [
              "<IPython.core.display.HTML object>"
            ]
          },
          "metadata": {}
        },
        {
          "output_type": "stream",
          "name": "stdout",
          "text": [
            "Saving kaggle.json to kaggle.json\n"
          ]
        },
        {
          "output_type": "execute_result",
          "data": {
            "text/plain": [
              "{'kaggle.json': b'{\"username\":\"martinaviggiano\",\"key\":\"53a50dae23b35b3c81b9063b6c417e93\"}'}"
            ]
          },
          "metadata": {},
          "execution_count": 2
        }
      ]
    },
    {
      "cell_type": "code",
      "metadata": {
        "id": "2h9ho1WWyVoK"
      },
      "source": [
        "!pip install -q kaggle\n",
        "!mkdir -p ~/.kaggle\n",
        "!cp kaggle.json ~/.kaggle/\n",
        "!chmod 600 ~/.kaggle/kaggle.json"
      ],
      "execution_count": 3,
      "outputs": []
    },
    {
      "cell_type": "markdown",
      "metadata": {
        "id": "-tJO_FB_Z1yg"
      },
      "source": [
        "Importing imdb-dataset data."
      ]
    },
    {
      "cell_type": "code",
      "metadata": {
        "colab": {
          "base_uri": "https://localhost:8080/"
        },
        "id": "ATu-IXLtcH8E",
        "outputId": "d2d5e8fc-8f15-4363-9607-f0747da3f572"
      },
      "source": [
        "!kaggle datasets download -d ashirwadsangwan/imdb-dataset"
      ],
      "execution_count": 4,
      "outputs": [
        {
          "output_type": "stream",
          "name": "stdout",
          "text": [
            "Downloading imdb-dataset.zip to /content\n",
            " 99% 1.42G/1.44G [00:12<00:00, 134MB/s]\n",
            "100% 1.44G/1.44G [00:12<00:00, 120MB/s]\n"
          ]
        }
      ]
    },
    {
      "cell_type": "code",
      "metadata": {
        "colab": {
          "base_uri": "https://localhost:8080/"
        },
        "id": "DrOo9X470XhM",
        "outputId": "0c2912a0-7c6e-4e00-bd49-3548bdb78f62"
      },
      "source": [
        "!unzip imdb-dataset.zip"
      ],
      "execution_count": 5,
      "outputs": [
        {
          "output_type": "stream",
          "name": "stdout",
          "text": [
            "Archive:  imdb-dataset.zip\n",
            "  inflating: name.basics.tsv.gz      \n",
            "  inflating: name.basics.tsv/name.basics.tsv  \n",
            "  inflating: title.akas.tsv.gz       \n",
            "  inflating: title.akas.tsv/title.akas.tsv  \n",
            "  inflating: title.basics.tsv.gz     \n",
            "  inflating: title.basics.tsv/title.basics.tsv  \n",
            "  inflating: title.principals.tsv.gz  \n",
            "  inflating: title.principals.tsv/title.principals.tsv  \n",
            "  inflating: title.ratings.tsv.gz    \n",
            "  inflating: title.ratings.tsv/title.ratings.tsv  \n"
          ]
        }
      ]
    },
    {
      "cell_type": "markdown",
      "metadata": {
        "id": "RXZTtMpSjcbx"
      },
      "source": [
        "## **2. Pre-processing**"
      ]
    },
    {
      "cell_type": "markdown",
      "metadata": {
        "id": "ybMLsuo0jilP"
      },
      "source": [
        "We will consider movies as baskets and actors as items.\n"
      ]
    },
    {
      "cell_type": "code",
      "metadata": {
        "id": "8THQYAsT7XjU"
      },
      "source": [
        "!pip install pyspark"
      ],
      "execution_count": null,
      "outputs": []
    },
    {
      "cell_type": "code",
      "metadata": {
        "colab": {
          "base_uri": "https://localhost:8080/"
        },
        "id": "jF-QssAEY1_H",
        "outputId": "f79c36a0-3125-4ed4-9f09-11a9621cd007"
      },
      "source": [
        "from pyspark.sql import SparkSession\n",
        "#from pyspark.conf import SparkConf\n",
        "from pyspark import SparkConf, SparkContext"
      ],
      "execution_count": 6,
      "outputs": [
        {
          "output_type": "stream",
          "name": "stdout",
          "text": [
            "Collecting pyspark\n",
            "  Downloading pyspark-3.2.0.tar.gz (281.3 MB)\n",
            "\u001b[K     |████████████████████████████████| 281.3 MB 38 kB/s \n",
            "\u001b[?25hCollecting py4j==0.10.9.2\n",
            "  Downloading py4j-0.10.9.2-py2.py3-none-any.whl (198 kB)\n",
            "\u001b[K     |████████████████████████████████| 198 kB 45.4 MB/s \n",
            "\u001b[?25hBuilding wheels for collected packages: pyspark\n",
            "  Building wheel for pyspark (setup.py) ... \u001b[?25l\u001b[?25hdone\n",
            "  Created wheel for pyspark: filename=pyspark-3.2.0-py2.py3-none-any.whl size=281805912 sha256=6a3558dccc9010df156d33d2bdfea45c273641f42a69b66d5579951c39d2385d\n",
            "  Stored in directory: /root/.cache/pip/wheels/0b/de/d2/9be5d59d7331c6c2a7c1b6d1a4f463ce107332b1ecd4e80718\n",
            "Successfully built pyspark\n",
            "Installing collected packages: py4j, pyspark\n",
            "Successfully installed py4j-0.10.9.2 pyspark-3.2.0\n"
          ]
        }
      ]
    },
    {
      "cell_type": "code",
      "metadata": {
        "id": "UWbcbCY7ZBRT"
      },
      "source": [
        "spark = SparkSession.builder.enableHiveSupport().getOrCreate()"
      ],
      "execution_count": 7,
      "outputs": []
    },
    {
      "cell_type": "code",
      "metadata": {
        "id": "7GW03ijLkeDb"
      },
      "source": [
        "import pandas as pd\n",
        "import pickle"
      ],
      "execution_count": 8,
      "outputs": []
    },
    {
      "cell_type": "code",
      "metadata": {
        "id": "dC-GxEHMzCyN"
      },
      "source": [
        "title_basics = spark.read.csv('title.basics.tsv.gz', header=True, sep = '\\t')"
      ],
      "execution_count": 9,
      "outputs": []
    },
    {
      "cell_type": "code",
      "metadata": {
        "colab": {
          "base_uri": "https://localhost:8080/"
        },
        "id": "U3Bzf3cw1QI-",
        "outputId": "24133036-3d7d-4b5a-a4fd-1e8c82bf4147"
      },
      "source": [
        "title_basics = title_basics.filter((title_basics.titleType == 'movie'))\n",
        "title_basics.show(5)"
      ],
      "execution_count": 10,
      "outputs": [
        {
          "output_type": "stream",
          "name": "stdout",
          "text": [
            "+---------+---------+--------------------+--------------------+-------+---------+-------+--------------+--------------------+\n",
            "|   tconst|titleType|        primaryTitle|       originalTitle|isAdult|startYear|endYear|runtimeMinutes|              genres|\n",
            "+---------+---------+--------------------+--------------------+-------+---------+-------+--------------+--------------------+\n",
            "|tt0000009|    movie|          Miss Jerry|          Miss Jerry|      0|     1894|     \\N|            45|             Romance|\n",
            "|tt0000147|    movie|The Corbett-Fitzs...|The Corbett-Fitzs...|      0|     1897|     \\N|            20|Documentary,News,...|\n",
            "|tt0000335|    movie|Soldiers of the C...|Soldiers of the C...|      0|     1900|     \\N|            \\N|     Biography,Drama|\n",
            "|tt0000502|    movie|            Bohemios|            Bohemios|      0|     1905|     \\N|           100|                  \\N|\n",
            "|tt0000574|    movie|The Story of the ...|The Story of the ...|      0|     1906|     \\N|            70|Biography,Crime,D...|\n",
            "+---------+---------+--------------------+--------------------+-------+---------+-------+--------------+--------------------+\n",
            "only showing top 5 rows\n",
            "\n"
          ]
        }
      ]
    },
    {
      "cell_type": "code",
      "metadata": {
        "id": "1CAsJ1ARklE6"
      },
      "source": [
        "title_principals = spark.read.csv('title.principals.tsv.gz', header=True, sep = '\\t')"
      ],
      "execution_count": 11,
      "outputs": []
    },
    {
      "cell_type": "code",
      "metadata": {
        "id": "VMMA_xwIlPgA",
        "colab": {
          "base_uri": "https://localhost:8080/"
        },
        "outputId": "5dfb58a1-5cf5-4013-d9be-674109db5186"
      },
      "source": [
        "title_principals = title_principals.filter((title_principals.category == \"actor\") | (title_principals.category == \"actress\"))\n",
        "title_principals = title_principals.select(\"tconst\",\"nconst\")\n",
        "title_principals.show(5)"
      ],
      "execution_count": 12,
      "outputs": [
        {
          "output_type": "stream",
          "name": "stdout",
          "text": [
            "+---------+---------+\n",
            "|   tconst|   nconst|\n",
            "+---------+---------+\n",
            "|tt0000005|nm0443482|\n",
            "|tt0000005|nm0653042|\n",
            "|tt0000007|nm0179163|\n",
            "|tt0000007|nm0183947|\n",
            "|tt0000008|nm0653028|\n",
            "+---------+---------+\n",
            "only showing top 5 rows\n",
            "\n"
          ]
        }
      ]
    },
    {
      "cell_type": "code",
      "metadata": {
        "colab": {
          "base_uri": "https://localhost:8080/"
        },
        "id": "Km_DK4UtcR4Z",
        "outputId": "9258b3d3-e392-4acd-b2dd-5ba18dab71cd"
      },
      "source": [
        "df_title = title_principals.join(title_basics, [\"tconst\"], 'leftsemi')\n",
        "df_title.show(5)"
      ],
      "execution_count": 13,
      "outputs": [
        {
          "output_type": "stream",
          "name": "stdout",
          "text": [
            "+---------+---------+\n",
            "|   tconst|   nconst|\n",
            "+---------+---------+\n",
            "|tt0000335|nm1010955|\n",
            "|tt0000335|nm1012612|\n",
            "|tt0000335|nm1011210|\n",
            "|tt0000335|nm1012621|\n",
            "|tt0000335|nm0675239|\n",
            "+---------+---------+\n",
            "only showing top 5 rows\n",
            "\n"
          ]
        }
      ]
    },
    {
      "cell_type": "code",
      "metadata": {
        "id": "YifSXphplQ9u"
      },
      "source": [
        "name_basics = spark.read.csv('name.basics.tsv.gz', header=True, sep = '\\t')"
      ],
      "execution_count": 14,
      "outputs": []
    },
    {
      "cell_type": "code",
      "metadata": {
        "id": "0u3yemZz6ffG"
      },
      "source": [
        "#df_title = title_principals[title_principals.set_index(['tconst']).index.isin(title_basics.set_index(['tconst']).index)]"
      ],
      "execution_count": 15,
      "outputs": []
    },
    {
      "cell_type": "code",
      "metadata": {
        "id": "TEbla1Du5RT7"
      },
      "source": [
        "#df_title.write.format('csv').option('header',True).mode('overwrite').option('sep','|').save(\"/content/drive/MyDrive/Università/amd_Market_Basket/df_title.csv\")"
      ],
      "execution_count": 16,
      "outputs": []
    },
    {
      "cell_type": "code",
      "metadata": {
        "id": "HH0Wn2bFepLs"
      },
      "source": [
        "#df_title.rdd.getNumPartitions()"
      ],
      "execution_count": 17,
      "outputs": []
    },
    {
      "cell_type": "code",
      "metadata": {
        "id": "2hYZaJvG-VjS"
      },
      "source": [
        "#!cp df_title.csv /content/drive/MyDrive/Università/amd_Market_Basket"
      ],
      "execution_count": 18,
      "outputs": []
    },
    {
      "cell_type": "code",
      "metadata": {
        "id": "tOD-hSvqVXqH"
      },
      "source": [
        "#title_basics.to_csv(\"title_basics.csv\", index=False, sep=\"|\")"
      ],
      "execution_count": 19,
      "outputs": []
    },
    {
      "cell_type": "code",
      "metadata": {
        "id": "OpyrbapDVXT7"
      },
      "source": [
        "#!cp title_basics.csv /content/drive/MyDrive/Università/amd_Market_Basket"
      ],
      "execution_count": 20,
      "outputs": []
    },
    {
      "cell_type": "code",
      "metadata": {
        "id": "qAfknYr0Vidq"
      },
      "source": [
        "#title_principals.to_csv(\"title_principals.csv\", index=False, sep=\"|\")"
      ],
      "execution_count": 21,
      "outputs": []
    },
    {
      "cell_type": "code",
      "metadata": {
        "id": "5XXPssJ-ViP5"
      },
      "source": [
        "#!cp title_principals.csv /content/drive/MyDrive/Università/amd_Market_Basket"
      ],
      "execution_count": 22,
      "outputs": []
    },
    {
      "cell_type": "markdown",
      "metadata": {
        "id": "8lOUiMna5OdZ"
      },
      "source": [
        "Load back "
      ]
    },
    {
      "cell_type": "code",
      "metadata": {
        "id": "qkZ0qTX6Xur2"
      },
      "source": [
        "#from google.colab import drive\n",
        "#drive.mount('/content/drive')"
      ],
      "execution_count": 23,
      "outputs": []
    },
    {
      "cell_type": "code",
      "metadata": {
        "id": "oVUylmP--c3D"
      },
      "source": [
        "#df_title_ = spark.read.csv(\"/content/drive/MyDrive/Università/amd_Market_Basket/df_title.csv\", header=True, sep = '|')"
      ],
      "execution_count": 24,
      "outputs": []
    },
    {
      "cell_type": "code",
      "metadata": {
        "colab": {
          "base_uri": "https://localhost:8080/"
        },
        "id": "9P6IrFeJhlf1",
        "outputId": "140ceb83-5018-413b-94f4-eedb50009fc6"
      },
      "source": [
        "df_title.summary().show()"
      ],
      "execution_count": 25,
      "outputs": [
        {
          "output_type": "stream",
          "name": "stdout",
          "text": [
            "+-------+---------+---------+\n",
            "|summary|   tconst|   nconst|\n",
            "+-------+---------+---------+\n",
            "|  count|  1694722|  1694722|\n",
            "|   mean|     null|     null|\n",
            "| stddev|     null|     null|\n",
            "|    min|tt0000009|nm0000001|\n",
            "|    25%|     null|     null|\n",
            "|    50%|     null|     null|\n",
            "|    75%|     null|     null|\n",
            "|    max|tt9916730|nm9993680|\n",
            "+-------+---------+---------+\n",
            "\n"
          ]
        }
      ]
    },
    {
      "cell_type": "code",
      "metadata": {
        "id": "rONJVe2IFe8D"
      },
      "source": [
        "#df_title_.summary().show()"
      ],
      "execution_count": 26,
      "outputs": []
    },
    {
      "cell_type": "code",
      "metadata": {
        "colab": {
          "base_uri": "https://localhost:8080/"
        },
        "id": "Sdk9aDOziw-V",
        "outputId": "f21e5635-384c-42e2-d529-17d024c12bc7"
      },
      "source": [
        "from pyspark.sql.functions import collect_set, col, count\n",
        "\n",
        "baskets = df_title.groupBy('tconst').agg(collect_set('nconst').alias('actors'))\n",
        "baskets.createOrReplaceTempView('baskets')\n",
        "df_title.show(5)\n",
        "baskets.show(5)"
      ],
      "execution_count": 27,
      "outputs": [
        {
          "output_type": "stream",
          "name": "stdout",
          "text": [
            "+---------+---------+\n",
            "|   tconst|   nconst|\n",
            "+---------+---------+\n",
            "|tt0000335|nm1010955|\n",
            "|tt0000335|nm1012612|\n",
            "|tt0000335|nm1011210|\n",
            "|tt0000335|nm1012621|\n",
            "|tt0000335|nm0675239|\n",
            "+---------+---------+\n",
            "only showing top 5 rows\n",
            "\n",
            "+---------+--------------------+\n",
            "|   tconst|              actors|\n",
            "+---------+--------------------+\n",
            "|tt0000335|[nm1012612, nm067...|\n",
            "|tt0000630|         [nm0624446]|\n",
            "|tt0000676|[nm0140054, nm009...|\n",
            "|tt0000793|         [nm0691995]|\n",
            "|tt0000862|[nm0264569, nm528...|\n",
            "+---------+--------------------+\n",
            "only showing top 5 rows\n",
            "\n"
          ]
        }
      ]
    },
    {
      "cell_type": "code",
      "metadata": {
        "id": "rRC7B1tYj-Fw"
      },
      "source": [
        "from pyspark.ml.fpm import FPGrowth\n",
        "\n",
        "fpGrowth = FPGrowth(itemsCol=\"actors\", minSupport=0.00001, minConfidence=0.00001)\n",
        "model = fpGrowth.fit(baskets)"
      ],
      "execution_count": 28,
      "outputs": []
    },
    {
      "cell_type": "code",
      "metadata": {
        "colab": {
          "base_uri": "https://localhost:8080/"
        },
        "id": "PJocZJTdkBDj",
        "outputId": "19d16cc4-fb69-48b6-dd66-8dbc88b7a45b"
      },
      "source": [
        "# Display frequent itemsets.\n",
        "mostPopularItemInABasket = model.freqItemsets\n",
        "mostPopularItemInABasket.createOrReplaceTempView(\"mostPopularItemInABasket\")\n",
        "mostPopularItemInABasket.show()\n",
        "\n",
        "# Display generated association rules.\n",
        "associationRules = model.associationRules\n",
        "associationRules.createOrReplaceTempView(\"associationRules\")\n",
        "associationRules.show()\n",
        "\n",
        "# transform examines the input items against all the association rules and summarize the consequents as prediction\n",
        "associations = model.transform(baskets)\n",
        "associations.show()"
      ],
      "execution_count": 29,
      "outputs": [
        {
          "output_type": "stream",
          "name": "stderr",
          "text": [
            "/usr/local/lib/python3.7/dist-packages/pyspark/sql/context.py:127: FutureWarning: Deprecated in 3.0.0. Use SparkSession.builder.getOrCreate() instead.\n",
            "  FutureWarning\n"
          ]
        },
        {
          "output_type": "stream",
          "name": "stdout",
          "text": [
            "+--------------------+----+\n",
            "|               items|freq|\n",
            "+--------------------+----+\n",
            "|         [nm0387390]|  20|\n",
            "|         [nm0084153]|   7|\n",
            "|         [nm1209934]|   4|\n",
            "|         [nm0927092]|   9|\n",
            "|         [nm0271806]|  46|\n",
            "|[nm0271806, nm015...|   5|\n",
            "|[nm0271806, nm093...|   7|\n",
            "|[nm0271806, nm067...|   7|\n",
            "|[nm0271806, nm047...|   4|\n",
            "|[nm0271806, nm039...|   5|\n",
            "|[nm0271806, nm039...|   4|\n",
            "|[nm0271806, nm051...|   7|\n",
            "|[nm0271806, nm004...|   4|\n",
            "|         [nm1171731]|   6|\n",
            "|         [nm1008709]|   9|\n",
            "|         [nm0194638]|  33|\n",
            "|         [nm9562694]|   4|\n",
            "|         [nm1037451]|   8|\n",
            "|[nm1037451, nm231...|   4|\n",
            "|         [nm8920170]|   7|\n",
            "+--------------------+----+\n",
            "only showing top 20 rows\n",
            "\n",
            "+--------------------+-----------+-------------------+------------------+--------------------+\n",
            "|          antecedent| consequent|         confidence|              lift|             support|\n",
            "+--------------------+-----------+-------------------+------------------+--------------------+\n",
            "|         [nm1002353]|[nm0019382]| 0.3333333333333333|  575.671052631579|1.523774694673645...|\n",
            "|         [nm3626959]|[nm1847621]| 0.5555555555555556| 12867.94117647059|1.269812245561371...|\n",
            "|         [nm3721804]|[nm1990182]|                0.8|3841.5512195121955|1.015849796449097E-5|\n",
            "|         [nm3721804]|[nm1984183]|                1.0|2250.0514285714285|1.269812245561371...|\n",
            "|[nm0762844, nm053...|[nm0690450]| 0.3333333333333333| 898.9931506849314|1.015849796449097E-5|\n",
            "|[nm0762844, nm053...|[nm0764762]| 0.3333333333333333| 535.7265306122448|1.015849796449097E-5|\n",
            "|[nm0762844, nm053...|[nm0623427]| 0.3333333333333333|  301.038990825688|1.015849796449097E-5|\n",
            "|[nm0623325, nm381...|[nm0706691]| 0.8571428571428571|1071.4530612244896|1.523774694673645...|\n",
            "|[nm0101558, nm015...|[nm2823350]|                0.2|           3937.59|1.269812245561371...|\n",
            "|         [nm9356360]|[nm0993416]| 0.7142857142857143|2083.3809523809523|1.269812245561371...|\n",
            "|         [nm0905268]|[nm0793675]| 0.2727272727272727|  4474.53409090909|3.047549389347291E-5|\n",
            "|         [nm0905268]|[nm0370577]|0.11363636363636363| 710.2435064935065|1.269812245561371...|\n",
            "|         [nm0905268]|[nm0442709]|0.11363636363636363| 658.0197192513368|1.269812245561371...|\n",
            "|         [nm0905268]|[nm0559385]|0.09090909090909091| 511.3753246753247|1.015849796449097E-5|\n",
            "|         [nm0905268]|[nm0847118]|0.09090909090909091| 402.2053115423902|1.015849796449097E-5|\n",
            "|         [nm0905268]|[nm1249047]|0.13636363636363635|1309.6197339246119|1.523774694673645...|\n",
            "|         [nm0905268]|[nm4440521]|0.09090909090909091| 5966.045454545455|1.015849796449097E-5|\n",
            "|[nm2719915, nm128...|[nm1770187]| 0.8571428571428571|2836.1992797118846|1.523774694673645...|\n",
            "|[nm2719915, nm128...|[nm2369538]| 0.5714285714285714|1973.7293233082705|1.015849796449097E-5|\n",
            "|[nm2719915, nm128...|[nm2077739]| 0.8571428571428571|2884.6813186813188|1.523774694673645...|\n",
            "+--------------------+-----------+-------------------+------------------+--------------------+\n",
            "only showing top 20 rows\n",
            "\n",
            "+---------+--------------------+--------------------+\n",
            "|   tconst|              actors|          prediction|\n",
            "+---------+--------------------+--------------------+\n",
            "|tt0000335|[nm1012612, nm067...|                  []|\n",
            "|tt0000630|         [nm0624446]|[nm0211158, nm018...|\n",
            "|tt0000676|[nm0140054, nm009...|[nm0647274, nm067...|\n",
            "|tt0000793|         [nm0691995]|[nm0367111, nm082...|\n",
            "|tt0000862|[nm0264569, nm528...|                  []|\n",
            "|tt0000941|[nm0034453, nm014...|[nm0222420, nm067...|\n",
            "|tt0000992|         [nm0119164]|[nm1267460, nm071...|\n",
            "|tt0001101|         [nm0923594]|                  []|\n",
            "|tt0001112|[nm0135493, nm014...|[nm1292464, nm009...|\n",
            "|tt0001115|[nm0627140, nm029...|[nm0539047, nm082...|\n",
            "|tt0001159|         [nm0597995]|[nm0098376, nm020...|\n",
            "|tt0001184|[nm0735618, nm069...|                  []|\n",
            "|tt0001358|[nm0234670, nm566...|[nm0526190, nm053...|\n",
            "|tt0001381|[nm2547818, nm052...|[nm0414716, nm069...|\n",
            "|tt0001482|[nm0524306, nm028...|[nm0537556, nm039...|\n",
            "|tt0001498|[nm0644728, nm069...|[nm0874364, nm064...|\n",
            "|tt0001531|[nm0198972, nm090...|                  []|\n",
            "|tt0001586|         [nm0681933]|[nm0060238, nm091...|\n",
            "|tt0001604|[nm0328760, nm003...|                  []|\n",
            "|tt0001706|[nm0865178, nm053...|[nm0367891, nm031...|\n",
            "+---------+--------------------+--------------------+\n",
            "only showing top 20 rows\n",
            "\n"
          ]
        }
      ]
    },
    {
      "cell_type": "code",
      "metadata": {
        "colab": {
          "base_uri": "https://localhost:8080/"
        },
        "id": "SgLWigBOkF9a",
        "outputId": "78cb1fa0-4db7-47d8-923f-6413daa15333"
      },
      "source": [
        "query = \"\"\"select items, freq\n",
        "           from mostPopularItemInABasket\n",
        "           where size(items) > 5\n",
        "           order by freq desc\n",
        "           limit 20\"\"\"\n",
        "spark.sql(query).show(5)"
      ],
      "execution_count": 30,
      "outputs": [
        {
          "output_type": "stream",
          "name": "stdout",
          "text": [
            "+--------------------+----+\n",
            "|               items|freq|\n",
            "+--------------------+----+\n",
            "|[nm2687024, nm237...|  20|\n",
            "|[nm2426685, nm207...|  17|\n",
            "|[nm2373151, nm236...|  17|\n",
            "|[nm2414317, nm207...|  16|\n",
            "|[nm0455938, nm268...|  15|\n",
            "+--------------------+----+\n",
            "only showing top 5 rows\n",
            "\n"
          ]
        }
      ]
    },
    {
      "cell_type": "code",
      "metadata": {
        "colab": {
          "base_uri": "https://localhost:8080/"
        },
        "id": "xd99wpjlkI1G",
        "outputId": "0bae112c-33b6-4f34-bf50-3b81c7ed50dd"
      },
      "source": [
        "query = \"\"\"select antecedent as `antecedent (if)`, consequent as `consequent (then)`, confidence\n",
        "           from associationRules\n",
        "           order by confidence desc\n",
        "           limit 20\"\"\"\n",
        "\n",
        "spark.sql(query).show(10)"
      ],
      "execution_count": 31,
      "outputs": [
        {
          "output_type": "stream",
          "name": "stdout",
          "text": [
            "+--------------------+-----------------+----------+\n",
            "|     antecedent (if)|consequent (then)|confidence|\n",
            "+--------------------+-----------------+----------+\n",
            "|[nm3722581, nm288...|      [nm1990182]|       1.0|\n",
            "|[nm3808706, nm288...|      [nm1984183]|       1.0|\n",
            "|[nm7096417, nm040...|      [nm2366585]|       1.0|\n",
            "|[nm1039432, nm030...|      [nm0042874]|       1.0|\n",
            "|[nm1283907, nm242...|      [nm0648803]|       1.0|\n",
            "|[nm1283907, nm242...|      [nm2373718]|       1.0|\n",
            "|         [nm6500818]|      [nm5771748]|       1.0|\n",
            "|         [nm3721804]|      [nm1984183]|       1.0|\n",
            "|[nm2762012, nm236...|      [nm0648803]|       1.0|\n",
            "|[nm2719915, nm128...|      [nm0648803]|       1.0|\n",
            "+--------------------+-----------------+----------+\n",
            "only showing top 10 rows\n",
            "\n"
          ]
        }
      ]
    },
    {
      "cell_type": "code",
      "metadata": {
        "colab": {
          "base_uri": "https://localhost:8080/"
        },
        "id": "7EpbK3Ww3L5f",
        "outputId": "5c129749-bf4f-470b-a165-24fef5b12241"
      },
      "source": [
        "name_basics.show(5)"
      ],
      "execution_count": 32,
      "outputs": [
        {
          "output_type": "stream",
          "name": "stdout",
          "text": [
            "+---------+---------------+---------+---------+--------------------+--------------------+\n",
            "|   nconst|    primaryName|birthYear|deathYear|   primaryProfession|      knownForTitles|\n",
            "+---------+---------------+---------+---------+--------------------+--------------------+\n",
            "|nm0000001|   Fred Astaire|     1899|     1987|soundtrack,actor,...|tt0050419,tt00531...|\n",
            "|nm0000002|  Lauren Bacall|     1924|     2014|  actress,soundtrack|tt0117057,tt00373...|\n",
            "|nm0000003|Brigitte Bardot|     1934|       \\N|actress,soundtrac...|tt0049189,tt00599...|\n",
            "|nm0000004|   John Belushi|     1949|     1982|actor,writer,soun...|tt0078723,tt00804...|\n",
            "|nm0000005| Ingmar Bergman|     1918|     2007|writer,director,a...|tt0050986,tt00839...|\n",
            "+---------+---------------+---------+---------+--------------------+--------------------+\n",
            "only showing top 5 rows\n",
            "\n"
          ]
        }
      ]
    },
    {
      "cell_type": "code",
      "metadata": {
        "colab": {
          "base_uri": "https://localhost:8080/"
        },
        "id": "h5x1Tuy54SYH",
        "outputId": "373477cb-631d-41c8-b128-09e5fa87454c"
      },
      "source": [
        "name_basics = name_basics.select(\"nconst\",\"primaryName\")\n",
        "name_basics.show(2)"
      ],
      "execution_count": 33,
      "outputs": [
        {
          "output_type": "stream",
          "name": "stdout",
          "text": [
            "+---------+-------------+\n",
            "|   nconst|  primaryName|\n",
            "+---------+-------------+\n",
            "|nm0000001| Fred Astaire|\n",
            "|nm0000002|Lauren Bacall|\n",
            "+---------+-------------+\n",
            "only showing top 2 rows\n",
            "\n"
          ]
        }
      ]
    },
    {
      "cell_type": "code",
      "metadata": {
        "colab": {
          "base_uri": "https://localhost:8080/"
        },
        "id": "7tntoIuTH2to",
        "outputId": "e8a568e7-36f9-4b08-f6bd-1bcb6b3bbb75"
      },
      "source": [
        "df_title.show(2)"
      ],
      "execution_count": 34,
      "outputs": [
        {
          "output_type": "stream",
          "name": "stdout",
          "text": [
            "+---------+---------+\n",
            "|   tconst|   nconst|\n",
            "+---------+---------+\n",
            "|tt0000335|nm1010955|\n",
            "|tt0000335|nm1012612|\n",
            "+---------+---------+\n",
            "only showing top 2 rows\n",
            "\n"
          ]
        }
      ]
    },
    {
      "cell_type": "code",
      "metadata": {
        "id": "KITURN-lqUDh"
      },
      "source": [
        "df_actors = name_basics.join(df_title, [\"nconst\"], 'inner')"
      ],
      "execution_count": 35,
      "outputs": []
    },
    {
      "cell_type": "code",
      "metadata": {
        "colab": {
          "base_uri": "https://localhost:8080/"
        },
        "id": "AkO1Z2oi4WnG",
        "outputId": "a319b768-09fd-4778-b256-123c8d9a551e"
      },
      "source": [
        "df_actors.show(2)"
      ],
      "execution_count": 36,
      "outputs": [
        {
          "output_type": "stream",
          "name": "stdout",
          "text": [
            "+---------+------------+---------+\n",
            "|   nconst| primaryName|   tconst|\n",
            "+---------+------------+---------+\n",
            "|nm0000004|John Belushi|tt0077621|\n",
            "|nm0000004|John Belushi|tt0077975|\n",
            "+---------+------------+---------+\n",
            "only showing top 2 rows\n",
            "\n"
          ]
        }
      ]
    },
    {
      "cell_type": "code",
      "metadata": {
        "id": "F4d1cuVSsvgA"
      },
      "source": [
        "df_actors = df_actors.select(\"tconst\",\"primaryName\")"
      ],
      "execution_count": 37,
      "outputs": []
    },
    {
      "cell_type": "code",
      "metadata": {
        "colab": {
          "base_uri": "https://localhost:8080/"
        },
        "id": "hcRw_q9ZxLwo",
        "outputId": "fff56bc5-ad53-43aa-b290-fada493b5164"
      },
      "source": [
        "df_actors.show(2)"
      ],
      "execution_count": 38,
      "outputs": [
        {
          "output_type": "stream",
          "name": "stdout",
          "text": [
            "+---------+------------+\n",
            "|   tconst| primaryName|\n",
            "+---------+------------+\n",
            "|tt0077621|John Belushi|\n",
            "|tt0077975|John Belushi|\n",
            "+---------+------------+\n",
            "only showing top 2 rows\n",
            "\n"
          ]
        }
      ]
    },
    {
      "cell_type": "code",
      "metadata": {
        "colab": {
          "base_uri": "https://localhost:8080/"
        },
        "id": "KHG8XBSzw3XK",
        "outputId": "f225b6fb-eadb-4c8c-e096-3451b648e056"
      },
      "source": [
        "baskets_ = df_actors.groupBy('tconst').agg(collect_set('primaryName').alias('actors'))\n",
        "baskets_.createOrReplaceTempView('baskets_')\n",
        "df_actors.show(5)\n",
        "baskets_.show(5)"
      ],
      "execution_count": 39,
      "outputs": [
        {
          "output_type": "stream",
          "name": "stdout",
          "text": [
            "+---------+------------+\n",
            "|   tconst| primaryName|\n",
            "+---------+------------+\n",
            "|tt0077621|John Belushi|\n",
            "|tt0077975|John Belushi|\n",
            "|tt0082200|John Belushi|\n",
            "|tt0082801|John Belushi|\n",
            "|tt0078723|John Belushi|\n",
            "+---------+------------+\n",
            "only showing top 5 rows\n",
            "\n",
            "+---------+--------------------+\n",
            "|   tconst|              actors|\n",
            "+---------+--------------------+\n",
            "|tt0000335|[John Jones, Mr. ...|\n",
            "|tt0000502|[Antonio del Pozo...|\n",
            "|tt0000630|[Fernanda Negri P...|\n",
            "|tt0000676|[Jaime Borrás, Jo...|\n",
            "|tt0000793|      [Henny Porten]|\n",
            "+---------+--------------------+\n",
            "only showing top 5 rows\n",
            "\n"
          ]
        }
      ]
    },
    {
      "cell_type": "code",
      "metadata": {
        "id": "Gfo1HI7sxUNn"
      },
      "source": [
        "fpGrowth_ = FPGrowth(itemsCol=\"actors\", minSupport=0.00001, minConfidence=0.00001)\n",
        "model_ = fpGrowth_.fit(baskets_)"
      ],
      "execution_count": 40,
      "outputs": []
    },
    {
      "cell_type": "code",
      "metadata": {
        "colab": {
          "base_uri": "https://localhost:8080/"
        },
        "id": "wc0JI9CjxXjX",
        "outputId": "921b3912-dbd2-4864-8e36-3f6ac6049e08"
      },
      "source": [
        "# Display frequent itemsets.\n",
        "mostPopularItemInABasket_ = model_.freqItemsets\n",
        "mostPopularItemInABasket_.createOrReplaceTempView(\"mostPopularItemInABasket_\")\n",
        "mostPopularItemInABasket_.show()\n",
        "\n",
        "# Display generated association rules.\n",
        "associationRules_ = model_.associationRules\n",
        "associationRules_.createOrReplaceTempView(\"associationRules_\")\n",
        "associationRules_.show()\n",
        "\n",
        "# transform examines the input items against all the association rules and summarize the consequents as prediction\n",
        "associations_ = model_.transform(baskets_)\n",
        "associations_.show()"
      ],
      "execution_count": 41,
      "outputs": [
        {
          "output_type": "stream",
          "name": "stderr",
          "text": [
            "/usr/local/lib/python3.7/dist-packages/pyspark/sql/context.py:127: FutureWarning: Deprecated in 3.0.0. Use SparkSession.builder.getOrCreate() instead.\n",
            "  FutureWarning\n"
          ]
        },
        {
          "output_type": "stream",
          "name": "stdout",
          "text": [
            "+--------------------+----+\n",
            "|               items|freq|\n",
            "+--------------------+----+\n",
            "|   [Leilani Sarelle]|   7|\n",
            "|        [Ayla Algan]|  20|\n",
            "|      [Trevor Moore]|   4|\n",
            "|[Baburao Pendharkar]|  46|\n",
            "|[Baburao Pendhark...|   8|\n",
            "|           [Wu Yung]|  10|\n",
            "|[Wu Yung, Chi-Sin...|   4|\n",
            "|[Wu Yung, Man-Lei...|   4|\n",
            "|[Wu Yung, Cho-Cho...|   4|\n",
            "|     [Ruth Donnelly]|  31|\n",
            "|[Ruth Donnelly, R...|   4|\n",
            "|      [Raf Mattioli]|   6|\n",
            "|     [Chona Delgado]|   9|\n",
            "|[Chona Delgado, D...|   5|\n",
            "|[Chona Delgado, L...|   4|\n",
            "|[Chona Delgado, L...|   4|\n",
            "|       [Juan Peláez]|  34|\n",
            "|[Juan Peláez, Jor...|   5|\n",
            "|[Juan Peláez, Ser...|   4|\n",
            "|[Juan Peláez, Bru...|   4|\n",
            "+--------------------+----+\n",
            "only showing top 20 rows\n",
            "\n",
            "+--------------------+--------------------+-------------------+------------------+--------------------+\n",
            "|          antecedent|          consequent|         confidence|              lift|             support|\n",
            "+--------------------+--------------------+-------------------+------------------+--------------------+\n",
            "|[Bhanupriya, Saty...|       [Chiranjeevi]|                0.6|1263.3914438502673|1.523782434344024...|\n",
            "|    [Zdenka Baldová]|       [Hana Vítová]|0.12121212121212122| 1109.956307258633|1.015854956229349...|\n",
            "|    [Zdenka Baldová]|  [Jindrich Plachta]|0.12121212121212122|1037.5678524374177|1.015854956229349...|\n",
            "|       [Kevin Smith]|       [Jason Mewes]| 0.2777777777777778| 3906.319444444445|1.269818695286687E-5|\n",
            "|         [Victor Bo]|      [Isabel Sarli]| 0.3333333333333333| 4375.077777777778|2.285673651516036...|\n",
            "|         [Victor Bo]|   [Julio De Grazia]| 0.3333333333333333|3860.3627450980393|2.285673651516036...|\n",
            "|         [Victor Bo]|        [Armando Bo]|0.18518518518518517|1918.8937621832358|1.269818695286687E-5|\n",
            "|         [Victor Bo]|    [Ricardo Bauleo]|0.48148148148148145| 4308.788720538721|3.301528607745386E-5|\n",
            "|   [Marjorie Benson]|     [Violet Hopson]|                1.0|7159.2181818181825|1.015854956229349...|\n",
            "|   [Marjorie Benson]|    [Arthur Walcott]|                1.0|13125.233333333334|1.015854956229349...|\n",
            "|      [Kunie Tanaka]|      [Yuriko Hoshi]|0.12658227848101267|  722.357365620987|2.539637390573374E-5|\n",
            "|      [Kunie Tanaka]|    [Kanjûrô Arashi]|0.05063291139240506|  99.6853164556962|1.015854956229349...|\n",
            "|      [Kunie Tanaka]|    [Bunta Sugawara]| 0.0759493670886076|237.34599156118142|1.523782434344024...|\n",
            "|      [Kunie Tanaka]|      [Ken Takakura]|0.12658227848101267|332.28438818565405|2.539637390573374E-5|\n",
            "|      [Kunie Tanaka]|   [Ichirô Arishima]|0.11392405063291139| 527.7457930007446|2.285673651516036...|\n",
            "|      [Kunie Tanaka]|       [Yûzô Kayama]|0.17721518987341772| 1162.995358649789|3.555492346802723E-5|\n",
            "|      [Kunie Tanaka]|      [Wakako Sakai]|0.06329113924050633|  996.853164556962|1.269818695286687E-5|\n",
            "|[Kunitake Akitsuk...|        [Jirô Azuma]|0.36363636363636365|  8422.60962566845|1.015854956229349...|\n",
            "|[Kunitake Akitsuk...|[Shozaburô Hijikata]| 0.7272727272727273|11014.181818181818|2.031709912458699...|\n",
            "|[Kunitake Akitsuk...|     [Misao Satsuki]| 0.6363636363636364| 5113.727272727273|1.777746173401361...|\n",
            "+--------------------+--------------------+-------------------+------------------+--------------------+\n",
            "only showing top 20 rows\n",
            "\n",
            "+---------+--------------------+--------------------+\n",
            "|   tconst|              actors|          prediction|\n",
            "+---------+--------------------+--------------------+\n",
            "|tt0000335|[John Jones, Mr. ...|                  []|\n",
            "|tt0000502|[Antonio del Pozo...|                  []|\n",
            "|tt0000630|[Fernanda Negri P...|[Eugenio Musso, I...|\n",
            "|tt0000676|[Jaime Borrás, Jo...|[Luisa Oliván, Bo...|\n",
            "|tt0000793|      [Henny Porten]|[Rudolf Biebrach,...|\n",
            "|tt0000862|[Kate Fabian, Hr....|                  []|\n",
            "|tt0000941|[José Durany, Jos...|[Jaime Devesa, Bo...|\n",
            "|tt0000992|     [Edith Buemann]|[Holger Reenberg,...|\n",
            "|tt0001101|   [Leopold Wharton]|                  []|\n",
            "|tt0001112|[Maria Caserini, ...|[Gian Paolo Rosmi...|\n",
            "|tt0001115|[Aage Bjørnbak, A...|[Aage Hertel, Alf...|\n",
            "|tt0001122|[Julien Clément, ...|                  []|\n",
            "|tt0001159|   [William V. Mong]|[Hobart Bosworth,...|\n",
            "|tt0001184|[Cecilio Rodrígue...|                  []|\n",
            "|tt0001230|       [Harry Carey]|[Hoot Gibson, Cha...|\n",
            "|tt0001277|[Alfred Cohn, Aag...|[Peter Malberg, P...|\n",
            "|tt0001341|[Berta Friedricho...|                  []|\n",
            "|tt0001358|[Ernst Munkeboe, ...|[Osvald Helmuth, ...|\n",
            "|tt0001370|[Carlos Santos, A...|                  []|\n",
            "|tt0001381|[Carlo Wieth, Gus...|[Oscar Nielsen, F...|\n",
            "+---------+--------------------+--------------------+\n",
            "only showing top 20 rows\n",
            "\n"
          ]
        }
      ]
    },
    {
      "cell_type": "code",
      "metadata": {
        "colab": {
          "base_uri": "https://localhost:8080/"
        },
        "id": "Qr2bES1Y0Vww",
        "outputId": "de12976c-85a0-4a0e-98ec-78f3c5e78d2b"
      },
      "source": [
        "query_ = \"\"\"select items, freq\n",
        "           from mostPopularItemInABasket_\n",
        "           where size(items) > 5\n",
        "           order by freq desc\n",
        "           limit 20\"\"\"\n",
        "spark.sql(query_).show(5)"
      ],
      "execution_count": 42,
      "outputs": [
        {
          "output_type": "stream",
          "name": "stdout",
          "text": [
            "+--------------------+----+\n",
            "|               items|freq|\n",
            "+--------------------+----+\n",
            "|[Rihaku Arashi, C...|  20|\n",
            "|[Kakumatsuro Aras...|  17|\n",
            "|[Chosei Kataoka, ...|  17|\n",
            "|[Sentarô Nakamura...|  16|\n",
            "|[Bradford Hill, J...|  15|\n",
            "+--------------------+----+\n",
            "only showing top 5 rows\n",
            "\n"
          ]
        }
      ]
    },
    {
      "cell_type": "code",
      "metadata": {
        "colab": {
          "base_uri": "https://localhost:8080/"
        },
        "id": "HUWOK9ue0c42",
        "outputId": "f7652833-1905-4dd4-e6c1-b38a9d774df7"
      },
      "source": [
        "query_ = \"\"\"select antecedent as `antecedent (if)`, consequent as `consequent (then)`, confidence\n",
        "           from associationRules_\n",
        "           order by confidence desc\n",
        "           limit 20\"\"\"\n",
        "\n",
        "spark.sql(query_).show(10)"
      ],
      "execution_count": 43,
      "outputs": [
        {
          "output_type": "stream",
          "name": "stdout",
          "text": [
            "+--------------------+--------------------+----------+\n",
            "|     antecedent (if)|   consequent (then)|confidence|\n",
            "+--------------------+--------------------+----------+\n",
            "|      [Rafael Solis]|       [Luis Huizar]|       1.0|\n",
            "|[Penny Edwards, T...|        [Roy Rogers]|       1.0|\n",
            "|[Rolly Quizon, De...|       [Nida Blanca]|       1.0|\n",
            "|   [Marjorie Benson]|     [Violet Hopson]|       1.0|\n",
            "|[Rolly Quizon, De...|            [Dolphy]|       1.0|\n",
            "|[Angela Perkins, ...|[April Melody Rox...|       1.0|\n",
            "|[Utako Suzuki, Ky...|  [Kôichi Katsuragi]|       1.0|\n",
            "|[Bradford Hill, M...|     [David Gerrold]|       1.0|\n",
            "|[Keisha, Rick Sav...|   [Caroline Laurie]|       1.0|\n",
            "|[Matutina, Dely A...|      [Rolly Quizon]|       1.0|\n",
            "+--------------------+--------------------+----------+\n",
            "only showing top 10 rows\n",
            "\n"
          ]
        }
      ]
    },
    {
      "cell_type": "code",
      "metadata": {
        "id": "RHbevPBN0pkR"
      },
      "source": [
        "#from pyspark.sql import functions as F\n",
        "#transactions= name_basics.groupby(\"nconst\").agg(F.collect_list(\"primaryName\").alias('actor_name'), F.collect_list(\"nconst\").alias('actor_id'))\n",
        "#transactions.show()"
      ],
      "execution_count": 44,
      "outputs": []
    },
    {
      "cell_type": "code",
      "metadata": {
        "id": "kdSkdt9R1TXt"
      },
      "source": [
        ""
      ],
      "execution_count": 44,
      "outputs": []
    },
    {
      "cell_type": "markdown",
      "metadata": {
        "id": "sjPra9wW4_rQ"
      },
      "source": [
        "---"
      ]
    },
    {
      "cell_type": "markdown",
      "metadata": {
        "id": "qxYrYYFI8BaG"
      },
      "source": [
        "# **A-PRIORI ALGORITHM**\n",
        "We implement an A-priori Algorithm from scratch.\n",
        "\n",
        "The function takes as input a Resilient Distributed Dataset (RDD) and a threshold."
      ]
    },
    {
      "cell_type": "code",
      "metadata": {
        "id": "yYMltL7z4_Nw"
      },
      "source": [
        "conf = SparkConf().setAppName(\"mba\")\n",
        "spark = SparkSession.builder.enableHiveSupport().config(conf = conf).getOrCreate()\n",
        "sc = spark.sparkContext\n",
        "# Spark Context \n",
        "# Also extra coniguration can be added \n",
        "#sc = SparkContext(\"local\" , \"Apriori\")"
      ],
      "execution_count": 45,
      "outputs": []
    },
    {
      "cell_type": "code",
      "metadata": {
        "id": "EFO_SwCW7ALg"
      },
      "source": [
        "from itertools import combinations, product\n",
        "import pandas as pd\n",
        "import matplotlib.pyplot as plt\n",
        "import collections\n",
        "import time"
      ],
      "execution_count": 46,
      "outputs": []
    },
    {
      "cell_type": "markdown",
      "metadata": {
        "id": "UWSw2sf99nFA"
      },
      "source": [
        "First of all, we create a list of baskets of actors and then we parallelize the list in RDD."
      ]
    },
    {
      "cell_type": "code",
      "metadata": {
        "colab": {
          "base_uri": "https://localhost:8080/"
        },
        "id": "UPNTG95b9lge",
        "outputId": "06caba7e-6cb4-499c-af8a-4926a898a266"
      },
      "source": [
        "baskets_actors = baskets.select('actors').rdd.flatMap(list) \n",
        "baskets_actors = sc.parallelize(baskets_actors.collect())\n",
        "print(baskets_actors.collect()[:3])"
      ],
      "execution_count": 49,
      "outputs": [
        {
          "output_type": "stream",
          "name": "stdout",
          "text": [
            "[['nm1012612', 'nm0675260', 'nm1012621', 'nm1010955', 'nm0675239', 'nm1011210'], ['nm0624446'], ['nm0140054', 'nm0097421']]\n"
          ]
        }
      ]
    },
    {
      "cell_type": "code",
      "metadata": {
        "colab": {
          "base_uri": "https://localhost:8080/"
        },
        "id": "8nwD3au8BNgt",
        "outputId": "00b4ae88-6726-4b4b-e34d-40967fde592e"
      },
      "source": [
        "baskets_actors.getNumPartitions() "
      ],
      "execution_count": 50,
      "outputs": [
        {
          "output_type": "execute_result",
          "data": {
            "text/plain": [
              "2"
            ]
          },
          "metadata": {},
          "execution_count": 50
        }
      ]
    },
    {
      "cell_type": "markdown",
      "metadata": {
        "id": "cxLsDjN875nH"
      },
      "source": [
        " We first define a function that generates singletons from an RDD of couples, triples etc. and returns the singletons and their occurrencies"
      ]
    },
    {
      "cell_type": "code",
      "metadata": {
        "id": "iBsbQo5X5CCo"
      },
      "source": [
        "def create_singletons(rdd): \n",
        "  #generates a list of actors, map them to 1 to initialize the counter for each \n",
        "  #actor and update the counter for every occurrence\n",
        "  singletons = rdd.flatMap(list) \\\n",
        "                  .map(lambda item: (item, 1)) \\\n",
        "                  .reduceByKey(lambda x, y: x+y)\n",
        "  return(singletons)"
      ],
      "execution_count": 51,
      "outputs": []
    },
    {
      "cell_type": "code",
      "metadata": {
        "id": "92tvLs1f7PGy"
      },
      "source": [
        "#define a function that takes an rdd (items) containing the result of the \n",
        "#function apriori at step i-1, and the index i which indicates the size of the \n",
        "#combinations of actors (starts from i=3 for triples and so on). The function\n",
        "#generates the singletons from \"items\" and evaluate the carthesian product \n",
        "#between \"items\" and the singletons.\n",
        "#returns the combinations which have size = i removing every possible permutation\n",
        "\n",
        "def new_combinations(items, i):\n",
        "  #removes the counter from each item. each item in items is in the form \n",
        "  #example: ((actor1, actor2),2)\n",
        "  items = items.map(lambda item: list(item[0])) \n",
        "  #generate singletons from each item in items\n",
        "  singleton = create_singletons(items).map(lambda item: [item[0]]) \n",
        "  #initialize an empty list that will contain the new possible combinations\n",
        "  items_set = [] \n",
        "  #for cicle generates the new combinations using the carthesian product between \n",
        "  #items and singletons. the result will be like [[item],[singleton]]\n",
        "  for comb in list(product(items.toLocalIterator(), singleton.toLocalIterator())): \n",
        "    #merges the two lists into a \"new item\" with form \"new item\"=[item, singleton]\n",
        "    comb = comb[0]+comb[1] \n",
        "    #takes the set of each combination and orders it to prevent permutations to\n",
        "    #be counted as different item and to remove the repetitions of actors\n",
        "    comb_set = sorted(set().union(comb))\n",
        "    #if the set have size == i and was not already included in items_set\n",
        "    #then it is added to items_set\n",
        "    if (len(comb_set) == i) and comb_set not in items_set: \n",
        "        items_set.append(comb_set) #popoliamo items_set\n",
        "  return(items_set)"
      ],
      "execution_count": 52,
      "outputs": []
    },
    {
      "cell_type": "code",
      "metadata": {
        "id": "VEU3EbAT7Rrj"
      },
      "source": [
        "#define the apriori function, takes as parameters an rdd of baskets (just the \n",
        "#actors) and the minumum support (threshold) to evaluate the frequent pairs, \n",
        "#triples etc. \n",
        "#returns an rdd (support) containing all the frequent items and their occurrencies\n",
        "\n",
        "def apriori(actor_baskets, threshold): \n",
        "  #generate singletons \n",
        "  singleton = create_singletons(actor_baskets) \\\n",
        "              .filter(lambda item: item[1] >= threshold) \\\n",
        "              .map(lambda item: (item[0])) \n",
        "  #find the possible pairs            \n",
        "  possible_combinations = list(combinations(singleton.toLocalIterator(),2)) \n",
        "  #initialize support as empty rdd\n",
        "  support = sc.parallelize([]) \n",
        "  #cache the rdd for better perfomance, it is reused multiple times\n",
        "  actor_baskets.cache()\n",
        "  i=3 #starts at 3 since we already found the pairs\n",
        "  #cicles until possible combinations are found\n",
        "  while len(possible_combinations)>0: \n",
        "    #chek whether the possible items are frequent in the dataset\n",
        "    frequent_items = actor_baskets.flatMap(lambda cast: [(tuple(item), 1) for item in possible_combinations if set(list(item)).issubset(set(cast))]) \\\n",
        "                    .reduceByKey(lambda x, y: x+y) \\\n",
        "                    .filter(lambda item: item[1] >= threshold)\n",
        "    #add the frequent items and their occurrencies to support rdd\n",
        "    support = support.union(frequent_items) \n",
        "    #generates new items from the last frequent items found using the function defined above\n",
        "    possible_combinations = new_combinations(frequent_items, i) \n",
        "    #increment i\n",
        "    i += 1  \n",
        "    \n",
        "  #remove actor_baskets from cache\n",
        "  actor_baskets.unpersist()\n",
        "  return (support)"
      ],
      "execution_count": 53,
      "outputs": []
    },
    {
      "cell_type": "code",
      "metadata": {
        "colab": {
          "base_uri": "https://localhost:8080/"
        },
        "id": "yiRdvCwx7Ukm",
        "outputId": "035aeb97-8b6c-4852-c5cc-bbfdcbc3eeb4"
      },
      "source": [
        "#compute the Minimum Support using 0.0003 as fraction of the number of baskets\n",
        "#in order for pairs, triple etc. to be considered frequent \n",
        "count = baskets_actors.count()\n",
        "threshold = count*0.0003\n",
        "print(count, threshold)"
      ],
      "execution_count": 55,
      "outputs": [
        {
          "output_type": "stream",
          "name": "stdout",
          "text": [
            "393759 118.12769999999999\n"
          ]
        }
      ]
    },
    {
      "cell_type": "code",
      "metadata": {
        "id": "P0km4GJ2DhYG"
      },
      "source": [
        "#Output of A-Priori on all baskets with 118 as minimum support\n",
        "print(apriori(baskets_actors, threshold).collect())"
      ],
      "execution_count": null,
      "outputs": []
    },
    {
      "cell_type": "code",
      "metadata": {
        "id": "5qhOIarhDsvk"
      },
      "source": [
        ""
      ],
      "execution_count": null,
      "outputs": []
    }
  ]
}