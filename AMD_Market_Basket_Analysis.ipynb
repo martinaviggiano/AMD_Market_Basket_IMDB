{
  "nbformat": 4,
  "nbformat_minor": 0,
  "metadata": {
    "colab": {
      "name": "AMD_Market_Basket_Analysis.ipynb",
      "provenance": [],
      "collapsed_sections": []
    },
    "kernelspec": {
      "name": "python3",
      "display_name": "Python 3"
    },
    "language_info": {
      "name": "python"
    }
  },
  "cells": [
    {
      "cell_type": "markdown",
      "metadata": {
        "id": "zreQsiNF-x2n"
      },
      "source": [
        "[![Open In Colab](https://colab.research.google.com/assets/colab-badge.svg)](https://colab.research.google.com/drive/1SbDOPBlUkx2FbuuVF-s6xeTEs2jvG5n7#scrollTo=4XzVHCtt9wVf)"
      ]
    },
    {
      "cell_type": "markdown",
      "metadata": {
        "id": "msXVLv8PwO5z"
      },
      "source": [
        "# **MARKET BASKET ANALYSIS ON IMBD DATASET**\n",
        "## Algorithms for Massive Datasets Project\n",
        "\n",
        "In this project we will implement A-priori and FP-growth algorithms to in order to find frequent itemsets. In this case, we used the kaggle [IMDB Dataset](https://www.kaggle.com/ashirwadsangwan/imdb-dataset), in which we considered movies as baskets and actors as items."
      ]
    },
    {
      "cell_type": "markdown",
      "metadata": {
        "id": "X5B7jZH-jrFI"
      },
      "source": [
        "----\n",
        "\n",
        "Summary:\n",
        "\n",
        "1.   Imports\n",
        "2.   Pre-Processing\n",
        "3.   Market Basket Analysis\n",
        "\n",
        "\n",
        "\n",
        "\n",
        "\n",
        "\n",
        "\n"
      ]
    },
    {
      "cell_type": "markdown",
      "metadata": {
        "id": "2cnBq7RKjnxH"
      },
      "source": [
        "## **1. Imports**"
      ]
    },
    {
      "cell_type": "markdown",
      "metadata": {
        "id": "cUiUNYbjZxYL"
      },
      "source": [
        "Importing kaggle."
      ]
    },
    {
      "cell_type": "code",
      "metadata": {
        "id": "vIpNOJWqzjUH"
      },
      "source": [
        "!pip install -q kaggle"
      ],
      "execution_count": 1,
      "outputs": []
    },
    {
      "cell_type": "code",
      "metadata": {
        "colab": {
          "resources": {
            "http://localhost:8080/nbextensions/google.colab/files.js": {
              "data": "Ly8gQ29weXJpZ2h0IDIwMTcgR29vZ2xlIExMQwovLwovLyBMaWNlbnNlZCB1bmRlciB0aGUgQXBhY2hlIExpY2Vuc2UsIFZlcnNpb24gMi4wICh0aGUgIkxpY2Vuc2UiKTsKLy8geW91IG1heSBub3QgdXNlIHRoaXMgZmlsZSBleGNlcHQgaW4gY29tcGxpYW5jZSB3aXRoIHRoZSBMaWNlbnNlLgovLyBZb3UgbWF5IG9idGFpbiBhIGNvcHkgb2YgdGhlIExpY2Vuc2UgYXQKLy8KLy8gICAgICBodHRwOi8vd3d3LmFwYWNoZS5vcmcvbGljZW5zZXMvTElDRU5TRS0yLjAKLy8KLy8gVW5sZXNzIHJlcXVpcmVkIGJ5IGFwcGxpY2FibGUgbGF3IG9yIGFncmVlZCB0byBpbiB3cml0aW5nLCBzb2Z0d2FyZQovLyBkaXN0cmlidXRlZCB1bmRlciB0aGUgTGljZW5zZSBpcyBkaXN0cmlidXRlZCBvbiBhbiAiQVMgSVMiIEJBU0lTLAovLyBXSVRIT1VUIFdBUlJBTlRJRVMgT1IgQ09ORElUSU9OUyBPRiBBTlkgS0lORCwgZWl0aGVyIGV4cHJlc3Mgb3IgaW1wbGllZC4KLy8gU2VlIHRoZSBMaWNlbnNlIGZvciB0aGUgc3BlY2lmaWMgbGFuZ3VhZ2UgZ292ZXJuaW5nIHBlcm1pc3Npb25zIGFuZAovLyBsaW1pdGF0aW9ucyB1bmRlciB0aGUgTGljZW5zZS4KCi8qKgogKiBAZmlsZW92ZXJ2aWV3IEhlbHBlcnMgZm9yIGdvb2dsZS5jb2xhYiBQeXRob24gbW9kdWxlLgogKi8KKGZ1bmN0aW9uKHNjb3BlKSB7CmZ1bmN0aW9uIHNwYW4odGV4dCwgc3R5bGVBdHRyaWJ1dGVzID0ge30pIHsKICBjb25zdCBlbGVtZW50ID0gZG9jdW1lbnQuY3JlYXRlRWxlbWVudCgnc3BhbicpOwogIGVsZW1lbnQudGV4dENvbnRlbnQgPSB0ZXh0OwogIGZvciAoY29uc3Qga2V5IG9mIE9iamVjdC5rZXlzKHN0eWxlQXR0cmlidXRlcykpIHsKICAgIGVsZW1lbnQuc3R5bGVba2V5XSA9IHN0eWxlQXR0cmlidXRlc1trZXldOwogIH0KICByZXR1cm4gZWxlbWVudDsKfQoKLy8gTWF4IG51bWJlciBvZiBieXRlcyB3aGljaCB3aWxsIGJlIHVwbG9hZGVkIGF0IGEgdGltZS4KY29uc3QgTUFYX1BBWUxPQURfU0laRSA9IDEwMCAqIDEwMjQ7CgpmdW5jdGlvbiBfdXBsb2FkRmlsZXMoaW5wdXRJZCwgb3V0cHV0SWQpIHsKICBjb25zdCBzdGVwcyA9IHVwbG9hZEZpbGVzU3RlcChpbnB1dElkLCBvdXRwdXRJZCk7CiAgY29uc3Qgb3V0cHV0RWxlbWVudCA9IGRvY3VtZW50LmdldEVsZW1lbnRCeUlkKG91dHB1dElkKTsKICAvLyBDYWNoZSBzdGVwcyBvbiB0aGUgb3V0cHV0RWxlbWVudCB0byBtYWtlIGl0IGF2YWlsYWJsZSBmb3IgdGhlIG5leHQgY2FsbAogIC8vIHRvIHVwbG9hZEZpbGVzQ29udGludWUgZnJvbSBQeXRob24uCiAgb3V0cHV0RWxlbWVudC5zdGVwcyA9IHN0ZXBzOwoKICByZXR1cm4gX3VwbG9hZEZpbGVzQ29udGludWUob3V0cHV0SWQpOwp9CgovLyBUaGlzIGlzIHJvdWdobHkgYW4gYXN5bmMgZ2VuZXJhdG9yIChub3Qgc3VwcG9ydGVkIGluIHRoZSBicm93c2VyIHlldCksCi8vIHdoZXJlIHRoZXJlIGFyZSBtdWx0aXBsZSBhc3luY2hyb25vdXMgc3RlcHMgYW5kIHRoZSBQeXRob24gc2lkZSBpcyBnb2luZwovLyB0byBwb2xsIGZvciBjb21wbGV0aW9uIG9mIGVhY2ggc3RlcC4KLy8gVGhpcyB1c2VzIGEgUHJvbWlzZSB0byBibG9jayB0aGUgcHl0aG9uIHNpZGUgb24gY29tcGxldGlvbiBvZiBlYWNoIHN0ZXAsCi8vIHRoZW4gcGFzc2VzIHRoZSByZXN1bHQgb2YgdGhlIHByZXZpb3VzIHN0ZXAgYXMgdGhlIGlucHV0IHRvIHRoZSBuZXh0IHN0ZXAuCmZ1bmN0aW9uIF91cGxvYWRGaWxlc0NvbnRpbnVlKG91dHB1dElkKSB7CiAgY29uc3Qgb3V0cHV0RWxlbWVudCA9IGRvY3VtZW50LmdldEVsZW1lbnRCeUlkKG91dHB1dElkKTsKICBjb25zdCBzdGVwcyA9IG91dHB1dEVsZW1lbnQuc3RlcHM7CgogIGNvbnN0IG5leHQgPSBzdGVwcy5uZXh0KG91dHB1dEVsZW1lbnQubGFzdFByb21pc2VWYWx1ZSk7CiAgcmV0dXJuIFByb21pc2UucmVzb2x2ZShuZXh0LnZhbHVlLnByb21pc2UpLnRoZW4oKHZhbHVlKSA9PiB7CiAgICAvLyBDYWNoZSB0aGUgbGFzdCBwcm9taXNlIHZhbHVlIHRvIG1ha2UgaXQgYXZhaWxhYmxlIHRvIHRoZSBuZXh0CiAgICAvLyBzdGVwIG9mIHRoZSBnZW5lcmF0b3IuCiAgICBvdXRwdXRFbGVtZW50Lmxhc3RQcm9taXNlVmFsdWUgPSB2YWx1ZTsKICAgIHJldHVybiBuZXh0LnZhbHVlLnJlc3BvbnNlOwogIH0pOwp9CgovKioKICogR2VuZXJhdG9yIGZ1bmN0aW9uIHdoaWNoIGlzIGNhbGxlZCBiZXR3ZWVuIGVhY2ggYXN5bmMgc3RlcCBvZiB0aGUgdXBsb2FkCiAqIHByb2Nlc3MuCiAqIEBwYXJhbSB7c3RyaW5nfSBpbnB1dElkIEVsZW1lbnQgSUQgb2YgdGhlIGlucHV0IGZpbGUgcGlja2VyIGVsZW1lbnQuCiAqIEBwYXJhbSB7c3RyaW5nfSBvdXRwdXRJZCBFbGVtZW50IElEIG9mIHRoZSBvdXRwdXQgZGlzcGxheS4KICogQHJldHVybiB7IUl0ZXJhYmxlPCFPYmplY3Q+fSBJdGVyYWJsZSBvZiBuZXh0IHN0ZXBzLgogKi8KZnVuY3Rpb24qIHVwbG9hZEZpbGVzU3RlcChpbnB1dElkLCBvdXRwdXRJZCkgewogIGNvbnN0IGlucHV0RWxlbWVudCA9IGRvY3VtZW50LmdldEVsZW1lbnRCeUlkKGlucHV0SWQpOwogIGlucHV0RWxlbWVudC5kaXNhYmxlZCA9IGZhbHNlOwoKICBjb25zdCBvdXRwdXRFbGVtZW50ID0gZG9jdW1lbnQuZ2V0RWxlbWVudEJ5SWQob3V0cHV0SWQpOwogIG91dHB1dEVsZW1lbnQuaW5uZXJIVE1MID0gJyc7CgogIGNvbnN0IHBpY2tlZFByb21pc2UgPSBuZXcgUHJvbWlzZSgocmVzb2x2ZSkgPT4gewogICAgaW5wdXRFbGVtZW50LmFkZEV2ZW50TGlzdGVuZXIoJ2NoYW5nZScsIChlKSA9PiB7CiAgICAgIHJlc29sdmUoZS50YXJnZXQuZmlsZXMpOwogICAgfSk7CiAgfSk7CgogIGNvbnN0IGNhbmNlbCA9IGRvY3VtZW50LmNyZWF0ZUVsZW1lbnQoJ2J1dHRvbicpOwogIGlucHV0RWxlbWVudC5wYXJlbnRFbGVtZW50LmFwcGVuZENoaWxkKGNhbmNlbCk7CiAgY2FuY2VsLnRleHRDb250ZW50ID0gJ0NhbmNlbCB1cGxvYWQnOwogIGNvbnN0IGNhbmNlbFByb21pc2UgPSBuZXcgUHJvbWlzZSgocmVzb2x2ZSkgPT4gewogICAgY2FuY2VsLm9uY2xpY2sgPSAoKSA9PiB7CiAgICAgIHJlc29sdmUobnVsbCk7CiAgICB9OwogIH0pOwoKICAvLyBXYWl0IGZvciB0aGUgdXNlciB0byBwaWNrIHRoZSBmaWxlcy4KICBjb25zdCBmaWxlcyA9IHlpZWxkIHsKICAgIHByb21pc2U6IFByb21pc2UucmFjZShbcGlja2VkUHJvbWlzZSwgY2FuY2VsUHJvbWlzZV0pLAogICAgcmVzcG9uc2U6IHsKICAgICAgYWN0aW9uOiAnc3RhcnRpbmcnLAogICAgfQogIH07CgogIGNhbmNlbC5yZW1vdmUoKTsKCiAgLy8gRGlzYWJsZSB0aGUgaW5wdXQgZWxlbWVudCBzaW5jZSBmdXJ0aGVyIHBpY2tzIGFyZSBub3QgYWxsb3dlZC4KICBpbnB1dEVsZW1lbnQuZGlzYWJsZWQgPSB0cnVlOwoKICBpZiAoIWZpbGVzKSB7CiAgICByZXR1cm4gewogICAgICByZXNwb25zZTogewogICAgICAgIGFjdGlvbjogJ2NvbXBsZXRlJywKICAgICAgfQogICAgfTsKICB9CgogIGZvciAoY29uc3QgZmlsZSBvZiBmaWxlcykgewogICAgY29uc3QgbGkgPSBkb2N1bWVudC5jcmVhdGVFbGVtZW50KCdsaScpOwogICAgbGkuYXBwZW5kKHNwYW4oZmlsZS5uYW1lLCB7Zm9udFdlaWdodDogJ2JvbGQnfSkpOwogICAgbGkuYXBwZW5kKHNwYW4oCiAgICAgICAgYCgke2ZpbGUudHlwZSB8fCAnbi9hJ30pIC0gJHtmaWxlLnNpemV9IGJ5dGVzLCBgICsKICAgICAgICBgbGFzdCBtb2RpZmllZDogJHsKICAgICAgICAgICAgZmlsZS5sYXN0TW9kaWZpZWREYXRlID8gZmlsZS5sYXN0TW9kaWZpZWREYXRlLnRvTG9jYWxlRGF0ZVN0cmluZygpIDoKICAgICAgICAgICAgICAgICAgICAgICAgICAgICAgICAgICAgJ24vYSd9IC0gYCkpOwogICAgY29uc3QgcGVyY2VudCA9IHNwYW4oJzAlIGRvbmUnKTsKICAgIGxpLmFwcGVuZENoaWxkKHBlcmNlbnQpOwoKICAgIG91dHB1dEVsZW1lbnQuYXBwZW5kQ2hpbGQobGkpOwoKICAgIGNvbnN0IGZpbGVEYXRhUHJvbWlzZSA9IG5ldyBQcm9taXNlKChyZXNvbHZlKSA9PiB7CiAgICAgIGNvbnN0IHJlYWRlciA9IG5ldyBGaWxlUmVhZGVyKCk7CiAgICAgIHJlYWRlci5vbmxvYWQgPSAoZSkgPT4gewogICAgICAgIHJlc29sdmUoZS50YXJnZXQucmVzdWx0KTsKICAgICAgfTsKICAgICAgcmVhZGVyLnJlYWRBc0FycmF5QnVmZmVyKGZpbGUpOwogICAgfSk7CiAgICAvLyBXYWl0IGZvciB0aGUgZGF0YSB0byBiZSByZWFkeS4KICAgIGxldCBmaWxlRGF0YSA9IHlpZWxkIHsKICAgICAgcHJvbWlzZTogZmlsZURhdGFQcm9taXNlLAogICAgICByZXNwb25zZTogewogICAgICAgIGFjdGlvbjogJ2NvbnRpbnVlJywKICAgICAgfQogICAgfTsKCiAgICAvLyBVc2UgYSBjaHVua2VkIHNlbmRpbmcgdG8gYXZvaWQgbWVzc2FnZSBzaXplIGxpbWl0cy4gU2VlIGIvNjIxMTU2NjAuCiAgICBsZXQgcG9zaXRpb24gPSAwOwogICAgZG8gewogICAgICBjb25zdCBsZW5ndGggPSBNYXRoLm1pbihmaWxlRGF0YS5ieXRlTGVuZ3RoIC0gcG9zaXRpb24sIE1BWF9QQVlMT0FEX1NJWkUpOwogICAgICBjb25zdCBjaHVuayA9IG5ldyBVaW50OEFycmF5KGZpbGVEYXRhLCBwb3NpdGlvbiwgbGVuZ3RoKTsKICAgICAgcG9zaXRpb24gKz0gbGVuZ3RoOwoKICAgICAgY29uc3QgYmFzZTY0ID0gYnRvYShTdHJpbmcuZnJvbUNoYXJDb2RlLmFwcGx5KG51bGwsIGNodW5rKSk7CiAgICAgIHlpZWxkIHsKICAgICAgICByZXNwb25zZTogewogICAgICAgICAgYWN0aW9uOiAnYXBwZW5kJywKICAgICAgICAgIGZpbGU6IGZpbGUubmFtZSwKICAgICAgICAgIGRhdGE6IGJhc2U2NCwKICAgICAgICB9LAogICAgICB9OwoKICAgICAgbGV0IHBlcmNlbnREb25lID0gZmlsZURhdGEuYnl0ZUxlbmd0aCA9PT0gMCA/CiAgICAgICAgICAxMDAgOgogICAgICAgICAgTWF0aC5yb3VuZCgocG9zaXRpb24gLyBmaWxlRGF0YS5ieXRlTGVuZ3RoKSAqIDEwMCk7CiAgICAgIHBlcmNlbnQudGV4dENvbnRlbnQgPSBgJHtwZXJjZW50RG9uZX0lIGRvbmVgOwoKICAgIH0gd2hpbGUgKHBvc2l0aW9uIDwgZmlsZURhdGEuYnl0ZUxlbmd0aCk7CiAgfQoKICAvLyBBbGwgZG9uZS4KICB5aWVsZCB7CiAgICByZXNwb25zZTogewogICAgICBhY3Rpb246ICdjb21wbGV0ZScsCiAgICB9CiAgfTsKfQoKc2NvcGUuZ29vZ2xlID0gc2NvcGUuZ29vZ2xlIHx8IHt9OwpzY29wZS5nb29nbGUuY29sYWIgPSBzY29wZS5nb29nbGUuY29sYWIgfHwge307CnNjb3BlLmdvb2dsZS5jb2xhYi5fZmlsZXMgPSB7CiAgX3VwbG9hZEZpbGVzLAogIF91cGxvYWRGaWxlc0NvbnRpbnVlLAp9Owp9KShzZWxmKTsK",
              "ok": true,
              "headers": [
                [
                  "content-type",
                  "application/javascript"
                ]
              ],
              "status": 200,
              "status_text": ""
            }
          },
          "base_uri": "https://localhost:8080/",
          "height": 90
        },
        "id": "0__NgmMkdAar",
        "outputId": "667ce379-512d-49b3-8e4a-9b61b7f07800"
      },
      "source": [
        "from google.colab import files\n",
        "files.upload()"
      ],
      "execution_count": 2,
      "outputs": [
        {
          "output_type": "display_data",
          "data": {
            "text/html": [
              "\n",
              "     <input type=\"file\" id=\"files-e1cd0fb8-1d9f-43bd-8435-e7d3f763145c\" name=\"files[]\" multiple disabled\n",
              "        style=\"border:none\" />\n",
              "     <output id=\"result-e1cd0fb8-1d9f-43bd-8435-e7d3f763145c\">\n",
              "      Upload widget is only available when the cell has been executed in the\n",
              "      current browser session. Please rerun this cell to enable.\n",
              "      </output>\n",
              "      <script src=\"/nbextensions/google.colab/files.js\"></script> "
            ],
            "text/plain": [
              "<IPython.core.display.HTML object>"
            ]
          },
          "metadata": {}
        },
        {
          "output_type": "stream",
          "name": "stdout",
          "text": [
            "Saving kaggle.json to kaggle.json\n"
          ]
        },
        {
          "output_type": "execute_result",
          "data": {
            "text/plain": [
              "{'kaggle.json': b'{\"username\":\"martinaviggiano\",\"key\":\"53a50dae23b35b3c81b9063b6c417e93\"}'}"
            ]
          },
          "metadata": {},
          "execution_count": 2
        }
      ]
    },
    {
      "cell_type": "code",
      "metadata": {
        "colab": {
          "base_uri": "https://localhost:8080/"
        },
        "id": "zsNHprlzuK6i",
        "outputId": "a35f0a3b-340a-445d-9934-be15c8b95ef9"
      },
      "source": [
        "from google.colab import drive\n",
        "drive.mount('/content/drive')"
      ],
      "execution_count": 3,
      "outputs": [
        {
          "output_type": "stream",
          "name": "stdout",
          "text": [
            "Mounted at /content/drive\n"
          ]
        }
      ]
    },
    {
      "cell_type": "code",
      "metadata": {
        "id": "2h9ho1WWyVoK"
      },
      "source": [
        "!pip install -q kaggle\n",
        "!mkdir -p ~/.kaggle\n",
        "!cp kaggle.json ~/.kaggle/\n",
        "!chmod 600 ~/.kaggle/kaggle.json"
      ],
      "execution_count": 4,
      "outputs": []
    },
    {
      "cell_type": "markdown",
      "metadata": {
        "id": "-tJO_FB_Z1yg"
      },
      "source": [
        "Importing imdb-dataset data."
      ]
    },
    {
      "cell_type": "code",
      "metadata": {
        "colab": {
          "base_uri": "https://localhost:8080/"
        },
        "id": "ATu-IXLtcH8E",
        "outputId": "54b466f6-fbb4-4612-a8c8-90933352f6b3"
      },
      "source": [
        "!kaggle datasets download -d ashirwadsangwan/imdb-dataset"
      ],
      "execution_count": 5,
      "outputs": [
        {
          "output_type": "stream",
          "name": "stdout",
          "text": [
            "Downloading imdb-dataset.zip to /content\n",
            "100% 1.44G/1.44G [00:37<00:00, 36.1MB/s]\n",
            "100% 1.44G/1.44G [00:37<00:00, 41.6MB/s]\n"
          ]
        }
      ]
    },
    {
      "cell_type": "code",
      "metadata": {
        "colab": {
          "base_uri": "https://localhost:8080/"
        },
        "id": "DrOo9X470XhM",
        "outputId": "edad6a86-b0f9-4bd4-bcca-1fd54d9338d1"
      },
      "source": [
        "!unzip imdb-dataset.zip"
      ],
      "execution_count": 6,
      "outputs": [
        {
          "output_type": "stream",
          "name": "stdout",
          "text": [
            "Archive:  imdb-dataset.zip\n",
            "  inflating: name.basics.tsv.gz      \n",
            "  inflating: name.basics.tsv/name.basics.tsv  \n",
            "  inflating: title.akas.tsv.gz       \n",
            "  inflating: title.akas.tsv/title.akas.tsv  \n",
            "  inflating: title.basics.tsv.gz     \n",
            "  inflating: title.basics.tsv/title.basics.tsv  \n",
            "  inflating: title.principals.tsv.gz  \n",
            "  inflating: title.principals.tsv/title.principals.tsv  \n",
            "  inflating: title.ratings.tsv.gz    \n",
            "  inflating: title.ratings.tsv/title.ratings.tsv  \n"
          ]
        }
      ]
    },
    {
      "cell_type": "markdown",
      "metadata": {
        "id": "RXZTtMpSjcbx"
      },
      "source": [
        "## **2. Pre-processing**"
      ]
    },
    {
      "cell_type": "markdown",
      "metadata": {
        "id": "ybMLsuo0jilP"
      },
      "source": [
        "We will consider movies as baskets and actors as items.\n"
      ]
    },
    {
      "cell_type": "code",
      "metadata": {
        "colab": {
          "base_uri": "https://localhost:8080/"
        },
        "id": "8THQYAsT7XjU",
        "outputId": "2adf1c54-1100-4df3-b921-90fa1cfeb979"
      },
      "source": [
        "!pip install pyspark"
      ],
      "execution_count": 7,
      "outputs": [
        {
          "output_type": "stream",
          "name": "stdout",
          "text": [
            "Collecting pyspark\n",
            "  Downloading pyspark-3.2.0.tar.gz (281.3 MB)\n",
            "\u001b[K     |████████████████████████████████| 281.3 MB 8.7 kB/s \n",
            "\u001b[?25hCollecting py4j==0.10.9.2\n",
            "  Downloading py4j-0.10.9.2-py2.py3-none-any.whl (198 kB)\n",
            "\u001b[K     |████████████████████████████████| 198 kB 44.8 MB/s \n",
            "\u001b[?25hBuilding wheels for collected packages: pyspark\n",
            "  Building wheel for pyspark (setup.py) ... \u001b[?25l\u001b[?25hdone\n",
            "  Created wheel for pyspark: filename=pyspark-3.2.0-py2.py3-none-any.whl size=281805912 sha256=30d805ef614931d0de8e7923065f96da11f4c7ddbc2a80386fe3809352d492a0\n",
            "  Stored in directory: /root/.cache/pip/wheels/0b/de/d2/9be5d59d7331c6c2a7c1b6d1a4f463ce107332b1ecd4e80718\n",
            "Successfully built pyspark\n",
            "Installing collected packages: py4j, pyspark\n",
            "Successfully installed py4j-0.10.9.2 pyspark-3.2.0\n"
          ]
        }
      ]
    },
    {
      "cell_type": "code",
      "metadata": {
        "id": "jF-QssAEY1_H"
      },
      "source": [
        "from pyspark.sql import SparkSession\n",
        "from pyspark import SparkConf, SparkContext\n",
        "from pyspark.sql.functions import collect_set, col, count, avg\n",
        "from pyspark.ml.fpm import FPGrowth\n",
        "import pandas as pd\n",
        "import pickle\n",
        "import time\n",
        "from tqdm import tqdm\n",
        "import itertools\n",
        "from itertools import combinations, product\n",
        "import matplotlib.pyplot as plt\n",
        "import collections"
      ],
      "execution_count": 8,
      "outputs": []
    },
    {
      "cell_type": "code",
      "metadata": {
        "id": "UWbcbCY7ZBRT"
      },
      "source": [
        "spark = SparkSession.builder.enableHiveSupport().getOrCreate()"
      ],
      "execution_count": 9,
      "outputs": []
    },
    {
      "cell_type": "code",
      "metadata": {
        "id": "dC-GxEHMzCyN"
      },
      "source": [
        "title_basics = spark.read.csv('title.basics.tsv.gz', header=True, sep = '\\t')"
      ],
      "execution_count": 10,
      "outputs": []
    },
    {
      "cell_type": "code",
      "metadata": {
        "colab": {
          "base_uri": "https://localhost:8080/"
        },
        "id": "U3Bzf3cw1QI-",
        "outputId": "306c3c69-9501-4593-b00b-f6e93113b936"
      },
      "source": [
        "title_basics = title_basics.filter((title_basics.titleType == 'movie'))\n",
        "title_basics.show(5)"
      ],
      "execution_count": 11,
      "outputs": [
        {
          "output_type": "stream",
          "name": "stdout",
          "text": [
            "+---------+---------+--------------------+--------------------+-------+---------+-------+--------------+--------------------+\n",
            "|   tconst|titleType|        primaryTitle|       originalTitle|isAdult|startYear|endYear|runtimeMinutes|              genres|\n",
            "+---------+---------+--------------------+--------------------+-------+---------+-------+--------------+--------------------+\n",
            "|tt0000009|    movie|          Miss Jerry|          Miss Jerry|      0|     1894|     \\N|            45|             Romance|\n",
            "|tt0000147|    movie|The Corbett-Fitzs...|The Corbett-Fitzs...|      0|     1897|     \\N|            20|Documentary,News,...|\n",
            "|tt0000335|    movie|Soldiers of the C...|Soldiers of the C...|      0|     1900|     \\N|            \\N|     Biography,Drama|\n",
            "|tt0000502|    movie|            Bohemios|            Bohemios|      0|     1905|     \\N|           100|                  \\N|\n",
            "|tt0000574|    movie|The Story of the ...|The Story of the ...|      0|     1906|     \\N|            70|Biography,Crime,D...|\n",
            "+---------+---------+--------------------+--------------------+-------+---------+-------+--------------+--------------------+\n",
            "only showing top 5 rows\n",
            "\n"
          ]
        }
      ]
    },
    {
      "cell_type": "markdown",
      "metadata": {
        "id": "Zeqjy7fOoz_V"
      },
      "source": [
        "We define also a smaller dataset, composed of only a 10% fraction of the original set."
      ]
    },
    {
      "cell_type": "code",
      "metadata": {
        "id": "VfY72Sldg3S7"
      },
      "source": [
        "title_basics_fraction = title_basics.sample(fraction=0.1, withReplacement=False, seed = 1)"
      ],
      "execution_count": 12,
      "outputs": []
    },
    {
      "cell_type": "code",
      "metadata": {
        "id": "1CAsJ1ARklE6"
      },
      "source": [
        "title_principals = spark.read.csv('title.principals.tsv.gz', header=True, sep = '\\t')"
      ],
      "execution_count": 13,
      "outputs": []
    },
    {
      "cell_type": "code",
      "metadata": {
        "id": "VMMA_xwIlPgA",
        "colab": {
          "base_uri": "https://localhost:8080/"
        },
        "outputId": "1e4d839f-6871-4b15-9c77-dbe1513c0df3"
      },
      "source": [
        "title_principals = title_principals.filter((title_principals.category == \"actor\") | (title_principals.category == \"actress\"))\n",
        "title_principals = title_principals.select(\"tconst\",\"nconst\")\n",
        "title_principals.show(5)"
      ],
      "execution_count": 14,
      "outputs": [
        {
          "output_type": "stream",
          "name": "stdout",
          "text": [
            "+---------+---------+\n",
            "|   tconst|   nconst|\n",
            "+---------+---------+\n",
            "|tt0000005|nm0443482|\n",
            "|tt0000005|nm0653042|\n",
            "|tt0000007|nm0179163|\n",
            "|tt0000007|nm0183947|\n",
            "|tt0000008|nm0653028|\n",
            "+---------+---------+\n",
            "only showing top 5 rows\n",
            "\n"
          ]
        }
      ]
    },
    {
      "cell_type": "code",
      "metadata": {
        "id": "Km_DK4UtcR4Z",
        "colab": {
          "base_uri": "https://localhost:8080/"
        },
        "outputId": "54119745-4638-4754-8891-9894f64743e7"
      },
      "source": [
        "df_title = title_principals.join(title_basics, [\"tconst\"], 'leftsemi')\n",
        "df_title_fraction = title_principals.join(title_basics_fraction, [\"tconst\"], 'leftsemi')\n",
        "df_title.show(5)"
      ],
      "execution_count": 15,
      "outputs": [
        {
          "output_type": "stream",
          "name": "stdout",
          "text": [
            "+---------+---------+\n",
            "|   tconst|   nconst|\n",
            "+---------+---------+\n",
            "|tt0000335|nm1010955|\n",
            "|tt0000335|nm1012612|\n",
            "|tt0000335|nm1011210|\n",
            "|tt0000335|nm1012621|\n",
            "|tt0000335|nm0675239|\n",
            "+---------+---------+\n",
            "only showing top 5 rows\n",
            "\n"
          ]
        }
      ]
    },
    {
      "cell_type": "code",
      "metadata": {
        "colab": {
          "base_uri": "https://localhost:8080/"
        },
        "id": "OY3X-6swwZ8b",
        "outputId": "1fb72ddd-e7e0-40be-cc9d-a2f138d0eae4"
      },
      "source": [
        "# Number of rows (movies) in the entire dataset\n",
        "df_title.count()"
      ],
      "execution_count": null,
      "outputs": [
        {
          "output_type": "execute_result",
          "data": {
            "text/plain": [
              "1694722"
            ]
          },
          "metadata": {},
          "execution_count": 16
        }
      ]
    },
    {
      "cell_type": "code",
      "metadata": {
        "colab": {
          "base_uri": "https://localhost:8080/"
        },
        "id": "9P6IrFeJhlf1",
        "outputId": "2ceea23f-08f4-408f-e8f4-d2e7c9ffa0ae"
      },
      "source": [
        "# Number of rows (movies) in the dataset fraction 0.1\n",
        "df_title_fraction.count()"
      ],
      "execution_count": null,
      "outputs": [
        {
          "output_type": "execute_result",
          "data": {
            "text/plain": [
              "167824"
            ]
          },
          "metadata": {},
          "execution_count": 17
        }
      ]
    },
    {
      "cell_type": "markdown",
      "metadata": {
        "id": "3Wzi_eXLuYc6"
      },
      "source": [
        "In case we wanted to display the actual name of the actor/actress instead of the ID, we can run the following cells."
      ]
    },
    {
      "cell_type": "code",
      "metadata": {
        "id": "YifSXphplQ9u"
      },
      "source": [
        "name_basics = spark.read.csv('name.basics.tsv.gz', header=True, sep = '\\t')"
      ],
      "execution_count": null,
      "outputs": []
    },
    {
      "cell_type": "code",
      "metadata": {
        "id": "h5x1Tuy54SYH"
      },
      "source": [
        "name_basics = name_basics.select(\"nconst\",\"primaryName\")"
      ],
      "execution_count": null,
      "outputs": []
    },
    {
      "cell_type": "code",
      "metadata": {
        "id": "KITURN-lqUDh"
      },
      "source": [
        "df_actors_names = df_title.join(name_basics, [\"nconst\"], 'left')"
      ],
      "execution_count": null,
      "outputs": []
    },
    {
      "cell_type": "code",
      "metadata": {
        "id": "F4d1cuVSsvgA"
      },
      "source": [
        "df_actors_names = df_actors_names.select(\"tconst\",\"primaryName\")"
      ],
      "execution_count": null,
      "outputs": []
    },
    {
      "cell_type": "code",
      "metadata": {
        "colab": {
          "base_uri": "https://localhost:8080/"
        },
        "id": "KHG8XBSzw3XK",
        "outputId": "f05f7fb5-020c-4d03-9287-abff92248140"
      },
      "source": [
        "baskets_names = df_actors_names.groupBy('tconst').agg(collect_set('primaryName').alias('actors'))\n",
        "baskets_names.createOrReplaceTempView('baskets_')\n",
        "df_actors_names.show(5)\n",
        "baskets_names.show(5)"
      ],
      "execution_count": null,
      "outputs": [
        {
          "output_type": "stream",
          "name": "stdout",
          "text": [
            "+---------+-----------------+\n",
            "|   tconst|      primaryName|\n",
            "+---------+-----------------+\n",
            "|tt0000009|  Blanche Bayliss|\n",
            "|tt0000502|      El Mochuelo|\n",
            "|tt0000615|       Jim Gerald|\n",
            "|tt0000679|    L. Frank Baum|\n",
            "|tt0000009|William Courtenay|\n",
            "+---------+-----------------+\n",
            "only showing top 5 rows\n",
            "\n",
            "+---------+--------------------+\n",
            "|   tconst|              actors|\n",
            "+---------+--------------------+\n",
            "|tt0000335|[John Jones, Mr. ...|\n",
            "|tt0000502|[Antonio del Pozo...|\n",
            "|tt0000630|[Fernanda Negri P...|\n",
            "|tt0000676|[Jaime Borrás, Jo...|\n",
            "|tt0000793|      [Henny Porten]|\n",
            "+---------+--------------------+\n",
            "only showing top 5 rows\n",
            "\n"
          ]
        }
      ]
    },
    {
      "cell_type": "markdown",
      "metadata": {
        "id": "wH1JINs8t0WS"
      },
      "source": [
        "## **3. Market Basket Analysis**"
      ]
    },
    {
      "cell_type": "markdown",
      "metadata": {
        "id": "_Gx6rM-wvPoa"
      },
      "source": [
        "We define and populate baskets: for each movie (*tconst*) we assign the list of actors (*nconst*) preforming in it."
      ]
    },
    {
      "cell_type": "code",
      "metadata": {
        "id": "Sdk9aDOziw-V",
        "colab": {
          "base_uri": "https://localhost:8080/"
        },
        "outputId": "ad263d0c-8523-4c00-fa89-942af1b68447"
      },
      "source": [
        "# Computed on the whole df\n",
        "baskets = df_title.groupBy('tconst').agg(collect_set('nconst').alias('actors'))\n",
        "baskets.createOrReplaceTempView('baskets')\n",
        "baskets.show(5)"
      ],
      "execution_count": 16,
      "outputs": [
        {
          "output_type": "stream",
          "name": "stdout",
          "text": [
            "+---------+--------------------+\n",
            "|   tconst|              actors|\n",
            "+---------+--------------------+\n",
            "|tt0000335|[nm1012612, nm067...|\n",
            "|tt0000630|         [nm0624446]|\n",
            "|tt0000676|[nm0140054, nm009...|\n",
            "|tt0000793|         [nm0691995]|\n",
            "|tt0000862|[nm0264569, nm528...|\n",
            "+---------+--------------------+\n",
            "only showing top 5 rows\n",
            "\n"
          ]
        }
      ]
    },
    {
      "cell_type": "code",
      "metadata": {
        "id": "IgWMOB_gMPyW",
        "colab": {
          "base_uri": "https://localhost:8080/"
        },
        "outputId": "bca14120-c27f-40c9-a40a-68cabfae24e4"
      },
      "source": [
        "# Computed on 0.1 fraction\n",
        "baskets_fraction = df_title_fraction.groupBy('tconst').agg(collect_set('nconst').alias('actors'))\n",
        "baskets_fraction.createOrReplaceTempView('baskets_fraction')\n",
        "baskets_fraction.show(5)"
      ],
      "execution_count": null,
      "outputs": [
        {
          "output_type": "stream",
          "name": "stdout",
          "text": [
            "+---------+--------------------+\n",
            "|   tconst|              actors|\n",
            "+---------+--------------------+\n",
            "|tt0000502|[nm0252720, nm021...|\n",
            "|tt0001122|[nm0167461, nm094...|\n",
            "|tt0002119|         [nm0898366]|\n",
            "|tt0002602|[nm1267460, nm053...|\n",
            "|tt0002648|[nm0016799, nm091...|\n",
            "+---------+--------------------+\n",
            "only showing top 5 rows\n",
            "\n"
          ]
        }
      ]
    },
    {
      "cell_type": "markdown",
      "metadata": {
        "id": "qxYrYYFI8BaG"
      },
      "source": [
        "### **3.2 A-priori Algorithm**\n",
        "We implement an A-priori Algorithm from scratch.\n",
        "\n",
        "The function takes as input a Resilient Distributed Dataset (RDD) and a given threshold:\n",
        "\n",
        "*   We created a list of lists composed of each itemset and we flattened it.\n",
        "*   We created tuples associating to each item its frequency count.\n",
        "*   We filtered the singletons based on the threshold chosen and we kept only items with frequency above the level provided.\n",
        "*   We built all the possible combinations of pairs of frequent singletons retrieved in the previous step: we checked if each pair we retrieved were present in out set of baskets and then we filtered again for the threshold.\n",
        "*   We repeated the steps above to search for frequent triplets, starting from the results we obtained previously.\n",
        "\n",
        "At the end of the process we obtained a list of tuples of frequent itemsets and the corresponding frequency."
      ]
    },
    {
      "cell_type": "code",
      "metadata": {
        "id": "yYMltL7z4_Nw"
      },
      "source": [
        "conf = SparkConf().setAppName(\"MBA\")\n",
        "spark = SparkSession.builder.enableHiveSupport().config(conf = conf).getOrCreate()\n",
        "sc = spark.sparkContext"
      ],
      "execution_count": 17,
      "outputs": []
    },
    {
      "cell_type": "markdown",
      "metadata": {
        "id": "UWSw2sf99nFA"
      },
      "source": [
        "First of all, we create a Resilient Distributed Dataset RDD, which corresponds to the list of baskets of actors."
      ]
    },
    {
      "cell_type": "code",
      "metadata": {
        "colab": {
          "base_uri": "https://localhost:8080/"
        },
        "id": "UPNTG95b9lge",
        "outputId": "ab7caef5-b22e-4030-f0fb-c3009b976a2b"
      },
      "source": [
        "# Computed on the whole dataset\n",
        "baskets_actors = baskets.select('actors').rdd.flatMap(list) \n",
        "print(baskets_actors.collect()[:3])"
      ],
      "execution_count": 19,
      "outputs": [
        {
          "output_type": "stream",
          "name": "stdout",
          "text": [
            "[['nm1012612', 'nm0675260', 'nm1012621', 'nm1010955', 'nm0675239', 'nm1011210'], ['nm0624446'], ['nm0140054', 'nm0097421']]\n"
          ]
        }
      ]
    },
    {
      "cell_type": "code",
      "metadata": {
        "colab": {
          "base_uri": "https://localhost:8080/"
        },
        "id": "8nwD3au8BNgt",
        "outputId": "ee184543-79a8-4739-93b6-1d0acff384db"
      },
      "source": [
        "baskets_actors.getNumPartitions() "
      ],
      "execution_count": 20,
      "outputs": [
        {
          "output_type": "execute_result",
          "data": {
            "text/plain": [
              "4"
            ]
          },
          "metadata": {},
          "execution_count": 20
        }
      ]
    },
    {
      "cell_type": "code",
      "metadata": {
        "colab": {
          "base_uri": "https://localhost:8080/"
        },
        "id": "L5IxnYrRrgJX",
        "outputId": "c6f66ff2-b36a-4475-ed95-a4253321ad56"
      },
      "source": [
        "# Computed on the fraction 0.1\n",
        "baskets_actors_fraction = baskets_fraction.select('actors').rdd.flatMap(list) \n",
        "print(baskets_actors_fraction.collect()[:3])"
      ],
      "execution_count": null,
      "outputs": [
        {
          "output_type": "stream",
          "name": "stdout",
          "text": [
            "[['nm0252720', 'nm0215752'], ['nm0167461', 'nm0941542', 'nm0756543', 'nm0154988'], ['nm0898366']]\n"
          ]
        }
      ]
    },
    {
      "cell_type": "code",
      "metadata": {
        "colab": {
          "base_uri": "https://localhost:8080/"
        },
        "id": "7M18r3gUrqqW",
        "outputId": "f1ea999a-6b6f-460b-a116-86553e7e7ced"
      },
      "source": [
        "baskets_actors_fraction.getNumPartitions() "
      ],
      "execution_count": null,
      "outputs": [
        {
          "output_type": "execute_result",
          "data": {
            "text/plain": [
              "2"
            ]
          },
          "metadata": {},
          "execution_count": 14
        }
      ]
    },
    {
      "cell_type": "markdown",
      "metadata": {
        "id": "cxLsDjN875nH"
      },
      "source": [
        " We first define a function listing all the actors/actresses present in dataset and counting occurrences."
      ]
    },
    {
      "cell_type": "code",
      "metadata": {
        "id": "iBsbQo5X5CCo"
      },
      "source": [
        "def count_singletons(data): \n",
        "  list_singletons = data.flatMap(list).map(lambda actor: (actor, 1)).reduceByKey(lambda a, b: a+b)\n",
        "  return(list_singletons)"
      ],
      "execution_count": 21,
      "outputs": []
    },
    {
      "cell_type": "markdown",
      "metadata": {
        "id": "kLkkinYHSwUM"
      },
      "source": [
        "We display the top 10 actors present in our dataset with respect to the occurrencies."
      ]
    },
    {
      "cell_type": "code",
      "metadata": {
        "id": "38qQhYxr5nEy",
        "colab": {
          "base_uri": "https://localhost:8080/"
        },
        "outputId": "d64afb7c-5894-43b6-9847-bf07e229f509"
      },
      "source": [
        "freq_actors = count_singletons(baskets_actors).sortBy(lambda a: -a[1])\n",
        "freq_actors.take(10)"
      ],
      "execution_count": null,
      "outputs": [
        {
          "output_type": "execute_result",
          "data": {
            "text/plain": [
              "[('nm0103977', 797),\n",
              " ('nm0006982', 585),\n",
              " ('nm0648803', 565),\n",
              " ('nm0305182', 506),\n",
              " ('nm0623427', 436),\n",
              " ('nm0793813', 411),\n",
              " ('nm0246703', 391),\n",
              " ('nm0619107', 387),\n",
              " ('nm0007123', 380),\n",
              " ('nm7390393', 356)]"
            ]
          },
          "metadata": {},
          "execution_count": 34
        }
      ]
    },
    {
      "cell_type": "markdown",
      "metadata": {
        "id": "4t3bZB6IbexA"
      },
      "source": [
        "We then define a function filtering out singletons (actors) not compliant with the threshold we chose."
      ]
    },
    {
      "cell_type": "code",
      "metadata": {
        "id": "Pd0JYAiVsuK5"
      },
      "source": [
        "def actors_threshold(baskets, threshold, remove=True):\n",
        "    actors_selected = count_singletons(baskets).filter(lambda freq: freq[-1] >= threshold)\n",
        "    if remove:\n",
        "        actors_selected = actors_selected.map(lambda a: (a[:-1]))\n",
        "    return (actors_selected)"
      ],
      "execution_count": 22,
      "outputs": []
    },
    {
      "cell_type": "code",
      "metadata": {
        "id": "ZYqw_KyyFxaF"
      },
      "source": [
        "# Testing \n",
        "t1 = actors_threshold(baskets_actors, 118)"
      ],
      "execution_count": null,
      "outputs": []
    },
    {
      "cell_type": "code",
      "metadata": {
        "colab": {
          "base_uri": "https://localhost:8080/"
        },
        "id": "1BucWneWF2Tn",
        "outputId": "7967d046-0865-4220-af9f-82517609dfb3"
      },
      "source": [
        "t1.take(2)"
      ],
      "execution_count": null,
      "outputs": [
        {
          "output_type": "execute_result",
          "data": {
            "text/plain": [
              "[('nm0435229',), ('nm0002503',)]"
            ]
          },
          "metadata": {},
          "execution_count": 39
        }
      ]
    },
    {
      "cell_type": "markdown",
      "metadata": {
        "id": "QaDkZAKecrip"
      },
      "source": [
        "We define a function which performs the computations of both the functions above: *count_singletons* and *actors_threshold*."
      ]
    },
    {
      "cell_type": "code",
      "metadata": {
        "id": "eqF76qeaGq6e"
      },
      "source": [
        "def singleton_threshold(data, threshold):\n",
        "    list_singletons = data.flatMap(list).map(lambda actor: (actor, 1)).reduceByKey(lambda a, b: a+b)\n",
        "    actors_counts = list_singletons.filter(lambda freq: freq[1] >= threshold)\n",
        "    actors_selected = actors_counts.map(lambda a: (a[0]))\n",
        "    return(actors_selected)"
      ],
      "execution_count": 23,
      "outputs": []
    },
    {
      "cell_type": "code",
      "metadata": {
        "id": "WMc5LFxMHGgX"
      },
      "source": [
        "# Testing\n",
        "t2 = singleton_threshold(baskets_actors, 118)"
      ],
      "execution_count": null,
      "outputs": []
    },
    {
      "cell_type": "code",
      "metadata": {
        "colab": {
          "base_uri": "https://localhost:8080/"
        },
        "id": "VA-7gfD9IGFI",
        "outputId": "840e4f50-61e8-479f-d8d5-b17237e8cf28"
      },
      "source": [
        "t2.take(2)"
      ],
      "execution_count": null,
      "outputs": [
        {
          "output_type": "execute_result",
          "data": {
            "text/plain": [
              "['nm0435229', 'nm0002503']"
            ]
          },
          "metadata": {},
          "execution_count": 42
        }
      ]
    },
    {
      "cell_type": "markdown",
      "metadata": {
        "id": "7OexuMvmPpPK"
      },
      "source": [
        "We set the threshold we will use in the Apriori algorithm."
      ]
    },
    {
      "cell_type": "code",
      "metadata": {
        "colab": {
          "base_uri": "https://localhost:8080/"
        },
        "id": "NYwhAR5K2nFI",
        "outputId": "9786e27c-817a-42d7-f8ad-73cc78269a52"
      },
      "source": [
        "count_fraction = baskets_actors_fraction.count()\n",
        "threshold_fraction = count_fraction*0.0003\n",
        "print(count_fraction, threshold_fraction)"
      ],
      "execution_count": null,
      "outputs": [
        {
          "output_type": "stream",
          "name": "stdout",
          "text": [
            "38991 11.697299999999998\n"
          ]
        }
      ]
    },
    {
      "cell_type": "code",
      "metadata": {
        "id": "iRZXqMIfvcal",
        "colab": {
          "base_uri": "https://localhost:8080/"
        },
        "outputId": "96b941e5-0c0c-479e-b704-1ce75f23fd92"
      },
      "source": [
        "count = baskets_actors.count()\n",
        "threshold = count*0.0003\n",
        "print(count, threshold)"
      ],
      "execution_count": 24,
      "outputs": [
        {
          "output_type": "stream",
          "name": "stdout",
          "text": [
            "393759 118.12769999999999\n"
          ]
        }
      ]
    },
    {
      "cell_type": "markdown",
      "metadata": {
        "id": "B3tw6NibedQw"
      },
      "source": [
        "We define the Apriori algorithm."
      ]
    },
    {
      "cell_type": "code",
      "metadata": {
        "id": "5sWlaVulNpT5"
      },
      "source": [
        "def Apriori(baskets, threshold):\n",
        "\n",
        "    # SINGLETONS\n",
        "    # retrieve list of singletons (actors) with frequence above the threshold in data\n",
        "    singletons = singleton_threshold(baskets, threshold)\n",
        "\n",
        "    # PAIRS\n",
        "    # compute all possible combinations of 2 elements (pairs) from le list of frequent items \"singletons\"\n",
        "    comb_actors = list(combinations(singletons.toLocalIterator(), 2))\n",
        "    # create empty list\n",
        "    selected = sc.parallelize([]) \n",
        "    # select only frequent pairs, i.e. with frequence above the threshold\n",
        "    frequent_items_1 = baskets.flatMap(lambda basket: [(tuple(item), 1) for item in comb_actors if set(list(item)).issubset(set(basket))]).reduceByKey(lambda a, b: a+b).filter(lambda freq: freq[1] >= threshold)\n",
        "    # populate the list with frequent pairs   \n",
        "    selected = selected.union(frequent_items_1) \n",
        "\n",
        "    # TRIPLETS\n",
        "    # pre-process sets\n",
        "    pairs = frequent_items_1.map(lambda item: list(item[0]))\n",
        "    sin = count_singletons(singletons).map(lambda item: [item[0]])\n",
        "    # create empty list for new combinations\n",
        "    comb_actors = [] \n",
        "    # build combinations of three elements (triplets) between the pairs filtered for threshold and singletons filtered for threshold\n",
        "    for x in list(product(pairs.toLocalIterator(), sin.toLocalIterator())): \n",
        "        combination = x[0]+x[1] \n",
        "        comb_actors.append(combination)\n",
        "    # select only frequent triplets, i.e. with frequence above the threshold\n",
        "    frequent_items_2 = baskets.flatMap(lambda basket: [(tuple(item), 1) for item in comb_actors if set(list(item)).issubset(set(basket))]).reduceByKey(lambda a, b: a+b).filter(lambda freq: freq[1] >= threshold)\n",
        "    # populate the list with frequent triplets     \n",
        "    selected = selected.union(frequent_items_2) \n",
        "\n",
        "    return(selected)"
      ],
      "execution_count": 25,
      "outputs": []
    },
    {
      "cell_type": "markdown",
      "metadata": {
        "id": "lFSNWOsLLYhS"
      },
      "source": [
        "We train model on the fraction of the dataset."
      ]
    },
    {
      "cell_type": "code",
      "metadata": {
        "colab": {
          "base_uri": "https://localhost:8080/"
        },
        "id": "RH1NuvjrS8Fn",
        "outputId": "630f915e-04a9-432c-95f3-878de9ccbc2d"
      },
      "source": [
        "# 0.0003 (3052.69 sec) 51 min\n",
        "# 0.0004 (1083.38 sec) 18 min\n",
        "# 0.0005 (731.96 sec) 3 min\n",
        "start_time = time.time()\n",
        "priori_frac_0003 = Apriori(baskets_actors_fraction, threshold_fraction).collect()\n",
        "print(time.time() - start_time)\n",
        "time_frac_0003 = time.time() - start_time"
      ],
      "execution_count": null,
      "outputs": [
        {
          "output_type": "stream",
          "name": "stdout",
          "text": [
            "3052.6985170841217\n"
          ]
        }
      ]
    },
    {
      "cell_type": "markdown",
      "metadata": {
        "id": "t-sVgGH1Ltw3"
      },
      "source": [
        "We display the results of the three models below."
      ]
    },
    {
      "cell_type": "code",
      "metadata": {
        "colab": {
          "base_uri": "https://localhost:8080/"
        },
        "id": "MslAwqBLjQD1",
        "outputId": "91103f9c-b113-4c0d-adb4-b5e4328796fc"
      },
      "source": [
        "priori_frac_0003"
      ],
      "execution_count": null,
      "outputs": [
        {
          "output_type": "execute_result",
          "data": {
            "text/plain": [
              "[(('nm0006982', 'nm0623427'), 21),\n",
              " (('nm0006982', 'nm0046850'), 13),\n",
              " (('nm0006982', 'nm0419653'), 12),\n",
              " (('nm2077739', 'nm2082516'), 13),\n",
              " (('nm0648803', 'nm2373718'), 12),\n",
              " (('nm0477107', 'nm0158656'), 13),\n",
              " (('nm0246703', 'nm0688093'), 13),\n",
              " (('nm2366585', 'nm1698868'), 13),\n",
              " (('nm2077739', 'nm0648803'), 14),\n",
              " (('nm2077739', 'nm2373718'), 13),\n",
              " (('nm2082516', 'nm0648803'), 14),\n",
              " (('nm2082516', 'nm2373718'), 12)]"
            ]
          },
          "metadata": {},
          "execution_count": 26
        }
      ]
    },
    {
      "cell_type": "code",
      "metadata": {
        "colab": {
          "base_uri": "https://localhost:8080/"
        },
        "id": "PJY2zZhAI_Gb",
        "outputId": "0e502ffc-4ca3-456f-a096-7db0f8e02c67"
      },
      "source": [
        "priori_frac_0004"
      ],
      "execution_count": null,
      "outputs": [
        {
          "output_type": "execute_result",
          "data": {
            "text/plain": [
              "[(('nm0623427', 'nm0006982'), 23),\n",
              " (('nm0006982', 'nm0419653'), 27),\n",
              " (('nm0006982', 'nm0046850'), 21),\n",
              " (('nm0006982', 'nm0080246'), 17),\n",
              " (('nm0419653', 'nm0046850'), 19),\n",
              " (('nm2082516', 'nm0648803'), 16)]"
            ]
          },
          "metadata": {},
          "execution_count": 28
        }
      ]
    },
    {
      "cell_type": "code",
      "metadata": {
        "colab": {
          "base_uri": "https://localhost:8080/"
        },
        "id": "fa2cyTMZRp14",
        "outputId": "b9ddd09c-0695-48a2-d686-4ff25d88ce0a"
      },
      "source": [
        "priori_frac_0005"
      ],
      "execution_count": null,
      "outputs": [
        {
          "output_type": "execute_result",
          "data": {
            "text/plain": [
              "[(('nm0623427', 'nm0006982'), 23),\n",
              " (('nm0006982', 'nm0419653'), 27),\n",
              " (('nm0006982', 'nm0046850'), 21)]"
            ]
          },
          "metadata": {},
          "execution_count": 30
        }
      ]
    },
    {
      "cell_type": "code",
      "metadata": {
        "id": "R9ni-FZ2ec3n"
      },
      "source": [
        "with open(\"/content/drive/MyDrive/Università/amd_Market_Basket/priori_frac_0003.pkl\", \"wb\") as f:\n",
        "    pickle.dump(priori_frac_0003, f)"
      ],
      "execution_count": null,
      "outputs": []
    },
    {
      "cell_type": "code",
      "metadata": {
        "id": "-_zBtKlbG3gF"
      },
      "source": [
        "with open(\"/content/drive/MyDrive/Università/amd_Market_Basket/time_frac_0003.pkl\", \"wb\") as f:\n",
        "    pickle.dump(time_frac_0003, f)"
      ],
      "execution_count": null,
      "outputs": []
    },
    {
      "cell_type": "code",
      "metadata": {
        "colab": {
          "base_uri": "https://localhost:8080/",
          "height": 142
        },
        "id": "uxIBk6XDNLbo",
        "outputId": "27def4bc-51f8-43ea-ae07-76ec783fcdbc"
      },
      "source": [
        "time = [4675, 1083, 731]\n",
        "support = ['0.0003', '0.0004', '0.0005']\n",
        "d = {'Support':support, 'Seconds':time}\n",
        "df_models_frac = pd.DataFrame(d)\n",
        "df_models_frac"
      ],
      "execution_count": null,
      "outputs": [
        {
          "output_type": "execute_result",
          "data": {
            "text/html": [
              "<div>\n",
              "<style scoped>\n",
              "    .dataframe tbody tr th:only-of-type {\n",
              "        vertical-align: middle;\n",
              "    }\n",
              "\n",
              "    .dataframe tbody tr th {\n",
              "        vertical-align: top;\n",
              "    }\n",
              "\n",
              "    .dataframe thead th {\n",
              "        text-align: right;\n",
              "    }\n",
              "</style>\n",
              "<table border=\"1\" class=\"dataframe\">\n",
              "  <thead>\n",
              "    <tr style=\"text-align: right;\">\n",
              "      <th></th>\n",
              "      <th>Support</th>\n",
              "      <th>Seconds</th>\n",
              "    </tr>\n",
              "  </thead>\n",
              "  <tbody>\n",
              "    <tr>\n",
              "      <th>0</th>\n",
              "      <td>0.0003</td>\n",
              "      <td>4675</td>\n",
              "    </tr>\n",
              "    <tr>\n",
              "      <th>1</th>\n",
              "      <td>0.0004</td>\n",
              "      <td>1083</td>\n",
              "    </tr>\n",
              "    <tr>\n",
              "      <th>2</th>\n",
              "      <td>0.0005</td>\n",
              "      <td>731</td>\n",
              "    </tr>\n",
              "  </tbody>\n",
              "</table>\n",
              "</div>"
            ],
            "text/plain": [
              "  Support  Seconds\n",
              "0  0.0003     4675\n",
              "1  0.0004     1083\n",
              "2  0.0005      731"
            ]
          },
          "metadata": {},
          "execution_count": 37
        }
      ]
    },
    {
      "cell_type": "code",
      "metadata": {
        "colab": {
          "base_uri": "https://localhost:8080/",
          "height": 295
        },
        "id": "5o6w0ntsYzw4",
        "outputId": "9c081695-df50-4040-c91a-8900e828239f"
      },
      "source": [
        "plot_time_frac = df_models_frac.plot(x=\"Support\", y=\"Seconds\", ylabel='Seconds', legend=False, title='Seconds spent in computation per support value', ylim=(500,5000), rot=0)"
      ],
      "execution_count": null,
      "outputs": [
        {
          "output_type": "display_data",
          "data": {
            "image/png": "[encoded data removed]",
            "text/plain": [
              "<Figure size 432x288 with 1 Axes>"
            ]
          },
          "metadata": {
            "needs_background": "light"
          }
        }
      ]
    },
    {
      "cell_type": "code",
      "metadata": {
        "id": "Crkn4Eremnw2"
      },
      "source": [
        "plot_time_frac = plot_time_frac.get_figure()\n",
        "plot_time_frac.savefig(\"/content/drive/MyDrive/Università/amd_Market_Basket/plot_time_frac.png\")"
      ],
      "execution_count": null,
      "outputs": []
    },
    {
      "cell_type": "code",
      "metadata": {
        "id": "BqGazE7NMVhg"
      },
      "source": [
        "df_priori_frac_0003 = pd.DataFrame(priori_frac_0003, columns=['Actors', 'Frequency'])\n",
        "df_priori_frac_0004 = pd.DataFrame(priori_frac_0004, columns=['Actors', 'Frequency'])\n",
        "df_priori_frac_0005 = pd.DataFrame(priori_frac_0005, columns=['Actors', 'Frequency'])"
      ],
      "execution_count": null,
      "outputs": []
    },
    {
      "cell_type": "code",
      "metadata": {
        "id": "CyPIdmPPOoHQ"
      },
      "source": [
        "df_priori_frac_0003.to_csv('df_priori_frac_0003.csv')\n",
        "df_priori_frac_0004.to_csv('df_priori_frac_0004.csv')\n",
        "df_priori_frac_0005.to_csv('df_priori_frac_0005.csv')"
      ],
      "execution_count": null,
      "outputs": []
    },
    {
      "cell_type": "code",
      "metadata": {
        "id": "nuR8LdvKZzmH"
      },
      "source": [
        "!cp df_priori_frac_0003.csv /content/drive/MyDrive/Università/amd_Market_Basket/"
      ],
      "execution_count": null,
      "outputs": []
    },
    {
      "cell_type": "code",
      "metadata": {
        "id": "iYazHdIkZzaB"
      },
      "source": [
        "!cp df_priori_frac_0004.csv /content/drive/MyDrive/Università/amd_Market_Basket/"
      ],
      "execution_count": null,
      "outputs": []
    },
    {
      "cell_type": "code",
      "metadata": {
        "id": "uhDx8OQVPTKD"
      },
      "source": [
        "!cp df_priori_frac_0005.csv /content/drive/MyDrive/Università/amd_Market_Basket/"
      ],
      "execution_count": null,
      "outputs": []
    },
    {
      "cell_type": "markdown",
      "metadata": {
        "id": "eIoWrSsvXO_G"
      },
      "source": [
        "---"
      ]
    },
    {
      "cell_type": "code",
      "metadata": {
        "id": "BKWoUHBhvPJv"
      },
      "source": [
        "# 0.0003 () > 1 ora\n",
        "# 0.0004 (4317.18 sec) 1 ora 10min\n",
        "# 0.0005 (1198.61 sec) 20 min\n",
        "start_time = time.time()\n",
        "priori_0003 = Apriori(baskets_actors, threshold).collect() # 0.0003 20 min\n",
        "print(time.time() - start_time)\n",
        "time_0003 = time.time() - start_time"
      ],
      "execution_count": null,
      "outputs": []
    },
    {
      "cell_type": "markdown",
      "metadata": {
        "id": "vfW_7MwOL0HQ"
      },
      "source": [
        "We display the results of the three models below."
      ]
    },
    {
      "cell_type": "code",
      "metadata": {
        "id": "mcqkikhsrADo"
      },
      "source": [
        "priori_0003"
      ],
      "execution_count": null,
      "outputs": []
    },
    {
      "cell_type": "code",
      "metadata": {
        "id": "Ld4j6Ovkl-r2"
      },
      "source": [
        "with open(\"/content/drive/MyDrive/Università/amd_Market_Basket/priori_0005.pkl\", \"rb\") as f:\n",
        "    priori_0005 = pickle.load(f)"
      ],
      "execution_count": null,
      "outputs": []
    },
    {
      "cell_type": "code",
      "metadata": {
        "colab": {
          "base_uri": "https://localhost:8080/"
        },
        "id": "RuLn3e-tm6K1",
        "outputId": "9d3cbde4-0c20-4195-ea3a-d36b93435b5d"
      },
      "source": [
        "priori_0005"
      ],
      "execution_count": null,
      "outputs": [
        {
          "output_type": "execute_result",
          "data": {
            "text/plain": [
              "[(('nm0006982', 'nm0623427'), 236)]"
            ]
          },
          "metadata": {},
          "execution_count": 49
        }
      ]
    },
    {
      "cell_type": "code",
      "metadata": {
        "colab": {
          "base_uri": "https://localhost:8080/"
        },
        "id": "r7j-q7SnzknL",
        "outputId": "a6e282da-9a51-4be3-8081-bbc5d3f2bc25"
      },
      "source": [
        "priori_0004"
      ],
      "execution_count": null,
      "outputs": [
        {
          "output_type": "execute_result",
          "data": {
            "text/plain": [
              "[(('nm0006982', 'nm0623427'), 236),\n",
              " (('nm0006982', 'nm0419653'), 162),\n",
              " (('nm0006982', 'nm0046850'), 169)]"
            ]
          },
          "metadata": {},
          "execution_count": 38
        }
      ]
    },
    {
      "cell_type": "code",
      "metadata": {
        "colab": {
          "base_uri": "https://localhost:8080/"
        },
        "id": "9wUjwiRYlHli",
        "outputId": "4ed29751-ebfd-436e-d149-d07b65afd022"
      },
      "source": [
        "priori_0005"
      ],
      "execution_count": null,
      "outputs": [
        {
          "output_type": "execute_result",
          "data": {
            "text/plain": [
              "[(('nm0006982', 'nm0623427'), 236)]"
            ]
          },
          "metadata": {},
          "execution_count": 38
        }
      ]
    },
    {
      "cell_type": "code",
      "metadata": {
        "id": "NCjxbEnFzgqj"
      },
      "source": [
        "with open(\"/content/drive/MyDrive/Università/amd_Market_Basket/priori_0003.pkl\", \"wb\") as f:\n",
        "    pickle.dump(priori_0003, f)"
      ],
      "execution_count": null,
      "outputs": []
    },
    {
      "cell_type": "code",
      "metadata": {
        "id": "-gdr9vBeHDfl"
      },
      "source": [
        "with open(\"/content/drive/MyDrive/Università/amd_Market_Basket/time_0003.pkl\", \"wb\") as f:\n",
        "    pickle.dump(time_0003, f)"
      ],
      "execution_count": null,
      "outputs": []
    },
    {
      "cell_type": "code",
      "metadata": {
        "id": "mjmHDWt9SHFk"
      },
      "source": [
        "df_priori_frac_0003 = pd.DataFrame(priori_frac_0003, columns=['Actors', 'Frequency'])\n",
        "df_priori_frac_0004 = pd.DataFrame(priori_frac_0004, columns=['Actors', 'Frequency'])\n",
        "df_priori_frac_0005 = pd.DataFrame(priori_frac_0005, columns=['Actors', 'Frequency'])"
      ],
      "execution_count": null,
      "outputs": []
    },
    {
      "cell_type": "markdown",
      "metadata": {
        "id": "sjPra9wW4_rQ"
      },
      "source": [
        "---"
      ]
    },
    {
      "cell_type": "markdown",
      "metadata": {
        "id": "7VhVy6zBwJwh"
      },
      "source": [
        "### **3.1 FP-Growth**\n",
        "In this section we will implement the FP-Growth algorithm by using the *FPGrowth* function of Spark."
      ]
    },
    {
      "cell_type": "markdown",
      "metadata": {
        "id": "36n8Xy6lr9Uy"
      },
      "source": [
        "We first display the relation between speed of the computation and the size of the dataset."
      ]
    },
    {
      "cell_type": "code",
      "metadata": {
        "id": "z-0wS3GgsKHz"
      },
      "source": [
        "subset80 = baskets_fraction.sample(fraction=0.8, withReplacement=False, seed = 1)\n",
        "subset60 = baskets_fraction.sample(fraction=0.6, withReplacement=False, seed = 1)\n",
        "subset40 = baskets_fraction.sample(fraction=0.4, withReplacement=False, seed = 1)\n",
        "subset20 = baskets_fraction.sample(fraction=0.2, withReplacement=False, seed = 1)"
      ],
      "execution_count": null,
      "outputs": []
    },
    {
      "cell_type": "code",
      "metadata": {
        "colab": {
          "base_uri": "https://localhost:8080/"
        },
        "id": "Eg2OliBwr89L",
        "outputId": "ab7669fd-b24a-4e33-b2b5-8bbb04e0576f"
      },
      "source": [
        "seconds = []\n",
        "size = []\n",
        "subsets = [baskets_fraction, subset80,  subset60, subset40, subset20]\n",
        "fpGrowth = FPGrowth(itemsCol=\"actors\", minSupport=0.0005)\n",
        "\n",
        "for sub in tqdm(subsets):\n",
        "    c = sub.count()\n",
        "    size.append(c)\n",
        "    start_time = time.time()\n",
        "    model_ = fpGrowth.fit(sub)\n",
        "    seconds.append(time.time() - start_time)"
      ],
      "execution_count": null,
      "outputs": [
        {
          "output_type": "stream",
          "name": "stderr",
          "text": [
            "100%|██████████| 5/5 [16:40<00:00, 200.03s/it]\n"
          ]
        }
      ]
    },
    {
      "cell_type": "code",
      "metadata": {
        "colab": {
          "base_uri": "https://localhost:8080/",
          "height": 203
        },
        "id": "5_K7oj346ODk",
        "outputId": "55a4ba64-d9c9-4a11-cdf8-e38da7459db1"
      },
      "source": [
        "size_time = {'Size':size, 'Seconds':seconds}\n",
        "df_size_time = pd.DataFrame(size_time)\n",
        "df_size_time"
      ],
      "execution_count": null,
      "outputs": [
        {
          "output_type": "execute_result",
          "data": {
            "text/html": [
              "<div>\n",
              "<style scoped>\n",
              "    .dataframe tbody tr th:only-of-type {\n",
              "        vertical-align: middle;\n",
              "    }\n",
              "\n",
              "    .dataframe tbody tr th {\n",
              "        vertical-align: top;\n",
              "    }\n",
              "\n",
              "    .dataframe thead th {\n",
              "        text-align: right;\n",
              "    }\n",
              "</style>\n",
              "<table border=\"1\" class=\"dataframe\">\n",
              "  <thead>\n",
              "    <tr style=\"text-align: right;\">\n",
              "      <th></th>\n",
              "      <th>Size</th>\n",
              "      <th>Seconds</th>\n",
              "    </tr>\n",
              "  </thead>\n",
              "  <tbody>\n",
              "    <tr>\n",
              "      <th>0</th>\n",
              "      <td>38991</td>\n",
              "      <td>135.633827</td>\n",
              "    </tr>\n",
              "    <tr>\n",
              "      <th>1</th>\n",
              "      <td>31175</td>\n",
              "      <td>134.463724</td>\n",
              "    </tr>\n",
              "    <tr>\n",
              "      <th>2</th>\n",
              "      <td>23441</td>\n",
              "      <td>134.571612</td>\n",
              "    </tr>\n",
              "    <tr>\n",
              "      <th>3</th>\n",
              "      <td>15639</td>\n",
              "      <td>135.505616</td>\n",
              "    </tr>\n",
              "    <tr>\n",
              "      <th>4</th>\n",
              "      <td>7801</td>\n",
              "      <td>134.859666</td>\n",
              "    </tr>\n",
              "  </tbody>\n",
              "</table>\n",
              "</div>"
            ],
            "text/plain": [
              "    Size     Seconds\n",
              "0  38991  135.633827\n",
              "1  31175  134.463724\n",
              "2  23441  134.571612\n",
              "3  15639  135.505616\n",
              "4   7801  134.859666"
            ]
          },
          "metadata": {},
          "execution_count": 26
        }
      ]
    },
    {
      "cell_type": "code",
      "metadata": {
        "colab": {
          "base_uri": "https://localhost:8080/",
          "height": 295
        },
        "id": "8GiRMYmyvC2D",
        "outputId": "48b587bb-cf04-462d-f332-92c6e66aca47"
      },
      "source": [
        "plot_size_time = df_size_time.plot(x=\"Size\", y=\"Seconds\", ylabel='Seconds',legend=False, title='Seconds spent in computation per size of dataset')"
      ],
      "execution_count": null,
      "outputs": [
        {
          "output_type": "display_data",
          "data": {
            "image/png": "[encoded data removed]",
            "text/plain": [
              "<Figure size 432x288 with 1 Axes>"
            ]
          },
          "metadata": {
            "needs_background": "light"
          }
        }
      ]
    },
    {
      "cell_type": "markdown",
      "metadata": {
        "id": "i5DjG8_17KQS"
      },
      "source": [
        "We run it using different values of support to see the differences in terms of time spent in computation and number of association rule found by the algorithm."
      ]
    },
    {
      "cell_type": "code",
      "metadata": {
        "colab": {
          "base_uri": "https://localhost:8080/"
        },
        "id": "ijhbkq98mg-h",
        "outputId": "de905a3d-99c8-433b-b818-008bf5800844"
      },
      "source": [
        "seconds = []\n",
        "confidences = []\n",
        "n_rules = []\n",
        "supports = [0.00001, 0.00002, 0.00003, 0.00004, 0.0001]\n",
        "\n",
        "for sup in tqdm(supports):\n",
        "    fpGrowth = FPGrowth(itemsCol=\"actors\", minSupport=sup)\n",
        "    start_time = time.time()\n",
        "    model_ = fpGrowth.fit(baskets)\n",
        "    seconds.append([sup, time.time() - start_time])\n",
        "    associationRules_ = model_.associationRules\n",
        "    rules = associationRules_.count()\n",
        "    n_rules.append([sup, rules])\n",
        "    conf = associationRules_.select(avg(col(\"confidence\"))).first()[0]\n",
        "    confidences.append([sup, conf])"
      ],
      "execution_count": null,
      "outputs": [
        {
          "output_type": "stream",
          "name": "stderr",
          "text": [
            "\r  0%|          | 0/5 [00:00<?, ?it/s]/usr/local/lib/python3.7/dist-packages/pyspark/sql/context.py:127: FutureWarning: Deprecated in 3.0.0. Use SparkSession.builder.getOrCreate() instead.\n",
            "  FutureWarning\n",
            "100%|██████████| 5/5 [14:13<00:00, 170.61s/it]\n"
          ]
        }
      ]
    },
    {
      "cell_type": "markdown",
      "metadata": {
        "id": "Hl1Aj1s0N9bm"
      },
      "source": [
        "We plot the relation between value of support and time spent in computing."
      ]
    },
    {
      "cell_type": "code",
      "metadata": {
        "colab": {
          "base_uri": "https://localhost:8080/",
          "height": 295
        },
        "id": "SHu3DOvSsqCx",
        "outputId": "bb61b4d4-fb61-49cb-c63a-c9c639477214"
      },
      "source": [
        "df_results = pd.DataFrame(seconds, columns=[\"support\", \"seconds\"])\n",
        "plot_time = df_results.plot(x=\"support\", y=\"seconds\", ylabel='seconds',legend=False, title='Seconds spent in computation per support value')\n",
        "df_results.to_csv(\"time_results_fpgrowth.csv\", index=False)"
      ],
      "execution_count": null,
      "outputs": [
        {
          "output_type": "display_data",
          "data": {
            "image/png": "[encoded data removed]",
            "text/plain": [
              "<Figure size 432x288 with 1 Axes>"
            ]
          },
          "metadata": {
            "needs_background": "light"
          }
        }
      ]
    },
    {
      "cell_type": "code",
      "metadata": {
        "id": "t6VPxJ9Cw4BM"
      },
      "source": [
        "plot_time = plot_time.get_figure()\n",
        "plot_time.savefig(\"/content/drive/MyDrive/Università/amd_Market_Basket/plot_time.png\")"
      ],
      "execution_count": null,
      "outputs": []
    },
    {
      "cell_type": "code",
      "metadata": {
        "colab": {
          "base_uri": "https://localhost:8080/",
          "height": 203
        },
        "id": "8Z0q0E8AUCx9",
        "outputId": "2a2f6fa5-f6a7-49b9-f281-ed19ae0512ef"
      },
      "source": [
        "df_results"
      ],
      "execution_count": null,
      "outputs": [
        {
          "output_type": "execute_result",
          "data": {
            "text/html": [
              "<div>\n",
              "<style scoped>\n",
              "    .dataframe tbody tr th:only-of-type {\n",
              "        vertical-align: middle;\n",
              "    }\n",
              "\n",
              "    .dataframe tbody tr th {\n",
              "        vertical-align: top;\n",
              "    }\n",
              "\n",
              "    .dataframe thead th {\n",
              "        text-align: right;\n",
              "    }\n",
              "</style>\n",
              "<table border=\"1\" class=\"dataframe\">\n",
              "  <thead>\n",
              "    <tr style=\"text-align: right;\">\n",
              "      <th></th>\n",
              "      <th>support</th>\n",
              "      <th>seconds</th>\n",
              "    </tr>\n",
              "  </thead>\n",
              "  <tbody>\n",
              "    <tr>\n",
              "      <th>0</th>\n",
              "      <td>0.00001</td>\n",
              "      <td>180.346866</td>\n",
              "    </tr>\n",
              "    <tr>\n",
              "      <th>1</th>\n",
              "      <td>0.00002</td>\n",
              "      <td>102.854542</td>\n",
              "    </tr>\n",
              "    <tr>\n",
              "      <th>2</th>\n",
              "      <td>0.00003</td>\n",
              "      <td>98.167766</td>\n",
              "    </tr>\n",
              "    <tr>\n",
              "      <th>3</th>\n",
              "      <td>0.00004</td>\n",
              "      <td>98.828109</td>\n",
              "    </tr>\n",
              "    <tr>\n",
              "      <th>4</th>\n",
              "      <td>0.00010</td>\n",
              "      <td>98.243761</td>\n",
              "    </tr>\n",
              "  </tbody>\n",
              "</table>\n",
              "</div>"
            ],
            "text/plain": [
              "   support     seconds\n",
              "0  0.00001  180.346866\n",
              "1  0.00002  102.854542\n",
              "2  0.00003   98.167766\n",
              "3  0.00004   98.828109\n",
              "4  0.00010   98.243761"
            ]
          },
          "metadata": {},
          "execution_count": 29
        }
      ]
    },
    {
      "cell_type": "code",
      "metadata": {
        "id": "N3UnT45au-YQ"
      },
      "source": [
        "!cp time_results_fpgrowth.csv /content/drive/MyDrive/Università/amd_Market_Basket/"
      ],
      "execution_count": null,
      "outputs": []
    },
    {
      "cell_type": "code",
      "metadata": {
        "colab": {
          "base_uri": "https://localhost:8080/",
          "height": 295
        },
        "id": "sqxT5ZyDK6ni",
        "outputId": "e959c5f6-876f-46d9-a790-451987fd86dd"
      },
      "source": [
        "pd.set_option('display.float_format', lambda x: f'%.{len(str(x%1))-2}f' % x)\n",
        "df_nrules = pd.DataFrame(n_rules, columns=[\"support\", \"n_rules\"])\n",
        "plot_nrules = df_nrules.plot.bar(x=\"support\", y=\"n_rules\", ylabel='number of association rules', legend=False, title='Number of association rules per support value', rot=0)\n",
        "df_nrules.to_csv(\"nrules_results_fpgrowth.csv\", index=False)"
      ],
      "execution_count": null,
      "outputs": [
        {
          "output_type": "display_data",
          "data": {
            "image/png": "[encoded data removed]",
            "text/plain": [
              "<Figure size 432x288 with 1 Axes>"
            ]
          },
          "metadata": {
            "needs_background": "light"
          }
        }
      ]
    },
    {
      "cell_type": "code",
      "metadata": {
        "id": "4MVvxOelyZeL"
      },
      "source": [
        "plot_nrules = plot_nrules.get_figure()\n",
        "plot_nrules.savefig(\"/content/drive/MyDrive/Università/amd_Market_Basket/plot_nrules.png\")"
      ],
      "execution_count": null,
      "outputs": []
    },
    {
      "cell_type": "code",
      "metadata": {
        "colab": {
          "base_uri": "https://localhost:8080/",
          "height": 203
        },
        "id": "_Jjw79u8LMtb",
        "outputId": "f2a5ee2f-b682-4fe8-ac89-e59387a6b44b"
      },
      "source": [
        "df_nrules"
      ],
      "execution_count": null,
      "outputs": [
        {
          "output_type": "execute_result",
          "data": {
            "text/html": [
              "<div>\n",
              "<style scoped>\n",
              "    .dataframe tbody tr th:only-of-type {\n",
              "        vertical-align: middle;\n",
              "    }\n",
              "\n",
              "    .dataframe tbody tr th {\n",
              "        vertical-align: top;\n",
              "    }\n",
              "\n",
              "    .dataframe thead th {\n",
              "        text-align: right;\n",
              "    }\n",
              "</style>\n",
              "<table border=\"1\" class=\"dataframe\">\n",
              "  <thead>\n",
              "    <tr style=\"text-align: right;\">\n",
              "      <th></th>\n",
              "      <th>support</th>\n",
              "      <th>n_rules</th>\n",
              "    </tr>\n",
              "  </thead>\n",
              "  <tbody>\n",
              "    <tr>\n",
              "      <th>0</th>\n",
              "      <td>0.00001</td>\n",
              "      <td>25583</td>\n",
              "    </tr>\n",
              "    <tr>\n",
              "      <th>1</th>\n",
              "      <td>0.00002</td>\n",
              "      <td>3893</td>\n",
              "    </tr>\n",
              "    <tr>\n",
              "      <th>2</th>\n",
              "      <td>0.00003</td>\n",
              "      <td>2051</td>\n",
              "    </tr>\n",
              "    <tr>\n",
              "      <th>3</th>\n",
              "      <td>0.00004</td>\n",
              "      <td>940</td>\n",
              "    </tr>\n",
              "    <tr>\n",
              "      <th>4</th>\n",
              "      <td>0.00010</td>\n",
              "      <td>120</td>\n",
              "    </tr>\n",
              "  </tbody>\n",
              "</table>\n",
              "</div>"
            ],
            "text/plain": [
              "   support  n_rules\n",
              "0  0.00001    25583\n",
              "1  0.00002     3893\n",
              "2  0.00003     2051\n",
              "3  0.00004      940\n",
              "4  0.00010      120"
            ]
          },
          "metadata": {},
          "execution_count": 37
        }
      ]
    },
    {
      "cell_type": "code",
      "metadata": {
        "id": "gYM66UpWMPgx"
      },
      "source": [
        "!cp nrules_results_fpgrowth.csv /content/drive/MyDrive/Università/amd_Market_Basket/"
      ],
      "execution_count": null,
      "outputs": []
    },
    {
      "cell_type": "markdown",
      "metadata": {
        "id": "CAQrXpyzUOtb"
      },
      "source": [
        "In the following part we selected support value 0.00001 and we display the results of the model."
      ]
    },
    {
      "cell_type": "code",
      "metadata": {
        "id": "rRC7B1tYj-Fw"
      },
      "source": [
        "fpGrowth = FPGrowth(itemsCol=\"actors\", minSupport=0.00001)\n",
        "model = fpGrowth.fit(baskets)"
      ],
      "execution_count": null,
      "outputs": []
    },
    {
      "cell_type": "markdown",
      "metadata": {
        "id": "5iZmFgrmTeuI"
      },
      "source": [
        "We Display association rules generated by the model computed setting the support equal to 0.00001"
      ]
    },
    {
      "cell_type": "code",
      "metadata": {
        "colab": {
          "base_uri": "https://localhost:8080/"
        },
        "id": "PJocZJTdkBDj",
        "outputId": "130c2a28-7cd7-46df-885e-c49423e2c94d"
      },
      "source": [
        "associationRules = model.associationRules\n",
        "associationRules.createOrReplaceTempView(\"associationRules\")\n",
        "associationRules.show()"
      ],
      "execution_count": null,
      "outputs": [
        {
          "output_type": "stream",
          "name": "stderr",
          "text": [
            "/usr/local/lib/python3.7/dist-packages/pyspark/sql/context.py:127: FutureWarning: Deprecated in 3.0.0. Use SparkSession.builder.getOrCreate() instead.\n",
            "  FutureWarning\n"
          ]
        },
        {
          "output_type": "stream",
          "name": "stdout",
          "text": [
            "+--------------------+-----------+------------------+------------------+--------------------+\n",
            "|          antecedent| consequent|        confidence|              lift|             support|\n",
            "+--------------------+-----------+------------------+------------------+--------------------+\n",
            "|         [nm3721804]|[nm1990182]|               0.8|3841.5512195121955|1.015849796449097E-5|\n",
            "|         [nm3721804]|[nm1984183]|               1.0|2250.0514285714285|1.269812245561371...|\n",
            "|[nm0623325, nm381...|[nm0706691]|0.8571428571428571|1071.4530612244896|1.523774694673645...|\n",
            "|[nm2719915, nm128...|[nm1770187]|0.8571428571428571|2836.1992797118846|1.523774694673645...|\n",
            "|[nm2719915, nm128...|[nm2077739]|0.8571428571428571|2884.6813186813188|1.523774694673645...|\n",
            "|[nm2719915, nm128...|[nm0648803]|               1.0| 696.9185840707964| 1.77773714378592E-5|\n",
            "|[nm1371510, nm075...|[nm1285427]|               0.8|3461.6175824175825|1.015849796449097E-5|\n",
            "|[nm0931054, nm041...|[nm0001889]|               0.8|          9843.975|3.047549389347291E-5|\n",
            "|[nm1283907, nm064...|[nm2373718]|0.8909090909090909| 2740.652130681818|1.244416000650144E-4|\n",
            "|[nm1283907, nm064...|[nm2082516]|0.9272727272727272|2267.8383963862225|1.295208490472598...|\n",
            "|[nm0120178, nm092...|[nm0410010]|               0.8| 3181.890909090909|1.015849796449097E-5|\n",
            "|[nm2679281, nm029...|[nm0945427]|               1.0|1806.2339449541282|4.063399185796388E-5|\n",
            "|[nm2679281, nm029...|[nm2394215]|             0.875| 3786.144230769231| 3.55547428757184E-5|\n",
            "|[nm0667024, nm037...|[nm0327762]|               1.0| 35796.27272727273| 1.77773714378592E-5|\n",
            "|[nm1039432, nm005...|[nm0042874]|               1.0| 4424.258426966292|1.015849796449097E-5|\n",
            "|[nm1039432, nm005...|[nm0781958]|               1.0| 8750.199999999999|1.015849796449097E-5|\n",
            "|[nm1039432, nm030...|[nm0058601]|               1.0| 8035.897959183672|1.015849796449097E-5|\n",
            "|[nm1039432, nm030...|[nm0042874]|               1.0| 4424.258426966292|1.015849796449097E-5|\n",
            "|[nm1039432, nm030...|[nm0781958]|               1.0| 8750.199999999999|1.015849796449097E-5|\n",
            "|[nm3722581, nm288...|[nm1990182]|               1.0| 4801.939024390244|2.285662042010468...|\n",
            "+--------------------+-----------+------------------+------------------+--------------------+\n",
            "only showing top 20 rows\n",
            "\n"
          ]
        }
      ]
    }
  ]
}